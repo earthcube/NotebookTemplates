{
 "cells": [
  {
   "cell_type": "code",
   "execution_count": null,
   "metadata": {
    "tags": [
     "parameters"
    ]
   },
   "outputs": [],
   "source": [
    "\n",
    "import ipyparams\n",
    "import json\n"
   ]
  },
  {
   "cell_type": "code",
   "execution_count": null,
   "outputs": [],
   "source": [
    "ds = ipyparams.params['dataset']\n",
    "print(ds)\n",
    "dso = json.loads(ds)\n",
    "\n",
    "dso\n",
    "# if this cell fails the first run.\n",
    "# run a second time, and it works.\n",
    "url,urn=dso.get('contenturl'),dso.get('urn')\n",
    "print(f'url={url} urn={urn}')"
   ],
   "metadata": {
    "collapsed": false,
    "pycharm": {
     "name": "#%%\n"
    }
   }
  },
  {
   "cell_type": "code",
   "execution_count": null,
   "outputs": [],
   "source": [
    "import httpimport\n",
    "with httpimport.github_repo('earthcube', 'earthcube_utilities'):\n",
    "    import earthcube_utilities as ec\n",
    "ec.wget_rdf(urn)\n",
    "#!ls -l   or FilePaneBrowser on left, to see it\n",
    "df=ec.read_file(url)\n",
    "df"
   ],
   "metadata": {
    "collapsed": false,
    "pycharm": {
     "name": "#%%\n"
    }
   }
  },
  {
   "cell_type": "code",
   "execution_count": null,
   "outputs": [],
   "source": [
    "!ls -l\n"
   ],
   "metadata": {
    "collapsed": false,
    "pycharm": {
     "name": "#%%\n"
    }
   }
  }
 ],
 "metadata": {
  "celltoolbar": "Tags",
  "kernelspec": {
   "display_name": "Python 3",
   "language": "python",
   "name": "python3"
  },
  "language_info": {
   "codemirror_mode": {
    "name": "ipython",
    "version": 3
   },
   "file_extension": ".py",
   "mimetype": "text/x-python",
   "name": "python",
   "nbconvert_exporter": "python",
   "pygments_lexer": "ipython3",
   "version": "3.8.10"
  }
 },
 "nbformat": 4,
 "nbformat_minor": 4
}