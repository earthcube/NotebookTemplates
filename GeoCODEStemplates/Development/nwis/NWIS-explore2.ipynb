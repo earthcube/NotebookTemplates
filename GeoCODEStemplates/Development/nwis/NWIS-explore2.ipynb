{
 "cells": [
  {
   "cell_type": "markdown",
   "metadata": {},
   "source": [
    "# Data explorer for NWIS Time Series data\n",
    "\n",
    "S.M. Richard 2018-08-02\n",
    "\n",
    "NWIS is the National Water Information System, with data on surface and groundwater in the USA.\n",
    "This notebook uses data delivered in a sort of standardized tab-delimited text format 'rdb'.  Documentation for the format is at [Tab-delimited format info](https://waterdata.usgs.gov/nwis/?tab_delimited_format_info), [RDB format specification](https://pubs.usgs.gov/of/2003/ofr03123/6.4rdb_format.pdf), with [updates: from June 2016](https://help.waterdata.usgs.gov/news/June-10-2016).. \n",
    "\n",
    "Actual data (see the example URLs included below in one of the cells) shows some variability in conformance to the spec, and also probably reflect evolution of the spec over time.\n",
    "\n",
    "* RDB file Header:\n",
    "\n",
    "Important pattern for dataset reponses to queries to the NWIS service is the is header in the text file with lines beginning with '#' character.\n",
    "\n",
    "  \n",
    "The header section contains zero or more lines with information such as disclaimers, sites, parameter and location names. \n",
    "The header comment lines start with a sharp sign (#) followed by (one or more...) space character followed by any text desired.\n",
    "\n",
    "* Column-name row:  \n",
    "The header is followed by exactly one tab-delimited column-name row. The fields in the tab-delimited column-name row contain the names of each column.\n",
    "\n",
    "* Column definition row:  \n",
    "This is followed by exactly one column-definition row.  The fields in the tab-delimited column-definition row contain the data definitions and optional column documentation for each column.\n",
    "\n",
    "* Data section:  \n",
    "Then is the data section consisting of any number of rows of tab-delimited data fields. Data rows must have exactly the same number of tab-delimited columns as both the column-name and column-definition rows. Null data values are allowed. \n",
    "\n",
    "NWIS data urls are like https://nwis.waterdata.usgs.gov/{state}/nwis/{dataseries}?site_no={siteIDstring}\n",
    "the {state} part of the host name is optional, can be left out when site_no is provided; it uses standard two character state-name abbreviations (e.g. md, ca, nv...)\n",
    "{dataseries} is a string identifying NWIS data categories. I haven't found a definitive list, but these are the ones I've figured out:\n",
    "* uv -- current data \n",
    "* dv -- daily values\n",
    "* gwlevels -- groundwater levels\n",
    "* peak -- peak stream flow at gage\n",
    "* inventory -- site information. No time series information, but useful for location information\n",
    "* measurements -- streamflow data for site; https://help.waterdata.usgs.gov/output-formats#streamflow_measurement_data. data files do not include the variable names in header"
   ]
  },
  {
   "cell_type": "markdown",
   "metadata": {},
   "source": [
    "This template works with datasets that have schema.org metadata registered with the EarthCube GeoCODES catalog, and have a valid URL Dataset/distribution/WebAPI that has   ./serviceType value of 'USGS Site Web Service'. \n",
    "\n",
    "This notebook parses the URL parameter to extract the base url for the NWIS Service \n",
    "* url=https://nwis.waterdata.usgs.gov/usa/nwis/qwdata/?site_no=07373420"
   ]
  },
  {
   "cell_type": "code",
   "execution_count": null,
   "metadata": {},
   "outputs": [],
   "source": [
    "#github.com/nteract/papermill'parameters'tag used to inject them into template then post a gist runable by colab\n",
    "url,ext,urn=None,None,None\n",
    "\n",
    "# Parameters\n",
    "# these parameters are passed from the GeoCodes Searth interface; \n",
    "\n",
    "# assign example values:\n",
    "#url = \"\"\n",
    "url = \"\"\n",
    "ext = \"\"\n",
    "urn = \"\""
   ]
  },
  {
   "cell_type": "code",
   "execution_count": 1,
   "metadata": {},
   "outputs": [
    {
     "name": "stdout",
     "output_type": "stream",
     "text": [
      "Using matplotlib backend: Qt5Agg\n"
     ]
    }
   ],
   "source": [
    "#imports\n",
    "%matplotlib\n",
    "import pandas as pd\n",
    "import datetime\n",
    "import matplotlib.pyplot as plt\n",
    "import urllib\n",
    "\n",
    "from ipywidgets import widgets  \n",
    "from IPython.display import display\n",
    "from IPython.display import clear_output\n",
    "from tqdm.notebook import tqdm as tqdm\n",
    "\n",
    "#initialize some variables\n",
    "dataurl='init'\n",
    "import sys\n",
    "stdout = sys.stdout"
   ]
  },
  {
   "cell_type": "markdown",
   "metadata": {},
   "source": [
    "%%javascript\n",
    "/*  code to display very simple modal dialog.  ? how to put text box controls in?\n",
    "require(\n",
    "    [\"base/js/dialog\"], \n",
    "    function(dialog) {\n",
    "        dialog.modal({\n",
    "            title: 'Hello world',\n",
    "            body: 'Hi, lorem ipsum and such',\n",
    "            buttons: {\n",
    "                'Close': {}\n",
    "            }\n",
    "        });\n",
    "    }\n",
    ");\n",
    "*/\n",
    "\n",
    "// code to insert and execute code in python notebook\n",
    "// IPython.notebook.kernel.execute(\"title='\".concat(getQueryStringValue(\"dataurl\")).concat(\"'\"));\n"
   ]
  },
  {
   "cell_type": "markdown",
   "metadata": {},
   "source": [
    "# Utility functions"
   ]
  },
  {
   "cell_type": "code",
   "execution_count": 2,
   "metadata": {},
   "outputs": [],
   "source": [
    "#simple function to see if a value can be parsed as a floating point number\n",
    "def is_number(s):\n",
    "    try:\n",
    "        float(s)\n",
    "        return True\n",
    "    except ValueError:\n",
    "        return False"
   ]
  },
  {
   "cell_type": "code",
   "execution_count": 3,
   "metadata": {},
   "outputs": [],
   "source": [
    "def getmetavalue(rdbdata, label,skipVal=-1):\n",
    "    '''\n",
    "    function to look for a text string in a text string\n",
    "    input is a list of text string; \n",
    "    searches each string for string containing the 'label' string\n",
    "    returns the following text, with '- ' and leading/trailing spaces removed.\n",
    "    This is designed to extract explanation of names from a NWIS rdb document header\n",
    "    .\n",
    "    '''\n",
    "    inlabel=''\n",
    "    #first have to handle column names that are parameter numbers\n",
    "    if label.split('_')[0].isnumeric():\n",
    "        inlabel=label\n",
    "        label = label.split('_')[0]\n",
    "\n",
    "    \n",
    "    rowcount=0\n",
    "    for line in rdbdata:\n",
    "        strline = str(line)\n",
    "        #print('line:' + strline)\n",
    "        if (label in strline):\n",
    "            out= strline.split(label)[1]\n",
    "            out = out.strip()\n",
    "            if (strline[1:2]=='- '):\n",
    "                out = strline.split('- ')[1]\n",
    "            if (len(inlabel) == 0):\n",
    "                return(out)\n",
    "            else:\n",
    "                if (inlabel[-3:]=='_cd'):\n",
    "                    return(out+' code')\n",
    "                else:\n",
    "                    return(out)\n",
    "        rowcount=rowcount+1\n",
    "        if (skipVal > 0 and rowcount>skipVal): \n",
    "            return(label)\n",
    "    return(label)\n",
    "\n"
   ]
  },
  {
   "cell_type": "markdown",
   "metadata": {},
   "source": [
    "# Prepare Data:"
   ]
  },
  {
   "cell_type": "markdown",
   "metadata": {},
   "source": [
    "%%javascript\n",
    "function getQueryStringValue (key){  \n",
    "    return unescape(window.location.search.replace(new RegExp(\"^(?:.*[&\\\\?]\" + escape(key).replace(/[\\.\\+\\*]/g, \"\\\\$&\") + \"(?:\\\\=([^&]*))?)?.*$\", \"i\"), \"$1\"));\n",
    "}\n",
    "IPython.notebook.kernel.execute(\"dataurl='\".concat(getQueryStringValue(\"dataurl\")).concat(\"'\"));\n",
    "\n",
    "IPython.notebook.kernel.execute(\"site_no='\".concat(getQueryStringValue(\"site_no\")).concat(\"'\"));\n",
    "//get the URL parameters and pass to python"
   ]
  },
  {
   "cell_type": "code",
   "execution_count": 4,
   "metadata": {},
   "outputs": [
    {
     "name": "stdout",
     "output_type": "stream",
     "text": [
      "No URL parameter\n"
     ]
    }
   ],
   "source": [
    "# Some example URLS included here for various NWIS data\n",
    "\n",
    "if (dataurl=='init' or (len(dataurl)==0)):\n",
    "    print('No URL parameter')\n",
    "    # for testing without URL parameter\n",
    "    \n",
    "    # Water Quality Samples for the Nation\n",
    "    #dataurl = 'https://nwis.waterdata.usgs.gov/usa/nwis/qwdata/?site_no=07373420&format=rdb'\n",
    "    #dataurl = 'https://nwis.waterdata.usgs.gov/usa/nwis/qwdata/?site_no=07373420&pm_cd_compare=Greater%20than&format=rdb'\n",
    "    #site_no='07373420'\n",
    "    \n",
    "    # groundwater levels\n",
    "    #dataurl = 'http://nwis.waterdata.usgs.gov/pa/nwis/gwlevels?site_no=400650075514001&agency_cd=USGS&format=rdb'\n",
    "    # note this gets same result (no '/pa' in URL):\n",
    "    dataurl = 'https://nwis.waterdata.usgs.gov/nwis/gwlevels?site_no=400650075514001&agency_cd=USGS&format=rdb'\n",
    "    site_no='400650075514001'\n",
    "    \n",
    "    # current conditions\n",
    "    #dataurl = 'https://waterdata.usgs.gov/nwis/uv/?site_no=06191000&format=rdb'\n",
    "    #site_no='06191000'\n",
    "    \n",
    "    #peak stream flow service\n",
    "    #dataurl = 'https://nwis.waterdata.usgs.gov/nwis/peak/?site_no=01063310&agency_cd=USGS&format=rdb'\n",
    "    #site_no='01063310'\n",
    "    \n",
    "    #site information:\n",
    "    #dataurl = 'https://waterdata.usgs.gov/nwis/inventory/?site_no=06022500&format=rdb'\n",
    "    #site_no='06022500'\n",
    "    \n",
    "    # site measurements, rdb expanded, works in most cases but doesn't always add more columns:\n",
    "    #dataurl = 'https://waterdata.usgs.gov/nwis/measurements?site_no=08158810&format=rdb_expanded'\n",
    "    #site_no='08158810'\n",
    "    \n",
    "else:\n",
    "    dataurl= dataurl + '&agency_cd=USGS&format=rdb'\n",
    "    \n",
    "if not 'site_no=' in dataurl:\n",
    "    Print('Invalid data url: ' + dataurl)\n",
    "    raise SystemExit(\"Stopping notebook execution\")"
   ]
  },
  {
   "cell_type": "markdown",
   "metadata": {},
   "source": [
    "# Data loader\n",
    "if there are alot of records for this site, this can take awhile, be patient."
   ]
  },
  {
   "cell_type": "code",
   "execution_count": 5,
   "metadata": {},
   "outputs": [
    {
     "name": "stdout",
     "output_type": "stream",
     "text": [
      "data url: https://nwis.waterdata.usgs.gov/nwis/gwlevels?site_no=400650075514001&agency_cd=USGS&format=rdb\n",
      "Downloading the dataset. Please wait...\n"
     ]
    },
    {
     "data": {
      "application/vnd.jupyter.widget-view+json": {
       "model_id": "1d4f2cabda0043c1b3714105bfe495c6",
       "version_major": 2,
       "version_minor": 0
      },
      "text/plain": [
       "0it [00:00, ?it/s]"
      ]
     },
     "metadata": {},
     "output_type": "display_data"
    },
    {
     "name": "stdout",
     "output_type": "stream",
     "text": [
      "Rows to skip: 89\n",
      "loading pandas dataframe, Please wait...\n",
      "Ready\n"
     ]
    }
   ],
   "source": [
    "# Get the data\n",
    "\n",
    "print('data url:',dataurl)\n",
    "print('Downloading the dataset. Please wait...')\n",
    "\n",
    "data = urllib.request.urlopen(dataurl) # it's a file like object and works just like a file\n",
    "# counter for the number of comment lines at the top of the file\n",
    "skipVal = 0\n",
    "datalist=[]\n",
    "# tqdm presents a progress bar\n",
    "for line in tqdm(data):\n",
    "    strline = str(line)\n",
    "    strline = strline.replace(\"\\\\r\",'')\n",
    "    strline = strline.replace(\"\\\\n\",'')\n",
    "    strline = strline.replace(\"\\'\",'')\n",
    "    #print('line:' + strline)\n",
    "    if '#' in strline:\n",
    "        if (strline.find(site_no)>-1):\n",
    "            site_label=(strline.split('# ')[1].strip())\n",
    "            #remove extra internal spaces\n",
    "            site_label = \" \".join(site_label.split())\n",
    "        #print(strline.split('#')[1].strip())\n",
    "        if (len(strline.split('#')[1].strip()) > 0): \n",
    "            out = strline.split('#')[1].strip()\n",
    "            out = \" \".join(out.split())\n",
    "            #print('output to datalist: ' + out)\n",
    "            datalist.append(out)\n",
    "    else:\n",
    "        break\n",
    "    skipVal = skipVal + 1\n",
    "print('Rows to skip: ' + str(skipVal))\n",
    "global df\n",
    "\n",
    "print('loading pandas dataframe, Please wait...')\n",
    "df = pd.read_csv(dataurl, sep='\\t',skiprows=range(0, skipVal),encoding='utf-8')\n",
    "\n",
    "#first row is formatting information, save for later\n",
    "formats = df.head(1)\n",
    "#print('formats: ' + str(formats))\n",
    "#print(str(formats['agency_cd'][0]))\n",
    "#drop the formatting information row\n",
    "df = df.drop(df.index[0])\n",
    "#print(df.info)\n",
    "print('Ready')"
   ]
  },
  {
   "cell_type": "code",
   "execution_count": 6,
   "metadata": {},
   "outputs": [
    {
     "data": {
      "text/plain": [
       "agency_cd        object\n",
       "site_no          object\n",
       "site_tp_cd       object\n",
       "lev_dt           object\n",
       "lev_tm           object\n",
       "lev_tz_cd        object\n",
       "lev_va           object\n",
       "sl_lev_va        object\n",
       "sl_datum_cd      object\n",
       "lev_status_cd    object\n",
       "lev_agency_cd    object\n",
       "lev_dt_acy_cd    object\n",
       "lev_acy_cd       object\n",
       "lev_src_cd       object\n",
       "lev_meth_cd      object\n",
       "lev_age_cd       object\n",
       "dtype: object"
      ]
     },
     "execution_count": 6,
     "metadata": {},
     "output_type": "execute_result"
    }
   ],
   "source": [
    "df.dtypes"
   ]
  },
  {
   "cell_type": "code",
   "execution_count": 7,
   "metadata": {},
   "outputs": [
    {
     "data": {
      "application/vnd.jupyter.widget-view+json": {
       "model_id": "5115383f771e41d58a15e235c4e622d3",
       "version_major": 2,
       "version_minor": 0
      },
      "text/plain": [
       "  0%|          | 0/16 [00:00<?, ?it/s]"
      ]
     },
     "metadata": {},
     "output_type": "display_data"
    }
   ],
   "source": [
    "# some data introspection; \n",
    "\n",
    "fielddescriptions={}\n",
    "\n",
    "for col in tqdm(df.columns):\n",
    "    mdstring = getmetavalue(datalist, str(col))\n",
    "    datatype='nan'\n",
    "    #print('field: ' + str(col) + '. '+ mdstring + '. Format: ' + str(formats[col][0]) )\n",
    "    if (col[-3:]=='_cd'):\n",
    "        datatype='code'\n",
    "    elif (str(formats[col][0])[-1:]=='s'):\n",
    "        for item in df[col].tolist():\n",
    "            #print(str(item)+' type ' + str(type(item)))\n",
    "            if str(item).isnumeric():\n",
    "                #print('isnumeric')\n",
    "                datatype='pinteger'\n",
    "            elif (str(item)!='nan' and is_number(str(item))):\n",
    "                #print('float')\n",
    "                datatype='float'\n",
    "            elif (str(item)!='nan'):\n",
    "                #print('string')\n",
    "                datatype='string'\n",
    "                \n",
    "    elif (str(formats[col][0])[-1:]=='d'):\n",
    "        datatype='date'\n",
    "    elif (str(formats[col][0])[-1:]=='n'):\n",
    "        datatype='float'\n",
    "    else:\n",
    "        datatype='string'\n",
    "    \n",
    "    fielddescriptions[col] = {'desc':mdstring, \n",
    "                              'format':str(formats[col][0]),\n",
    "                             'type':datatype}    \n",
    "    #print(col, fielddescriptions[col])\n"
   ]
  },
  {
   "cell_type": "markdown",
   "metadata": {},
   "source": [
    "# Graph time series:\n",
    "\n",
    "X axis will be a time series; for now pick date fields.\n",
    "  * TBD identify time fields to construct more precise datetime coordinate where applicable\n",
    "\n",
    "Y axis is choses from numeric or float data type fields identified in the introspection section above.\n",
    "  * If there is a parm_cd and a result_va field, assume that have soft-typed parameter values (like in NWIS water quality data), add all unique values of parm_cd the pick list for y axis. \n",
    "  \n",
    "Display controls to pick x and y axis, and button to plot the graph  \n",
    "\n",
    "When the 'plot graph' button is clicked\n",
    " * construct the data series \n",
    " * call numpy plot"
   ]
  },
  {
   "cell_type": "code",
   "execution_count": 8,
   "metadata": {},
   "outputs": [
    {
     "data": {
      "text/plain": [
       "'Number of values in each column'"
      ]
     },
     "metadata": {},
     "output_type": "display_data"
    },
    {
     "data": {
      "text/html": [
       "<style type=\"text/css\">\n",
       "</style>\n",
       "<table id=\"T_38492_\">\n",
       "  <thead>\n",
       "    <tr>\n",
       "      <th class=\"blank level0\" >&nbsp;</th>\n",
       "      <th class=\"col_heading level0 col0\" >agency_cd</th>\n",
       "      <th class=\"col_heading level0 col1\" >site_no</th>\n",
       "      <th class=\"col_heading level0 col2\" >site_tp_cd</th>\n",
       "      <th class=\"col_heading level0 col3\" >lev_dt</th>\n",
       "      <th class=\"col_heading level0 col4\" >lev_tm</th>\n",
       "      <th class=\"col_heading level0 col5\" >lev_tz_cd</th>\n",
       "      <th class=\"col_heading level0 col6\" >lev_va</th>\n",
       "      <th class=\"col_heading level0 col7\" >sl_lev_va</th>\n",
       "      <th class=\"col_heading level0 col8\" >sl_datum_cd</th>\n",
       "      <th class=\"col_heading level0 col9\" >lev_status_cd</th>\n",
       "      <th class=\"col_heading level0 col10\" >lev_agency_cd</th>\n",
       "      <th class=\"col_heading level0 col11\" >lev_dt_acy_cd</th>\n",
       "      <th class=\"col_heading level0 col12\" >lev_acy_cd</th>\n",
       "      <th class=\"col_heading level0 col13\" >lev_src_cd</th>\n",
       "      <th class=\"col_heading level0 col14\" >lev_meth_cd</th>\n",
       "      <th class=\"col_heading level0 col15\" >lev_age_cd</th>\n",
       "    </tr>\n",
       "  </thead>\n",
       "  <tbody>\n",
       "    <tr>\n",
       "      <th id=\"T_38492_level0_row0\" class=\"row_heading level0 row0\" >0</th>\n",
       "      <td id=\"T_38492_row0_col0\" class=\"data row0 col0\" >2049</td>\n",
       "      <td id=\"T_38492_row0_col1\" class=\"data row0 col1\" >2049</td>\n",
       "      <td id=\"T_38492_row0_col2\" class=\"data row0 col2\" >2049</td>\n",
       "      <td id=\"T_38492_row0_col3\" class=\"data row0 col3\" >2049</td>\n",
       "      <td id=\"T_38492_row0_col4\" class=\"data row0 col4\" >501</td>\n",
       "      <td id=\"T_38492_row0_col5\" class=\"data row0 col5\" >501</td>\n",
       "      <td id=\"T_38492_row0_col6\" class=\"data row0 col6\" >683</td>\n",
       "      <td id=\"T_38492_row0_col7\" class=\"data row0 col7\" >1366</td>\n",
       "      <td id=\"T_38492_row0_col8\" class=\"data row0 col8\" >1366</td>\n",
       "      <td id=\"T_38492_row0_col9\" class=\"data row0 col9\" >2049</td>\n",
       "      <td id=\"T_38492_row0_col10\" class=\"data row0 col10\" >786</td>\n",
       "      <td id=\"T_38492_row0_col11\" class=\"data row0 col11\" >2049</td>\n",
       "      <td id=\"T_38492_row0_col12\" class=\"data row0 col12\" >0</td>\n",
       "      <td id=\"T_38492_row0_col13\" class=\"data row0 col13\" >786</td>\n",
       "      <td id=\"T_38492_row0_col14\" class=\"data row0 col14\" >2049</td>\n",
       "      <td id=\"T_38492_row0_col15\" class=\"data row0 col15\" >2049</td>\n",
       "    </tr>\n",
       "  </tbody>\n",
       "</table>\n"
      ],
      "text/plain": [
       "<pandas.io.formats.style.Styler at 0x23c8a133670>"
      ]
     },
     "metadata": {},
     "output_type": "display_data"
    }
   ],
   "source": [
    "if (df.size == 0):\n",
    "    print('Dataframe is empty, no data at this site')\n",
    "else:    \n",
    "    df.iloc[0]  # get focus on first row of dataframe\n",
    "    display(\"Number of values in each column\",pd.DataFrame(df.count()).transpose().style)\n"
   ]
  },
  {
   "cell_type": "code",
   "execution_count": 9,
   "metadata": {
    "scrolled": true
   },
   "outputs": [
    {
     "data": {
      "application/vnd.jupyter.widget-view+json": {
       "model_id": "804589072b20438f94d89f183552bf39",
       "version_major": 2,
       "version_minor": 0
      },
      "text/plain": [
       "  0%|          | 0/16 [00:00<?, ?it/s]"
      ]
     },
     "metadata": {},
     "output_type": "display_data"
    }
   ],
   "source": [
    "# set up variable options for Y\n",
    "\n",
    "numfields=[\"Choose Variable:\"]  # this will be the prompt in the drop down box\n",
    "for col in tqdm(df.columns):\n",
    "    if ((fielddescriptions[col]['type'] == 'float' \n",
    "      or fielddescriptions[col]['type'] == 'pinteger')\n",
    "        and (df[col].count() > 1)\n",
    "       and (len(df[col].unique()) > 1)):\n",
    "        #print(df[col].count())\n",
    "        numfields.append(col+'| '+fielddescriptions[col]['desc'] +\n",
    "                      '. N=' + str(df[col].count())) \n",
    "\n",
    "# CHECK if there is a parameters field, for soft-typed result values\n",
    "if ('parm_cd' in df.columns.values and 'result_va' in df.columns.values):\n",
    "    #print('unique param:' + str(len(df['parm_cd'].unique())))\n",
    "    for aparam in tqdm(df['parm_cd'].unique()):\n",
    "        try:\n",
    "            mdstring = getmetavalue(datalist, str(aparam))\n",
    "            \n",
    "            valcount = df.loc[df['parm_cd'] == aparam]['result_va'].count()\n",
    "            if (valcount > 1):\n",
    "                #print('parameter %s, count %s' % (aparam, valcount))\n",
    "                numfields.append(str(aparam) + '| ' + mdstring +\n",
    "                    '. N=' + str(valcount))\n",
    "        except:\n",
    "            print('did not find name for parameter ' + str(aparam))\n",
    "            \n",
    "    try:\n",
    "        numfields.remove('result_va| '+fielddescriptions['result_va']['desc'])\n",
    "    except:\n",
    "        pass\n",
    "        \n",
    "#select x axis\n",
    "picky = widgets.Dropdown(\n",
    "    options=numfields,\n",
    "    description='Numeric field:',\n",
    "    disabled=False,\n",
    "    value = 'Choose Variable:'\n",
    ")\n",
    "\n",
    "yaxisfield=''\n",
    "\n",
    "#Describe what happens when the dropdown changes its value\n",
    "def on_change_y(change):\n",
    "    global yaxisfield\n",
    "    if change['type'] == 'change' and change['name'] == 'value':\n",
    "        #print('change: ' + str(change['new']))\n",
    "        yaxisfield=change['new'].split('|')[0]\n",
    "        print('yaxis: %s' % yaxisfield)\n",
    "    return\n",
    "        \n"
   ]
  },
  {
   "cell_type": "code",
   "execution_count": 10,
   "metadata": {},
   "outputs": [
    {
     "name": "stdout",
     "output_type": "stream",
     "text": [
      "lev_dt\n",
      "['Choose Field', 'lev_dt']\n"
     ]
    }
   ],
   "source": [
    "#reformat strings to dates  TBD: look for column names ending in '_dt' and work on those\n",
    "datefields=[\"Choose Field\"]  #prompt for the drop down list\n",
    "for col in df.columns:\n",
    "    if ((col[-3:] == '_dt')\n",
    "         or (col=='datetime') ):\n",
    "        print(col)\n",
    "        df[col] =  pd.to_datetime(df[col], format='%Y-%m-%d', errors='ignore')\n",
    "        datefields.append(col)\n",
    "\n",
    "print(datefields)\n",
    "# pick the time axis variable, use the date fields\n",
    "#select x axis\n",
    "pickx = widgets.Dropdown(\n",
    "    options=datefields,\n",
    "    description='Date field for X axis:',\n",
    "    disabled=False,\n",
    "    value = 'Choose Field'\n",
    ")\n",
    "\n",
    "xaxisfield=''\n",
    "\n",
    "#Describe what happens when the button changes its value\n",
    "def on_change_x(change):\n",
    "    global xaxisfield\n",
    "    if change['type'] == 'change' and change['name'] == 'value':\n",
    "        #print('change: ' + str(change['new']))\n",
    "        xaxisfield=change['new']\n",
    "        print('xaxis: %s' % xaxisfield)\n",
    "    return\n",
    " "
   ]
  },
  {
   "cell_type": "code",
   "execution_count": 11,
   "metadata": {},
   "outputs": [],
   "source": [
    "#what happens when the button is clicked\n",
    "def on_button1_clicked(b):\n",
    "\n",
    "    #clear_output()\n",
    "    print(\"Button clicked.\")\n",
    "    #populate y values\n",
    "    print('x: %s, y:%s' % (xaxisfield, yaxisfield))\n",
    "    if (xaxisfield == '' \n",
    "        or xaxisfield == 'Choose Field'\n",
    "        or yaxisfield == ''\n",
    "        or yaxisfield == 'Choose Variable:'):\n",
    "        print('Select x and y axis variables before clicking the plot graph button')\n",
    "        return\n",
    "        \n",
    "    #print( ydata)\n",
    "    try:\n",
    "        df.dropna()\n",
    "        df.sort_values(xaxisfield, ascending=True)\n",
    "        if (yaxisfield in df.columns):\n",
    "            print('N values df column: %s' % df[yaxisfield].count() )\n",
    "            #print (df[yaxisfield])\n",
    "            xval, yval = [],[]\n",
    "            for idx, val in df[xaxisfield].iteritems():\n",
    "                if ((str(df[yaxisfield][idx]).lower()!= 'nan')\n",
    "                   and (isinstance(df[xaxisfield][idx], datetime.datetime))):\n",
    "                    xval.append(df[xaxisfield][idx])\n",
    "                    yval.append(float(df[yaxisfield][idx]))\n",
    "    \n",
    "            plt.plot(xval,yval)\n",
    "            plt.ylabel(fielddescriptions[yaxisfield]['desc'])\n",
    "            plt.xlabel(fielddescriptions[xaxisfield]['desc'])\n",
    "            plt.show()\n",
    "        #uncomment next two rows to print values plotted\n",
    "            #for idx in range(0,len(xval)):\n",
    "            #    print('x: %s, y: %s' % (xval[idx],yval[idx]))\n",
    "        else:\n",
    "            df.iloc[0]\n",
    "            print('N values: %s' % df.loc[df['parm_cd'] == int(yaxisfield)]['result_va'].count() )\n",
    "            #print(yaxisfield, xaxisfield)\n",
    "            #print(df['parm_cd'])\n",
    "            # beware of type coversion from df.loc[df['parm_cd'] to yaxisfield\n",
    "            plt.plot(df.loc[df['parm_cd'] == (yaxisfield)][xaxisfield],\n",
    "                     df.loc[df['parm_cd'] == (yaxisfield)]['result_va'])\n",
    "            plt.xlabel(fielddescriptions[xaxisfield]['desc'])\n",
    "            plt.ylabel(fielddescriptions[yaxisfield]['desc'])\n",
    "            plt.title(getmetavalue(datalist, yaxisfield))\n",
    "            plt.show()\n",
    "        #uncomment next two rows to print values plotted\n",
    "           # for idx in range(0,int(yaxisfield)['result_va'].count()):\n",
    "           #     print('x: %s, y: %s' % (df.loc[df['parm_cd'] == (yaxisfield)][xaxisfield][idx],df.loc[df['parm_cd'] == (yaxisfield)]['result_va'][idx])\n",
    "\n",
    "    except ValueError:\n",
    "        print('The column contains a Non-Integer Value! Nothing Can be Displayed!')\n",
    "    \n",
    "    return\n",
    "\n",
    "def on_button2_clicked(b):\n",
    "    clear_output()\n",
    "    display(pickx)\n",
    "    display(picky)\n",
    "    display(button1)\n",
    "    display(button2)\n",
    "    return"
   ]
  },
  {
   "cell_type": "code",
   "execution_count": 12,
   "metadata": {},
   "outputs": [
    {
     "name": "stdout",
     "output_type": "stream",
     "text": [
      "plot will show up in a separate window\n"
     ]
    },
    {
     "data": {
      "application/vnd.jupyter.widget-view+json": {
       "model_id": "1ca8bde6c75447e28fd5af7ccb9f50b9",
       "version_major": 2,
       "version_minor": 0
      },
      "text/plain": [
       "Dropdown(description='Date field for X axis:', options=('Choose Field', 'lev_dt'), value='Choose Field')"
      ]
     },
     "metadata": {},
     "output_type": "display_data"
    },
    {
     "data": {
      "application/vnd.jupyter.widget-view+json": {
       "model_id": "2332df4308214647820fb69522812134",
       "version_major": 2,
       "version_minor": 0
      },
      "text/plain": [
       "Dropdown(description='Numeric field:', options=('Choose Variable:', 'lev_va| Water-level value in feet below l…"
      ]
     },
     "metadata": {},
     "output_type": "display_data"
    },
    {
     "data": {
      "application/vnd.jupyter.widget-view+json": {
       "model_id": "d5510a4a16b24c9197dc7a8753b40c7e",
       "version_major": 2,
       "version_minor": 0
      },
      "text/plain": [
       "Button(description='Plot Time Series', style=ButtonStyle())"
      ]
     },
     "metadata": {},
     "output_type": "display_data"
    },
    {
     "data": {
      "application/vnd.jupyter.widget-view+json": {
       "model_id": "97ad3ca749544d6e9c9a94de1d96c77c",
       "version_major": 2,
       "version_minor": 0
      },
      "text/plain": [
       "Button(description='Clear Display', style=ButtonStyle())"
      ]
     },
     "metadata": {},
     "output_type": "display_data"
    }
   ],
   "source": [
    "print('plot will show up in a separate window')\n",
    "\n",
    "if len(datefields)>1 and df.size > 0:\n",
    "    pickx.observe(on_change_x)\n",
    "    display(pickx)\n",
    "    picky.observe(on_change_y)\n",
    "    display(picky)\n",
    "    \n",
    "    button1 = widgets.Button(description=\"Plot Time Series\")\n",
    "    button1.on_click(on_button1_clicked)\n",
    "    display(button1)\n",
    "\n",
    "    button2 = widgets.Button(description=\"Clear Display\")\n",
    "    button2.on_click(on_button2_clicked)\n",
    "    display(button2)\n",
    "else:\n",
    "    if (len(datefields) <= 1):\n",
    "        print('There are no date fields in this dataset \\n Can not plot a time series')\n",
    "    elif (df.size==0):\n",
    "        print('There is nothing to plot')\n",
    "    else:\n",
    "        print('Can not generate a plot')\n"
   ]
  },
  {
   "cell_type": "code",
   "execution_count": null,
   "metadata": {},
   "outputs": [],
   "source": []
  }
 ],
 "metadata": {
  "kernelspec": {
   "display_name": "Python 3 (ipykernel)",
   "language": "python",
   "name": "python3"
  },
  "language_info": {
   "codemirror_mode": {
    "name": "ipython",
    "version": 3
   },
   "file_extension": ".py",
   "mimetype": "text/x-python",
   "name": "python",
   "nbconvert_exporter": "python",
   "pygments_lexer": "ipython3",
   "version": "3.8.12"
  },
  "toc": {
   "base_numbering": 1,
   "nav_menu": {},
   "number_sections": true,
   "sideBar": true,
   "skip_h1_title": false,
   "title_cell": "Table of Contents",
   "title_sidebar": "Contents",
   "toc_cell": false,
   "toc_position": {},
   "toc_section_display": true,
   "toc_window_display": false
  }
 },
 "nbformat": 4,
 "nbformat_minor": 4
}
