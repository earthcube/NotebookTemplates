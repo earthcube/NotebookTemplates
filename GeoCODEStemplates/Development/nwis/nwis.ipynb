{
 "cells": [
  {
   "cell_type": "markdown",
   "metadata": {},
   "source": [
    "## Loading NWIS site data using the nwis python package"
   ]
  },
  {
   "cell_type": "markdown",
   "metadata": {},
   "source": [
    "This notebook will help you get started using the [nwis package](https://nwis.readthedocs.io/en/latest) (Gan Tian and Mark Piper, authors) to download the National Water Information System (NWIS) datasets for surface water information from USGS monitoring sites (NWIS 'site' service).  The nwis package uses the [USGS dataretrieval package](https://github.com/USGS-python/dataretrieval), which provides less error checking but can access the full functionality of NWIS API. \n",
    "\n",
    "Source: Base on original notebook from Gan, T. (2021). Jupyter Notebooks for the NWIS Data Component, HydroShare, http://www.hydroshare.org/resource/1473ac1368b44808b57cca2848923779\n",
    "\n"
   ]
  },
  {
   "cell_type": "code",
   "execution_count": null,
   "metadata": {},
   "outputs": [],
   "source": [
    "#github.com/nteract/papermill'parameters'tag used to inject them into template then post a gist runable by colab\n",
    "url,ext,urn=None,None,None"
   ]
  },
  {
   "cell_type": "code",
   "execution_count": null,
   "metadata": {},
   "outputs": [],
   "source": [
    "# Parameters\n",
    "# these are the parameters passed from the GeoCodes Searth interface\n",
    "# the schema:distribution download URL. This should be a content URL; \n",
    "# This demonstration notebook does not need the URL or extension; the dispatcher will only enable invoking this one if the search result is an NWIS site service.\n",
    "# The user selects a site ID (some examples provided), and then picks a variable to plot. \n",
    "\n",
    "# example URLs\n",
    "#url = \"\"\n",
    "url = \"\"\n",
    "ext = \"\"\n",
    "urn = \"\""
   ]
  },
  {
   "cell_type": "markdown",
   "metadata": {},
   "source": [
    "the note book depends on the [nwis python module](https://github.com/gantian127/nwis), install from this notebook using pip (uncomment next line)"
   ]
  },
  {
   "cell_type": "code",
   "execution_count": null,
   "metadata": {},
   "outputs": [],
   "source": [
    "#!pip install nwis"
   ]
  },
  {
   "cell_type": "markdown",
   "metadata": {},
   "source": [
    "<a id='section1'></a>\n",
    "## 1. Brief Introduction"
   ]
  },
  {
   "cell_type": "markdown",
   "metadata": {},
   "source": [
    "nwis package provides a set of functions that allows downloading of the observational datasets from the National Water Information System ([NWIS](https://waterdata.usgs.gov/nwis)) for data analysis and visualization. \n",
    "\n",
    "To install nwis package, you can use the following command line (make sure you're in the correct python environment....):\n",
    "```\n",
    "$ pip install nwis\n",
    "```"
   ]
  },
  {
   "cell_type": "markdown",
   "metadata": {},
   "source": [
    "### Use Nwis class to download data"
   ]
  },
  {
   "cell_type": "markdown",
   "metadata": {},
   "source": [
    "Import Nwis class and download data with **get_data( )** method. This example downloads datasets for discharge, gage height, and water temperature observed at the USGS gage [03339000](https://waterdata.usgs.gov/nwis/uv?site_no=03339000) from Jan 1st to 15th, 2020. You can check the details of the [parameter settings](https://nwis.readthedocs.io/en/latest/#parameter-settings) for get_data( ) method to better understand the parameter values used in the example. The complete list of USGS parameter codes can be found [online here](https://help.waterdata.usgs.gov/parameter_cd?group_cd=PHY) for physical paramters. \n",
    "\n",
    "#### get_data parameters: \n",
    "Site:  Each site in the USGS data base has a unique 8- to 15-digit identification number. Site numbers are assigned based on this logic. Sites must have discharge time series data to work with this notebook.\n",
    "\n",
    "data_type: parameter values are 'dv' for daily value or 'iv' for instantaneous value"
   ]
  },
  {
   "cell_type": "code",
   "execution_count": null,
   "metadata": {
    "scrolled": true
   },
   "outputs": [],
   "source": [
    "import matplotlib.pyplot as plt\n",
    "from nwis import Nwis\n",
    "\n",
    "# get data from NWIS\n",
    "nwis_data = Nwis()\n",
    "dataset = nwis_data.get_data(site='03339000', start_date='2020-01-01', \n",
    "                             end_date='2020-05-15', data_type='dv')\n",
    "#some sites to try 03339000, 01646500,06306300, 09380002, 09512500"
   ]
  },
  {
   "cell_type": "markdown",
   "metadata": {},
   "source": [
    "The downloaded NWIS dataset is stored as a self-described xarray dataset object (see http://xarray.pydata.org/en/stable/index.html). With this dataset object, you can check the metadata and make time series plot."
   ]
  },
  {
   "cell_type": "code",
   "execution_count": null,
   "metadata": {},
   "outputs": [],
   "source": [
    "# show site metadata\n",
    "dataset.attrs\n",
    "\n",
    "# show data variable metadata\n",
    "for var_name in dataset.data_vars:\n",
    "    print(dataset[var_name].attrs)"
   ]
  },
  {
   "cell_type": "markdown",
   "metadata": {},
   "source": [
    "### Variable Options\n",
    "\n",
    "parameter code\t**Full variable name**\tUnit\n",
    "\n",
    "00060\t**discharge**\tcubic feet per second\n",
    "\n",
    "00065\t**gage height**\tfeet\n",
    "\n",
    "00010\t**water temperature**\tdegree celsius\n",
    "\n",
    "80154\t**Suspended sediment discharge**\ttons per day\n",
    "\n",
    "80155\t**Total sediment discharge**\ttons per day\n",
    "\n",
    "80225\t**Bedload sediment discharge**\ttons per day\n"
   ]
  },
  {
   "cell_type": "code",
   "execution_count": null,
   "metadata": {},
   "outputs": [],
   "source": [
    "# plot discharge data using matplotlib.pyplot\n",
    "dataset['00060'].plot(figsize=(12,7))\n",
    "plt.ylabel('{} ({})'.format(dataset['00060'].variable_name,dataset['00060'].variable_unit))\n",
    "plt.title('Discharge Observation at USGS Gage 03339000')"
   ]
  },
  {
   "cell_type": "code",
   "execution_count": null,
   "metadata": {},
   "outputs": [],
   "source": []
  },
  {
   "cell_type": "code",
   "execution_count": null,
   "metadata": {},
   "outputs": [],
   "source": []
  }
 ],
 "metadata": {
  "kernelspec": {
   "display_name": "Python 3 (ipykernel)",
   "language": "python",
   "name": "python3"
  },
  "language_info": {
   "codemirror_mode": {
    "name": "ipython",
    "version": 3
   },
   "file_extension": ".py",
   "mimetype": "text/x-python",
   "name": "python",
   "nbconvert_exporter": "python",
   "pygments_lexer": "ipython3",
   "version": "3.8.12"
  }
 },
 "nbformat": 4,
 "nbformat_minor": 4
}
