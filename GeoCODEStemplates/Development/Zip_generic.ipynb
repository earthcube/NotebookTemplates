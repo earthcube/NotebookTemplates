{
 "cells": [
  {
   "cell_type": "markdown",
   "id": "dd261583-9a95-427d-ac5a-843f0d552bc5",
   "metadata": {},
   "source": [
    "# Zip archive inspector\n",
    "\n",
    "This notebook is a handler that demonstrates downloading and opening a zip archive and listing files in the archive. \n",
    "\n",
    "Notebook is set up with these parameters from the GeoCODES UI: \n",
    "    url-- the contentURL from the distribution\n",
    "    ext -- the schema:encodingFormat from the distribution metadata; defaults to NONE if no value passed,\n",
    "\n"
   ]
  },
  {
   "cell_type": "code",
   "execution_count": 2,
   "id": "8ab37d00-8c17-4feb-a006-84d9a7ff7578",
   "metadata": {
    "tags": []
   },
   "outputs": [],
   "source": [
    "#github.com/nteract/papermill'parameters'tag used to inject them into template then post a gist runable by colab\n",
    "url,ext,urn=None,None,None"
   ]
  },
  {
   "cell_type": "code",
   "execution_count": 28,
   "id": "47b52a71-02e9-45ef-9791-939e5ab16d4d",
   "metadata": {},
   "outputs": [],
   "source": [
    "# Parameters\n",
    "# these are the parameters passed from the GeoCodes Searth interface\n",
    "# the schema:distribution download URL. This should be a content URL\n",
    "\n",
    "# example URLs\n",
    "#url = \"https://www.hydroshare.org/hsapi/resource/734533a9e08c494aa28d2d0e688e2c06\"\n",
    "url = \"https://www.hydroshare.org/hsapi/resource/59dc59df889c485dbfbb80d058bd6e43/\"\n",
    "ext = \"application/zip\"\n",
    "urn = \"urn:gleaner:milled:hydroshare:1842a5f75d52810ee6c3616cf01654d120fe7348\""
   ]
  },
  {
   "cell_type": "code",
   "execution_count": 29,
   "id": "2426a355-4e02-43b7-b8ad-53dbf8a2b98f",
   "metadata": {},
   "outputs": [],
   "source": [
    "#!pip install httpimport"
   ]
  },
  {
   "cell_type": "code",
   "execution_count": 30,
   "id": "f3d5d3e8-a523-4e74-b901-dd0ffa253067",
   "metadata": {},
   "outputs": [
    {
     "name": "stdout",
     "output_type": "stream",
     "text": [
      "ec read_file can not read zip\n",
      "response status=200, headers: application/zip, formatmatch: True\n"
     ]
    }
   ],
   "source": [
    "import httpimport\n",
    "import requests\n",
    "import pandas\n",
    "with httpimport.github_repo('earthcube', 'earthcube_utilities'):\n",
    "    import src.earthcube_utilities.earthcube_utilities as ec\n",
    "\n",
    "ec.wget_rdf(urn)\n",
    "#!ls -l   or FilePaneBrowser on left, to see it\n",
    "df=ec.read_file(url,ext)\n",
    "if 'can not read zip' in df:\n",
    "    df = \"\"\n",
    "    print ('ec read_file can not read zip')\n",
    "else:   \n",
    "    print (f'df={df}')\n",
    "\n",
    "# First acquire the distribution file and checking that it can be read \n",
    "response = requests.get(url)\n",
    "tcode = response.status_code\n",
    "success = True\n",
    "if not tcode // 100 == 2:\n",
    "    print ( \"GET URL failed {}\".format(response))\n",
    "    success = False\n",
    "else:\n",
    "    theheaders = response.headers['content-type']\n",
    "\n",
    "    # see if the response header matches the schema:encodingFormat provided for the distribution\n",
    "    formatMatch = False\n",
    "    if theheaders != None and ext != None and theheaders in ext:\n",
    "        formatMatch = True\n",
    "\n",
    "    print (f'response status={tcode}, headers: {theheaders}, formatmatch: {formatMatch}')"
   ]
  },
  {
   "cell_type": "code",
   "execution_count": 31,
   "id": "79ddae9d-46b4-452c-bed4-a2601d68a96a",
   "metadata": {},
   "outputs": [
    {
     "name": "stdout",
     "output_type": "stream",
     "text": [
      "Contents of ZIP archive: \n",
      "\n",
      "april_1_header_info.txt\n",
      "april_1_meta.xml\n",
      "april_1.nc\n",
      "april_1_resmap.xml\n",
      "april_15_header_info.txt\n",
      "april_15_meta.xml\n",
      "april_15.nc\n",
      "april_15_resmap.xml\n",
      "diff_header_info.txt\n",
      "diff_meta.xml\n",
      "diff.nc\n",
      "diff_resmap.xml\n",
      "max_header_info.txt\n",
      "max_meta.xml\n",
      "max.nc\n",
      "max_resmap.xml\n",
      "test_opendap_meta.xml\n",
      "test_opendap_resmap.xml\n",
      "test_opendap.sh\n",
      "test_opendap.sh_meta.xml\n",
      "test_opendap.sh_resmap.xml\n",
      "resourcemap.xml\n",
      "resourcemetadata.xml\n",
      "bagit.txt\n",
      "manifest-md5.txt\n",
      "readme.txt\n",
      "tagmanifest-md5.txt\n"
     ]
    }
   ],
   "source": [
    "# ****************** ZIP ARCHIVE ******************\n",
    "#anything that has a response content header for a zip archive\n",
    "# TBD look at ext for specific kinds of zip archives that can be processed in more interesting ways\n",
    "if 'application/zip' in theheaders and success:\n",
    "  import zipfile   \n",
    "  with open('test.zip', 'wb') as fd:\n",
    "    for chunk in response.iter_content(chunk_size=128):\n",
    "        fd.write(chunk)\n",
    "    fd.close\n",
    "  with zipfile.ZipFile('test.zip','r') as myzip:\n",
    "    thefiles = myzip.namelist()\n",
    "  print ('Contents of ZIP archive: \\n')\n",
    "  for fname in thefiles:\n",
    "    print (ec.path_leaf(fname))"
   ]
  },
  {
   "cell_type": "code",
   "execution_count": 32,
   "id": "18fc11e6-c1f4-471b-a145-fb6703d9f002",
   "metadata": {},
   "outputs": [
    {
     "name": "stdout",
     "output_type": "stream",
     "text": [
      "urn:gleaner:milled:hydroshare:1842a5f75d52810ee6c3616cf01654d120fe7348\n",
      "None\n"
     ]
    }
   ],
   "source": [
    "thegraph=ec.wget_rdf(urn)\n",
    "print (urn)\n",
    "print (thegraph)"
   ]
  },
  {
   "cell_type": "code",
   "execution_count": 33,
   "id": "5cc81cca-88ce-43e9-903d-570ef045c0bf",
   "metadata": {},
   "outputs": [
    {
     "name": "stdout",
     "output_type": "stream",
     "text": [
      "wget_rdf from URN did not successfully get a graph\n"
     ]
    }
   ],
   "source": [
    "if thegraph == None:\n",
    "    print ('wget_rdf from URN did not successfully get a graph')\n",
    "else:\n",
    "    ec.viz(thegraph) #shows .nt metadata from urn, can use for (rdf)xml as well "
   ]
  },
  {
   "cell_type": "code",
   "execution_count": null,
   "id": "aafe07dc-9eba-40da-a2b3-83491ee654d1",
   "metadata": {},
   "outputs": [],
   "source": []
  }
 ],
 "metadata": {
  "kernelspec": {
   "display_name": "Python 3 (ipykernel)",
   "language": "python",
   "name": "python3"
  },
  "language_info": {
   "codemirror_mode": {
    "name": "ipython",
    "version": 3
   },
   "file_extension": ".py",
   "mimetype": "text/x-python",
   "name": "python",
   "nbconvert_exporter": "python",
   "pygments_lexer": "ipython3",
   "version": "3.8.12"
  },
  "toc-showtags": true
 },
 "nbformat": 4,
 "nbformat_minor": 5
}
