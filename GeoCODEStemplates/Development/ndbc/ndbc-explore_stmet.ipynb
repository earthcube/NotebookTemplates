{
 "cells": [
  {
   "cell_type": "code",
   "execution_count": null,
   "metadata": {
    "collapsed": true,
    "jupyter": {
     "outputs_hidden": true
    }
   },
   "outputs": [],
   "source": [
    "import pandas as pd\n",
    "import numpy as np\n",
    "import datetime as dt\n",
    "import matplotlib.pyplot as plt\n",
    "import matplotlib.patches as mpatches\n",
    "import matplotlib.dates as mdates\n",
    "import urllib.request, json\n",
    "import helpers\n",
    "from datetime import datetime, date, time\n",
    "from ipywidgets import widgets  \n",
    "from IPython import get_ipython\n",
    "from IPython.display import display\n",
    "from matplotlib import pylab\n",
    "from pylab import *\n",
    "from IPython.display import clear_output\n",
    "from __future__ import print_function\n",
    "from ipywidgets import interact, interactive, fixed, interact_manual\n",
    "import ipywidgets as widgets\n",
    "\n",
    "\n",
    "#Set URL of notebook to http://localhost:8888/notebooks/github_repos/Mok1-Sea-Data/Ouida.ipynb?docID=65bbd72fc0b44da390f3a2007600d6be\n",
    "\n"
   ]
  },
  {
   "cell_type": "code",
   "execution_count": null,
   "metadata": {},
   "outputs": [],
   "source": [
    "%%javascript\n",
    "//function getQueryStringValue (key){  \n",
    "//    return unescape(window.location.search.replace(new RegExp(\"^(?:.*[&\\\\?]\" + escape(key).replace(/[\\.\\+\\*]/g, \"\\\\$&\") + \"(?:\\\\=([^&]*))?)?.*$\", \"i\"), \"$1\"));\n",
    "//}\n",
    "\n",
    "#IPython.notebook.kernel.execute(\"dataurl='\".concat(getQueryStringValue(\"dataurl\")).concat(\"'\"));\n",
    "IPython.notebook.kernel.execute(\"full_notebook_url='\" + window.location + \"'\"); \n"
   ]
  },
  {
   "cell_type": "code",
   "execution_count": null,
   "metadata": {},
   "outputs": [],
   "source": [
    "try:\n",
    "    url_partitioned = full_notebook_url.partition('?')\n",
    "except:\n",
    "    url_partitioned=''\n",
    "\n",
    "\n",
    "if len(url_partitioned)>1:\n",
    "    base_url = url_partitioned[0];\n",
    "    dataurl=url_partitioned[2].partition('dataurl=')[2]\n",
    "else:\n",
    "    base_url = 'https://www.ndbc.noaa.gov/view_text_file.php'\n",
    "    dataurl='https://www.ndbc.noaa.gov/view_text_file.php?filename=mokh1h2014.txt.gz&dir=data/historical/stdmet/'\n",
    "    \n",
    "print(dataurl)"
   ]
  },
  {
   "cell_type": "code",
   "execution_count": null,
   "metadata": {},
   "outputs": [],
   "source": [
    "#print (out.widget.result)\n",
    "#chosen_url = data_dropdown_options[out.widget.result]\n",
    "print (dataurl)\n",
    "\n",
    "data = helpers.create_data_from_urls([dataurl])\n",
    "\n",
    "# Create Key Values for graph.\n",
    "graphKeyVals = []\n",
    "\n",
    "#Run all operations on Data\n",
    "for i in range(len(data)):\n",
    "    data[i].fillna('')\n",
    "    data[i] = helpers.simplify_column_names(data[i])\n",
    "    data[i] = helpers.createDateTime(data[i])\n",
    "    graphKeyVals.append( data[i]['date_time'][0].year)\n",
    "    data[i]['date_time']= data[i]['date_time'].apply(lambda x: x.replace(year= 2012))\n",
    "    \n",
    "#Create dropdown Buttons and generate table\n",
    "dropdown_options = helpers.create_dropdowns(data)"
   ]
  },
  {
   "cell_type": "code",
   "execution_count": null,
   "metadata": {},
   "outputs": [],
   "source": [
    "# Example plot of the image based on values of the selected variable\n",
    "\n",
    "#Create widget with dropdown options from list created above\n",
    "w = widgets.Dropdown(\n",
    "    options=dropdown_options,\n",
    "    description='Number:',\n",
    "    disabled=False,\n",
    ")\n",
    "\n",
    "#Describe what happens when the button changes its value\n",
    "def on_change(change):\n",
    "    if change['type'] == 'change' and change['name'] == 'value':\n",
    "        clear_output()\n",
    "        %pylab inline\n",
    "        pylab.rcParams['figure.figsize'] = (25, 15)\n",
    "        helpers.plotTimeSeriesData(data,change['new'],graphKeyVals)\n",
    "        \n",
    "w.observe(on_change)\n",
    "display(w)"
   ]
  },
  {
   "cell_type": "code",
   "execution_count": null,
   "metadata": {
    "collapsed": true,
    "jupyter": {
     "outputs_hidden": true
    }
   },
   "outputs": [],
   "source": []
  },
  {
   "cell_type": "code",
   "execution_count": null,
   "metadata": {
    "collapsed": true,
    "jupyter": {
     "outputs_hidden": true
    }
   },
   "outputs": [],
   "source": []
  },
  {
   "cell_type": "code",
   "execution_count": null,
   "metadata": {
    "collapsed": true,
    "jupyter": {
     "outputs_hidden": true
    }
   },
   "outputs": [],
   "source": []
  },
  {
   "cell_type": "code",
   "execution_count": null,
   "metadata": {
    "collapsed": true,
    "jupyter": {
     "outputs_hidden": true
    }
   },
   "outputs": [],
   "source": []
  },
  {
   "cell_type": "code",
   "execution_count": null,
   "metadata": {
    "collapsed": true,
    "jupyter": {
     "outputs_hidden": true
    }
   },
   "outputs": [],
   "source": []
  },
  {
   "cell_type": "code",
   "execution_count": null,
   "metadata": {
    "collapsed": true,
    "jupyter": {
     "outputs_hidden": true
    }
   },
   "outputs": [],
   "source": []
  }
 ],
 "metadata": {
  "kernelspec": {
   "display_name": "Python 3 (ipykernel)",
   "language": "python",
   "name": "python3"
  },
  "language_info": {
   "codemirror_mode": {
    "name": "ipython",
    "version": 3
   },
   "file_extension": ".py",
   "mimetype": "text/x-python",
   "name": "python",
   "nbconvert_exporter": "python",
   "pygments_lexer": "ipython3",
   "version": "3.8.12"
  },
  "toc": {
   "base_numbering": 1,
   "nav_menu": {},
   "number_sections": true,
   "sideBar": true,
   "skip_h1_title": false,
   "title_cell": "Table of Contents",
   "title_sidebar": "Contents",
   "toc_cell": false,
   "toc_position": {},
   "toc_section_display": true,
   "toc_window_display": false
  }
 },
 "nbformat": 4,
 "nbformat_minor": 4
}
