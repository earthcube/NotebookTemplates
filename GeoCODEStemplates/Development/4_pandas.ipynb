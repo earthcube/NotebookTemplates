{
 "cells": [
  {
   "cell_type": "markdown",
   "metadata": {},
   "source": [
    "# 1D analysis: `pandas`!"
   ]
  },
  {
   "cell_type": "code",
   "execution_count": 1,
   "metadata": {},
   "outputs": [],
   "source": [
    "import numpy as np\n",
    "import matplotlib.pyplot as plt\n",
    "%matplotlib inline\n",
    "\n",
    "import pandas as pd\n",
    "pd.set_option('max_rows', 6)  # max number of rows to show in this notebook — to save space!\n",
    "\n",
    "import seaborn as sns  # for better style in plots"
   ]
  },
  {
   "cell_type": "markdown",
   "metadata": {},
   "source": [
    "# Reading in data to a dataframe"
   ]
  },
  {
   "cell_type": "markdown",
   "metadata": {},
   "source": [
    "For 1D analysis, we are generally thinking about data that varies in time, so time series analysis. The `pandas` package is particularly suited to deal with this type of data, having very convenient methods for interpreting, searching through, and using time representations.\n",
    "\n",
    "Let's start with the example we started the class with: taxi rides in New York City."
   ]
  },
  {
   "cell_type": "code",
   "execution_count": 2,
   "metadata": {},
   "outputs": [],
   "source": [
    "df = pd.read_csv('../data/yellow_tripdata_2016-05-01_decimated.csv', parse_dates=[0, 2], index_col=[0])"
   ]
  },
  {
   "cell_type": "markdown",
   "metadata": {},
   "source": [
    "What do all these (and other) input keyword arguments do?\n",
    "\n",
    "* header: tells which row of the data file is the header, from which it will extract column names\n",
    "* parse_dates: try to interpret the values in `[col]` or `[[col1, col2]]` as dates, to convert them into `datetime` objects.\n",
    "* index_col: if no index column is given, an index counting from 0 is given to the rows. By inputting `index_col=[column integer]`, that column will be used as the index instead. This is usually done with the time information for the dataset.\n",
    "* skiprows: can skip specific rows, `skiprows=[list of rows to skip numbered from start of file with 0]`, or number of rows to skip, `skiprows=N`.\n"
   ]
  },
  {
   "cell_type": "markdown",
   "metadata": {},
   "source": [
    "We can check to make sure the date/time information has been read in as the index, which allows us to reference the other columns using this time information really easily:"
   ]
  },
  {
   "cell_type": "code",
   "execution_count": 3,
   "metadata": {
    "scrolled": true
   },
   "outputs": [
    {
     "data": {
      "text/plain": [
       "DatetimeIndex(['2016-05-01 00:00:00', '2016-05-01 00:00:00',\n",
       "               '2016-05-01 00:00:00', '2016-05-01 00:00:00',\n",
       "               '2016-05-01 00:00:00', '2016-05-01 00:00:00',\n",
       "               '2016-05-01 00:00:00', '2016-05-01 00:00:00',\n",
       "               '2016-05-01 00:00:00', '2016-05-01 00:00:00',\n",
       "               ...\n",
       "               '2016-05-01 23:59:00', '2016-05-01 23:59:00',\n",
       "               '2016-05-01 23:59:00', '2016-05-01 23:59:00',\n",
       "               '2016-05-01 23:59:00', '2016-05-01 23:59:00',\n",
       "               '2016-05-01 23:59:00', '2016-05-01 23:59:00',\n",
       "               '2016-05-01 23:59:00', '2016-05-01 23:59:00'],\n",
       "              dtype='datetime64[ns]', name='tpep_pickup_datetime', length=38211, freq=None)"
      ]
     },
     "execution_count": 3,
     "metadata": {},
     "output_type": "execute_result"
    }
   ],
   "source": [
    "df.index"
   ]
  },
  {
   "cell_type": "markdown",
   "metadata": {},
   "source": [
    "From this we see that the index is indeed using the timing information in the file, and we can see that the `dtype` is `datetime`."
   ]
  },
  {
   "cell_type": "markdown",
   "metadata": {},
   "source": [
    "# Selecting rows and columns of data\n",
    "\n",
    "In particular, we will select rows based on the index. Since in this example we are indexing by time, we can use human-readable notation to select based on date/times themselves instead of index. Columns can be selected by name."
   ]
  },
  {
   "cell_type": "markdown",
   "metadata": {},
   "source": [
    "We can now access the columns of the file using dictionary-like keyword arguments, like so:"
   ]
  },
  {
   "cell_type": "code",
   "execution_count": 4,
   "metadata": {},
   "outputs": [
    {
     "data": {
      "text/plain": [
       "tpep_pickup_datetime\n",
       "2016-05-01 00:00:00     3.60\n",
       "2016-05-01 00:00:00    18.41\n",
       "2016-05-01 00:00:00     1.60\n",
       "                       ...  \n",
       "2016-05-01 23:59:00    19.80\n",
       "2016-05-01 23:59:00     0.50\n",
       "2016-05-01 23:59:00     4.05\n",
       "Name: trip_distance, Length: 38211, dtype: float64"
      ]
     },
     "execution_count": 4,
     "metadata": {},
     "output_type": "execute_result"
    }
   ],
   "source": [
    "df['trip_distance']"
   ]
  },
  {
   "cell_type": "markdown",
   "metadata": {},
   "source": [
    "We can equivalently access the columns of data as if they are methods. This means that we can use tab autocomplete to see methods and data available in a dataframe."
   ]
  },
  {
   "cell_type": "code",
   "execution_count": 5,
   "metadata": {},
   "outputs": [
    {
     "data": {
      "text/plain": [
       "tpep_pickup_datetime\n",
       "2016-05-01 00:00:00     3.60\n",
       "2016-05-01 00:00:00    18.41\n",
       "2016-05-01 00:00:00     1.60\n",
       "                       ...  \n",
       "2016-05-01 23:59:00    19.80\n",
       "2016-05-01 23:59:00     0.50\n",
       "2016-05-01 23:59:00     4.05\n",
       "Name: trip_distance, Length: 38211, dtype: float64"
      ]
     },
     "execution_count": 5,
     "metadata": {},
     "output_type": "execute_result"
    }
   ],
   "source": [
    "df.trip_distance"
   ]
  },
  {
   "cell_type": "markdown",
   "metadata": {},
   "source": [
    "We can plot in this way, too:"
   ]
  },
  {
   "cell_type": "code",
   "execution_count": 6,
   "metadata": {},
   "outputs": [
    {
     "data": {
      "text/plain": [
       "<matplotlib.axes._subplots.AxesSubplot at 0x7f2856751f98>"
      ]
     },
     "execution_count": 6,
     "metadata": {},
     "output_type": "execute_result"
    },
    {
     "data": {
      "image/png": "[encoded data removed]",
      "text/plain": [
       "<Figure size 1008x432 with 1 Axes>"
      ]
     },
     "metadata": {
      "needs_background": "light"
     },
     "output_type": "display_data"
    }
   ],
   "source": [
    "df['trip_distance'].plot(figsize=(14,6))"
   ]
  },
  {
   "cell_type": "markdown",
   "metadata": {},
   "source": [
    "### Simple data selection\n",
    "\n",
    "One of the biggest benefits of using `pandas` is being able to easily reference the data in intuitive ways. For example, because we set up the index of the dataframe to be the date and time, we can pull out data using dates. In the following, we pull out all data from the first hour of the day:"
   ]
  },
  {
   "cell_type": "code",
   "execution_count": 7,
   "metadata": {},
   "outputs": [
    {
     "data": {
      "text/html": [
       "<div>\n",
       "<style scoped>\n",
       "    .dataframe tbody tr th:only-of-type {\n",
       "        vertical-align: middle;\n",
       "    }\n",
       "\n",
       "    .dataframe tbody tr th {\n",
       "        vertical-align: top;\n",
       "    }\n",
       "\n",
       "    .dataframe thead th {\n",
       "        text-align: right;\n",
       "    }\n",
       "</style>\n",
       "<table border=\"1\" class=\"dataframe\">\n",
       "  <thead>\n",
       "    <tr style=\"text-align: right;\">\n",
       "      <th></th>\n",
       "      <th>VendorID</th>\n",
       "      <th>tpep_dropoff_datetime</th>\n",
       "      <th>passenger_count</th>\n",
       "      <th>trip_distance</th>\n",
       "      <th>pickup_longitude</th>\n",
       "      <th>pickup_latitude</th>\n",
       "      <th>RatecodeID</th>\n",
       "      <th>store_and_fwd_flag</th>\n",
       "      <th>dropoff_longitude</th>\n",
       "      <th>dropoff_latitude</th>\n",
       "      <th>payment_type</th>\n",
       "      <th>fare_amount</th>\n",
       "      <th>extra</th>\n",
       "      <th>mta_tax</th>\n",
       "      <th>tip_amount</th>\n",
       "      <th>tolls_amount</th>\n",
       "      <th>improvement_surcharge</th>\n",
       "      <th>total_amount</th>\n",
       "    </tr>\n",
       "    <tr>\n",
       "      <th>tpep_pickup_datetime</th>\n",
       "      <th></th>\n",
       "      <th></th>\n",
       "      <th></th>\n",
       "      <th></th>\n",
       "      <th></th>\n",
       "      <th></th>\n",
       "      <th></th>\n",
       "      <th></th>\n",
       "      <th></th>\n",
       "      <th></th>\n",
       "      <th></th>\n",
       "      <th></th>\n",
       "      <th></th>\n",
       "      <th></th>\n",
       "      <th></th>\n",
       "      <th></th>\n",
       "      <th></th>\n",
       "      <th></th>\n",
       "    </tr>\n",
       "  </thead>\n",
       "  <tbody>\n",
       "    <tr>\n",
       "      <th>2016-05-01 00:00:00</th>\n",
       "      <td>1</td>\n",
       "      <td>2016-05-01 00:17:00</td>\n",
       "      <td>1</td>\n",
       "      <td>3.60</td>\n",
       "      <td>-73.985901</td>\n",
       "      <td>40.768040</td>\n",
       "      <td>1</td>\n",
       "      <td>N</td>\n",
       "      <td>-73.983986</td>\n",
       "      <td>40.730099</td>\n",
       "      <td>1</td>\n",
       "      <td>15.0</td>\n",
       "      <td>0.5</td>\n",
       "      <td>0.5</td>\n",
       "      <td>1.50</td>\n",
       "      <td>0.0</td>\n",
       "      <td>0.3</td>\n",
       "      <td>17.80</td>\n",
       "    </tr>\n",
       "    <tr>\n",
       "      <th>2016-05-01 00:00:00</th>\n",
       "      <td>2</td>\n",
       "      <td>2016-05-01 00:00:00</td>\n",
       "      <td>2</td>\n",
       "      <td>18.41</td>\n",
       "      <td>-73.781059</td>\n",
       "      <td>40.645020</td>\n",
       "      <td>2</td>\n",
       "      <td>N</td>\n",
       "      <td>-73.984573</td>\n",
       "      <td>40.768398</td>\n",
       "      <td>2</td>\n",
       "      <td>52.0</td>\n",
       "      <td>0.0</td>\n",
       "      <td>0.5</td>\n",
       "      <td>0.00</td>\n",
       "      <td>0.0</td>\n",
       "      <td>0.3</td>\n",
       "      <td>52.80</td>\n",
       "    </tr>\n",
       "    <tr>\n",
       "      <th>2016-05-01 00:00:00</th>\n",
       "      <td>2</td>\n",
       "      <td>2016-05-01 00:08:00</td>\n",
       "      <td>1</td>\n",
       "      <td>1.60</td>\n",
       "      <td>-74.002769</td>\n",
       "      <td>40.728619</td>\n",
       "      <td>1</td>\n",
       "      <td>N</td>\n",
       "      <td>-73.984161</td>\n",
       "      <td>40.737438</td>\n",
       "      <td>1</td>\n",
       "      <td>8.0</td>\n",
       "      <td>0.5</td>\n",
       "      <td>0.5</td>\n",
       "      <td>1.86</td>\n",
       "      <td>0.0</td>\n",
       "      <td>0.3</td>\n",
       "      <td>11.16</td>\n",
       "    </tr>\n",
       "    <tr>\n",
       "      <th>...</th>\n",
       "      <td>...</td>\n",
       "      <td>...</td>\n",
       "      <td>...</td>\n",
       "      <td>...</td>\n",
       "      <td>...</td>\n",
       "      <td>...</td>\n",
       "      <td>...</td>\n",
       "      <td>...</td>\n",
       "      <td>...</td>\n",
       "      <td>...</td>\n",
       "      <td>...</td>\n",
       "      <td>...</td>\n",
       "      <td>...</td>\n",
       "      <td>...</td>\n",
       "      <td>...</td>\n",
       "      <td>...</td>\n",
       "      <td>...</td>\n",
       "      <td>...</td>\n",
       "    </tr>\n",
       "    <tr>\n",
       "      <th>2016-05-01 00:59:00</th>\n",
       "      <td>1</td>\n",
       "      <td>2016-05-01 01:09:00</td>\n",
       "      <td>2</td>\n",
       "      <td>2.30</td>\n",
       "      <td>-73.999451</td>\n",
       "      <td>40.728214</td>\n",
       "      <td>1</td>\n",
       "      <td>N</td>\n",
       "      <td>-73.997505</td>\n",
       "      <td>40.745892</td>\n",
       "      <td>2</td>\n",
       "      <td>9.0</td>\n",
       "      <td>0.5</td>\n",
       "      <td>0.5</td>\n",
       "      <td>0.00</td>\n",
       "      <td>0.0</td>\n",
       "      <td>0.3</td>\n",
       "      <td>10.30</td>\n",
       "    </tr>\n",
       "    <tr>\n",
       "      <th>2016-05-01 00:59:00</th>\n",
       "      <td>2</td>\n",
       "      <td>2016-05-01 01:14:00</td>\n",
       "      <td>5</td>\n",
       "      <td>3.58</td>\n",
       "      <td>-74.001373</td>\n",
       "      <td>40.761669</td>\n",
       "      <td>1</td>\n",
       "      <td>N</td>\n",
       "      <td>-73.967537</td>\n",
       "      <td>40.791241</td>\n",
       "      <td>1</td>\n",
       "      <td>14.5</td>\n",
       "      <td>0.5</td>\n",
       "      <td>0.5</td>\n",
       "      <td>3.16</td>\n",
       "      <td>0.0</td>\n",
       "      <td>0.3</td>\n",
       "      <td>18.96</td>\n",
       "    </tr>\n",
       "    <tr>\n",
       "      <th>2016-05-01 00:59:00</th>\n",
       "      <td>2</td>\n",
       "      <td>2016-05-01 01:08:00</td>\n",
       "      <td>1</td>\n",
       "      <td>1.70</td>\n",
       "      <td>-73.986198</td>\n",
       "      <td>40.752426</td>\n",
       "      <td>1</td>\n",
       "      <td>N</td>\n",
       "      <td>-74.003548</td>\n",
       "      <td>40.740318</td>\n",
       "      <td>1</td>\n",
       "      <td>8.0</td>\n",
       "      <td>0.5</td>\n",
       "      <td>0.5</td>\n",
       "      <td>2.79</td>\n",
       "      <td>0.0</td>\n",
       "      <td>0.3</td>\n",
       "      <td>12.09</td>\n",
       "    </tr>\n",
       "  </tbody>\n",
       "</table>\n",
       "<p>2447 rows × 18 columns</p>\n",
       "</div>"
      ],
      "text/plain": [
       "                      VendorID tpep_dropoff_datetime  passenger_count  \\\n",
       "tpep_pickup_datetime                                                    \n",
       "2016-05-01 00:00:00          1   2016-05-01 00:17:00                1   \n",
       "2016-05-01 00:00:00          2   2016-05-01 00:00:00                2   \n",
       "2016-05-01 00:00:00          2   2016-05-01 00:08:00                1   \n",
       "...                        ...                   ...              ...   \n",
       "2016-05-01 00:59:00          1   2016-05-01 01:09:00                2   \n",
       "2016-05-01 00:59:00          2   2016-05-01 01:14:00                5   \n",
       "2016-05-01 00:59:00          2   2016-05-01 01:08:00                1   \n",
       "\n",
       "                      trip_distance  pickup_longitude  pickup_latitude  \\\n",
       "tpep_pickup_datetime                                                     \n",
       "2016-05-01 00:00:00            3.60        -73.985901        40.768040   \n",
       "2016-05-01 00:00:00           18.41        -73.781059        40.645020   \n",
       "2016-05-01 00:00:00            1.60        -74.002769        40.728619   \n",
       "...                             ...               ...              ...   \n",
       "2016-05-01 00:59:00            2.30        -73.999451        40.728214   \n",
       "2016-05-01 00:59:00            3.58        -74.001373        40.761669   \n",
       "2016-05-01 00:59:00            1.70        -73.986198        40.752426   \n",
       "\n",
       "                      RatecodeID store_and_fwd_flag  dropoff_longitude  \\\n",
       "tpep_pickup_datetime                                                     \n",
       "2016-05-01 00:00:00            1                  N         -73.983986   \n",
       "2016-05-01 00:00:00            2                  N         -73.984573   \n",
       "2016-05-01 00:00:00            1                  N         -73.984161   \n",
       "...                          ...                ...                ...   \n",
       "2016-05-01 00:59:00            1                  N         -73.997505   \n",
       "2016-05-01 00:59:00            1                  N         -73.967537   \n",
       "2016-05-01 00:59:00            1                  N         -74.003548   \n",
       "\n",
       "                      dropoff_latitude  payment_type  fare_amount  extra  \\\n",
       "tpep_pickup_datetime                                                       \n",
       "2016-05-01 00:00:00          40.730099             1         15.0    0.5   \n",
       "2016-05-01 00:00:00          40.768398             2         52.0    0.0   \n",
       "2016-05-01 00:00:00          40.737438             1          8.0    0.5   \n",
       "...                                ...           ...          ...    ...   \n",
       "2016-05-01 00:59:00          40.745892             2          9.0    0.5   \n",
       "2016-05-01 00:59:00          40.791241             1         14.5    0.5   \n",
       "2016-05-01 00:59:00          40.740318             1          8.0    0.5   \n",
       "\n",
       "                      mta_tax  tip_amount  tolls_amount  \\\n",
       "tpep_pickup_datetime                                      \n",
       "2016-05-01 00:00:00       0.5        1.50           0.0   \n",
       "2016-05-01 00:00:00       0.5        0.00           0.0   \n",
       "2016-05-01 00:00:00       0.5        1.86           0.0   \n",
       "...                       ...         ...           ...   \n",
       "2016-05-01 00:59:00       0.5        0.00           0.0   \n",
       "2016-05-01 00:59:00       0.5        3.16           0.0   \n",
       "2016-05-01 00:59:00       0.5        2.79           0.0   \n",
       "\n",
       "                      improvement_surcharge  total_amount  \n",
       "tpep_pickup_datetime                                       \n",
       "2016-05-01 00:00:00                     0.3         17.80  \n",
       "2016-05-01 00:00:00                     0.3         52.80  \n",
       "2016-05-01 00:00:00                     0.3         11.16  \n",
       "...                                     ...           ...  \n",
       "2016-05-01 00:59:00                     0.3         10.30  \n",
       "2016-05-01 00:59:00                     0.3         18.96  \n",
       "2016-05-01 00:59:00                     0.3         12.09  \n",
       "\n",
       "[2447 rows x 18 columns]"
      ]
     },
     "execution_count": 7,
     "metadata": {},
     "output_type": "execute_result"
    }
   ],
   "source": [
    "df['2016-05-01 00']"
   ]
  },
  {
   "cell_type": "markdown",
   "metadata": {},
   "source": [
    "Here we further subdivide to examine the passenger count during that time period:"
   ]
  },
  {
   "cell_type": "code",
   "execution_count": 8,
   "metadata": {
    "scrolled": true
   },
   "outputs": [
    {
     "data": {
      "text/plain": [
       "tpep_pickup_datetime\n",
       "2016-05-01 00:00:00    1\n",
       "2016-05-01 00:00:00    2\n",
       "2016-05-01 00:00:00    1\n",
       "                      ..\n",
       "2016-05-01 00:59:00    2\n",
       "2016-05-01 00:59:00    5\n",
       "2016-05-01 00:59:00    1\n",
       "Name: passenger_count, Length: 2447, dtype: int64"
      ]
     },
     "execution_count": 8,
     "metadata": {},
     "output_type": "execute_result"
    }
   ],
   "source": [
    "df['passenger_count']['2016-05-01 00']"
   ]
  },
  {
   "cell_type": "markdown",
   "metadata": {},
   "source": [
    "We can also access a range of data, for example any data rows from midnight until noon:"
   ]
  },
  {
   "cell_type": "code",
   "execution_count": 9,
   "metadata": {},
   "outputs": [
    {
     "data": {
      "text/html": [
       "<div>\n",
       "<style scoped>\n",
       "    .dataframe tbody tr th:only-of-type {\n",
       "        vertical-align: middle;\n",
       "    }\n",
       "\n",
       "    .dataframe tbody tr th {\n",
       "        vertical-align: top;\n",
       "    }\n",
       "\n",
       "    .dataframe thead th {\n",
       "        text-align: right;\n",
       "    }\n",
       "</style>\n",
       "<table border=\"1\" class=\"dataframe\">\n",
       "  <thead>\n",
       "    <tr style=\"text-align: right;\">\n",
       "      <th></th>\n",
       "      <th>VendorID</th>\n",
       "      <th>tpep_dropoff_datetime</th>\n",
       "      <th>passenger_count</th>\n",
       "      <th>trip_distance</th>\n",
       "      <th>pickup_longitude</th>\n",
       "      <th>pickup_latitude</th>\n",
       "      <th>RatecodeID</th>\n",
       "      <th>store_and_fwd_flag</th>\n",
       "      <th>dropoff_longitude</th>\n",
       "      <th>dropoff_latitude</th>\n",
       "      <th>payment_type</th>\n",
       "      <th>fare_amount</th>\n",
       "      <th>extra</th>\n",
       "      <th>mta_tax</th>\n",
       "      <th>tip_amount</th>\n",
       "      <th>tolls_amount</th>\n",
       "      <th>improvement_surcharge</th>\n",
       "      <th>total_amount</th>\n",
       "    </tr>\n",
       "    <tr>\n",
       "      <th>tpep_pickup_datetime</th>\n",
       "      <th></th>\n",
       "      <th></th>\n",
       "      <th></th>\n",
       "      <th></th>\n",
       "      <th></th>\n",
       "      <th></th>\n",
       "      <th></th>\n",
       "      <th></th>\n",
       "      <th></th>\n",
       "      <th></th>\n",
       "      <th></th>\n",
       "      <th></th>\n",
       "      <th></th>\n",
       "      <th></th>\n",
       "      <th></th>\n",
       "      <th></th>\n",
       "      <th></th>\n",
       "      <th></th>\n",
       "    </tr>\n",
       "  </thead>\n",
       "  <tbody>\n",
       "    <tr>\n",
       "      <th>2016-05-01 00:00:00</th>\n",
       "      <td>1</td>\n",
       "      <td>2016-05-01 00:17:00</td>\n",
       "      <td>1</td>\n",
       "      <td>3.60</td>\n",
       "      <td>-73.985901</td>\n",
       "      <td>40.768040</td>\n",
       "      <td>1</td>\n",
       "      <td>N</td>\n",
       "      <td>-73.983986</td>\n",
       "      <td>40.730099</td>\n",
       "      <td>1</td>\n",
       "      <td>15.0</td>\n",
       "      <td>0.5</td>\n",
       "      <td>0.5</td>\n",
       "      <td>1.50</td>\n",
       "      <td>0.00</td>\n",
       "      <td>0.3</td>\n",
       "      <td>17.80</td>\n",
       "    </tr>\n",
       "    <tr>\n",
       "      <th>2016-05-01 00:00:00</th>\n",
       "      <td>2</td>\n",
       "      <td>2016-05-01 00:00:00</td>\n",
       "      <td>2</td>\n",
       "      <td>18.41</td>\n",
       "      <td>-73.781059</td>\n",
       "      <td>40.645020</td>\n",
       "      <td>2</td>\n",
       "      <td>N</td>\n",
       "      <td>-73.984573</td>\n",
       "      <td>40.768398</td>\n",
       "      <td>2</td>\n",
       "      <td>52.0</td>\n",
       "      <td>0.0</td>\n",
       "      <td>0.5</td>\n",
       "      <td>0.00</td>\n",
       "      <td>0.00</td>\n",
       "      <td>0.3</td>\n",
       "      <td>52.80</td>\n",
       "    </tr>\n",
       "    <tr>\n",
       "      <th>2016-05-01 00:00:00</th>\n",
       "      <td>2</td>\n",
       "      <td>2016-05-01 00:08:00</td>\n",
       "      <td>1</td>\n",
       "      <td>1.60</td>\n",
       "      <td>-74.002769</td>\n",
       "      <td>40.728619</td>\n",
       "      <td>1</td>\n",
       "      <td>N</td>\n",
       "      <td>-73.984161</td>\n",
       "      <td>40.737438</td>\n",
       "      <td>1</td>\n",
       "      <td>8.0</td>\n",
       "      <td>0.5</td>\n",
       "      <td>0.5</td>\n",
       "      <td>1.86</td>\n",
       "      <td>0.00</td>\n",
       "      <td>0.3</td>\n",
       "      <td>11.16</td>\n",
       "    </tr>\n",
       "    <tr>\n",
       "      <th>...</th>\n",
       "      <td>...</td>\n",
       "      <td>...</td>\n",
       "      <td>...</td>\n",
       "      <td>...</td>\n",
       "      <td>...</td>\n",
       "      <td>...</td>\n",
       "      <td>...</td>\n",
       "      <td>...</td>\n",
       "      <td>...</td>\n",
       "      <td>...</td>\n",
       "      <td>...</td>\n",
       "      <td>...</td>\n",
       "      <td>...</td>\n",
       "      <td>...</td>\n",
       "      <td>...</td>\n",
       "      <td>...</td>\n",
       "      <td>...</td>\n",
       "      <td>...</td>\n",
       "    </tr>\n",
       "    <tr>\n",
       "      <th>2016-05-01 11:59:00</th>\n",
       "      <td>2</td>\n",
       "      <td>2016-05-01 12:01:00</td>\n",
       "      <td>5</td>\n",
       "      <td>0.03</td>\n",
       "      <td>-73.997009</td>\n",
       "      <td>40.766052</td>\n",
       "      <td>1</td>\n",
       "      <td>N</td>\n",
       "      <td>-73.996841</td>\n",
       "      <td>40.766403</td>\n",
       "      <td>2</td>\n",
       "      <td>3.0</td>\n",
       "      <td>0.0</td>\n",
       "      <td>0.5</td>\n",
       "      <td>0.00</td>\n",
       "      <td>0.00</td>\n",
       "      <td>0.3</td>\n",
       "      <td>3.80</td>\n",
       "    </tr>\n",
       "    <tr>\n",
       "      <th>2016-05-01 11:59:00</th>\n",
       "      <td>1</td>\n",
       "      <td>2016-05-01 12:15:00</td>\n",
       "      <td>1</td>\n",
       "      <td>1.90</td>\n",
       "      <td>-74.006813</td>\n",
       "      <td>40.730862</td>\n",
       "      <td>1</td>\n",
       "      <td>N</td>\n",
       "      <td>-73.987183</td>\n",
       "      <td>40.714912</td>\n",
       "      <td>1</td>\n",
       "      <td>11.0</td>\n",
       "      <td>0.0</td>\n",
       "      <td>0.5</td>\n",
       "      <td>2.35</td>\n",
       "      <td>0.00</td>\n",
       "      <td>0.3</td>\n",
       "      <td>14.15</td>\n",
       "    </tr>\n",
       "    <tr>\n",
       "      <th>2016-05-01 11:59:00</th>\n",
       "      <td>2</td>\n",
       "      <td>2016-05-01 12:43:00</td>\n",
       "      <td>2</td>\n",
       "      <td>13.63</td>\n",
       "      <td>-73.977943</td>\n",
       "      <td>40.762718</td>\n",
       "      <td>1</td>\n",
       "      <td>N</td>\n",
       "      <td>-73.965538</td>\n",
       "      <td>40.626259</td>\n",
       "      <td>1</td>\n",
       "      <td>43.5</td>\n",
       "      <td>0.0</td>\n",
       "      <td>0.5</td>\n",
       "      <td>5.00</td>\n",
       "      <td>5.54</td>\n",
       "      <td>0.3</td>\n",
       "      <td>54.84</td>\n",
       "    </tr>\n",
       "  </tbody>\n",
       "</table>\n",
       "<p>15951 rows × 18 columns</p>\n",
       "</div>"
      ],
      "text/plain": [
       "                      VendorID tpep_dropoff_datetime  passenger_count  \\\n",
       "tpep_pickup_datetime                                                    \n",
       "2016-05-01 00:00:00          1   2016-05-01 00:17:00                1   \n",
       "2016-05-01 00:00:00          2   2016-05-01 00:00:00                2   \n",
       "2016-05-01 00:00:00          2   2016-05-01 00:08:00                1   \n",
       "...                        ...                   ...              ...   \n",
       "2016-05-01 11:59:00          2   2016-05-01 12:01:00                5   \n",
       "2016-05-01 11:59:00          1   2016-05-01 12:15:00                1   \n",
       "2016-05-01 11:59:00          2   2016-05-01 12:43:00                2   \n",
       "\n",
       "                      trip_distance  pickup_longitude  pickup_latitude  \\\n",
       "tpep_pickup_datetime                                                     \n",
       "2016-05-01 00:00:00            3.60        -73.985901        40.768040   \n",
       "2016-05-01 00:00:00           18.41        -73.781059        40.645020   \n",
       "2016-05-01 00:00:00            1.60        -74.002769        40.728619   \n",
       "...                             ...               ...              ...   \n",
       "2016-05-01 11:59:00            0.03        -73.997009        40.766052   \n",
       "2016-05-01 11:59:00            1.90        -74.006813        40.730862   \n",
       "2016-05-01 11:59:00           13.63        -73.977943        40.762718   \n",
       "\n",
       "                      RatecodeID store_and_fwd_flag  dropoff_longitude  \\\n",
       "tpep_pickup_datetime                                                     \n",
       "2016-05-01 00:00:00            1                  N         -73.983986   \n",
       "2016-05-01 00:00:00            2                  N         -73.984573   \n",
       "2016-05-01 00:00:00            1                  N         -73.984161   \n",
       "...                          ...                ...                ...   \n",
       "2016-05-01 11:59:00            1                  N         -73.996841   \n",
       "2016-05-01 11:59:00            1                  N         -73.987183   \n",
       "2016-05-01 11:59:00            1                  N         -73.965538   \n",
       "\n",
       "                      dropoff_latitude  payment_type  fare_amount  extra  \\\n",
       "tpep_pickup_datetime                                                       \n",
       "2016-05-01 00:00:00          40.730099             1         15.0    0.5   \n",
       "2016-05-01 00:00:00          40.768398             2         52.0    0.0   \n",
       "2016-05-01 00:00:00          40.737438             1          8.0    0.5   \n",
       "...                                ...           ...          ...    ...   \n",
       "2016-05-01 11:59:00          40.766403             2          3.0    0.0   \n",
       "2016-05-01 11:59:00          40.714912             1         11.0    0.0   \n",
       "2016-05-01 11:59:00          40.626259             1         43.5    0.0   \n",
       "\n",
       "                      mta_tax  tip_amount  tolls_amount  \\\n",
       "tpep_pickup_datetime                                      \n",
       "2016-05-01 00:00:00       0.5        1.50          0.00   \n",
       "2016-05-01 00:00:00       0.5        0.00          0.00   \n",
       "2016-05-01 00:00:00       0.5        1.86          0.00   \n",
       "...                       ...         ...           ...   \n",
       "2016-05-01 11:59:00       0.5        0.00          0.00   \n",
       "2016-05-01 11:59:00       0.5        2.35          0.00   \n",
       "2016-05-01 11:59:00       0.5        5.00          5.54   \n",
       "\n",
       "                      improvement_surcharge  total_amount  \n",
       "tpep_pickup_datetime                                       \n",
       "2016-05-01 00:00:00                     0.3         17.80  \n",
       "2016-05-01 00:00:00                     0.3         52.80  \n",
       "2016-05-01 00:00:00                     0.3         11.16  \n",
       "...                                     ...           ...  \n",
       "2016-05-01 11:59:00                     0.3          3.80  \n",
       "2016-05-01 11:59:00                     0.3         14.15  \n",
       "2016-05-01 11:59:00                     0.3         54.84  \n",
       "\n",
       "[15951 rows x 18 columns]"
      ]
     },
     "execution_count": 9,
     "metadata": {},
     "output_type": "execute_result"
    }
   ],
   "source": [
    "df['2016-05-01 00':'2016-05-01 11']"
   ]
  },
  {
   "cell_type": "markdown",
   "metadata": {},
   "source": [
    "### If you want more choice in your selection\n",
    "use approach with `.loc` to access combinations of specific columns and/or rows, or subsets of columns and/or rows."
   ]
  },
  {
   "cell_type": "code",
   "execution_count": 11,
   "metadata": {},
   "outputs": [
    {
     "data": {
      "text/html": [
       "<div>\n",
       "<style scoped>\n",
       "    .dataframe tbody tr th:only-of-type {\n",
       "        vertical-align: middle;\n",
       "    }\n",
       "\n",
       "    .dataframe tbody tr th {\n",
       "        vertical-align: top;\n",
       "    }\n",
       "\n",
       "    .dataframe thead th {\n",
       "        text-align: right;\n",
       "    }\n",
       "</style>\n",
       "<table border=\"1\" class=\"dataframe\">\n",
       "  <thead>\n",
       "    <tr style=\"text-align: right;\">\n",
       "      <th></th>\n",
       "      <th>VendorID</th>\n",
       "      <th>tpep_dropoff_datetime</th>\n",
       "      <th>passenger_count</th>\n",
       "      <th>trip_distance</th>\n",
       "      <th>pickup_longitude</th>\n",
       "      <th>pickup_latitude</th>\n",
       "      <th>RatecodeID</th>\n",
       "      <th>store_and_fwd_flag</th>\n",
       "      <th>dropoff_longitude</th>\n",
       "      <th>dropoff_latitude</th>\n",
       "      <th>payment_type</th>\n",
       "      <th>fare_amount</th>\n",
       "      <th>extra</th>\n",
       "      <th>mta_tax</th>\n",
       "      <th>tip_amount</th>\n",
       "      <th>tolls_amount</th>\n",
       "      <th>improvement_surcharge</th>\n",
       "      <th>total_amount</th>\n",
       "    </tr>\n",
       "    <tr>\n",
       "      <th>tpep_pickup_datetime</th>\n",
       "      <th></th>\n",
       "      <th></th>\n",
       "      <th></th>\n",
       "      <th></th>\n",
       "      <th></th>\n",
       "      <th></th>\n",
       "      <th></th>\n",
       "      <th></th>\n",
       "      <th></th>\n",
       "      <th></th>\n",
       "      <th></th>\n",
       "      <th></th>\n",
       "      <th></th>\n",
       "      <th></th>\n",
       "      <th></th>\n",
       "      <th></th>\n",
       "      <th></th>\n",
       "      <th></th>\n",
       "    </tr>\n",
       "  </thead>\n",
       "  <tbody>\n",
       "    <tr>\n",
       "      <th>2016-05-01 00:30:00</th>\n",
       "      <td>1</td>\n",
       "      <td>2016-05-01 00:41:00</td>\n",
       "      <td>1</td>\n",
       "      <td>3.10</td>\n",
       "      <td>-73.984566</td>\n",
       "      <td>40.752789</td>\n",
       "      <td>1</td>\n",
       "      <td>N</td>\n",
       "      <td>-73.954048</td>\n",
       "      <td>40.780731</td>\n",
       "      <td>1</td>\n",
       "      <td>11.5</td>\n",
       "      <td>0.5</td>\n",
       "      <td>0.5</td>\n",
       "      <td>2.55</td>\n",
       "      <td>0.0</td>\n",
       "      <td>0.3</td>\n",
       "      <td>15.35</td>\n",
       "    </tr>\n",
       "    <tr>\n",
       "      <th>2016-05-01 00:30:00</th>\n",
       "      <td>2</td>\n",
       "      <td>2016-05-01 00:37:00</td>\n",
       "      <td>1</td>\n",
       "      <td>1.34</td>\n",
       "      <td>-73.987144</td>\n",
       "      <td>40.760605</td>\n",
       "      <td>1</td>\n",
       "      <td>N</td>\n",
       "      <td>-73.990891</td>\n",
       "      <td>40.750931</td>\n",
       "      <td>1</td>\n",
       "      <td>7.0</td>\n",
       "      <td>0.5</td>\n",
       "      <td>0.5</td>\n",
       "      <td>1.66</td>\n",
       "      <td>0.0</td>\n",
       "      <td>0.3</td>\n",
       "      <td>9.96</td>\n",
       "    </tr>\n",
       "    <tr>\n",
       "      <th>2016-05-01 00:30:00</th>\n",
       "      <td>1</td>\n",
       "      <td>2016-05-01 00:35:00</td>\n",
       "      <td>3</td>\n",
       "      <td>0.80</td>\n",
       "      <td>-73.994965</td>\n",
       "      <td>40.727703</td>\n",
       "      <td>1</td>\n",
       "      <td>N</td>\n",
       "      <td>-74.000732</td>\n",
       "      <td>40.732288</td>\n",
       "      <td>1</td>\n",
       "      <td>5.5</td>\n",
       "      <td>0.5</td>\n",
       "      <td>0.5</td>\n",
       "      <td>1.70</td>\n",
       "      <td>0.0</td>\n",
       "      <td>0.3</td>\n",
       "      <td>8.50</td>\n",
       "    </tr>\n",
       "    <tr>\n",
       "      <th>...</th>\n",
       "      <td>...</td>\n",
       "      <td>...</td>\n",
       "      <td>...</td>\n",
       "      <td>...</td>\n",
       "      <td>...</td>\n",
       "      <td>...</td>\n",
       "      <td>...</td>\n",
       "      <td>...</td>\n",
       "      <td>...</td>\n",
       "      <td>...</td>\n",
       "      <td>...</td>\n",
       "      <td>...</td>\n",
       "      <td>...</td>\n",
       "      <td>...</td>\n",
       "      <td>...</td>\n",
       "      <td>...</td>\n",
       "      <td>...</td>\n",
       "      <td>...</td>\n",
       "    </tr>\n",
       "    <tr>\n",
       "      <th>2016-05-01 00:30:00</th>\n",
       "      <td>1</td>\n",
       "      <td>2016-05-01 00:35:00</td>\n",
       "      <td>1</td>\n",
       "      <td>0.70</td>\n",
       "      <td>-74.000664</td>\n",
       "      <td>40.737263</td>\n",
       "      <td>1</td>\n",
       "      <td>N</td>\n",
       "      <td>-74.000732</td>\n",
       "      <td>40.728989</td>\n",
       "      <td>1</td>\n",
       "      <td>5.0</td>\n",
       "      <td>0.5</td>\n",
       "      <td>0.5</td>\n",
       "      <td>1.25</td>\n",
       "      <td>0.0</td>\n",
       "      <td>0.3</td>\n",
       "      <td>7.55</td>\n",
       "    </tr>\n",
       "    <tr>\n",
       "      <th>2016-05-01 00:30:00</th>\n",
       "      <td>2</td>\n",
       "      <td>2016-05-01 00:44:00</td>\n",
       "      <td>2</td>\n",
       "      <td>5.51</td>\n",
       "      <td>-73.993782</td>\n",
       "      <td>40.712341</td>\n",
       "      <td>1</td>\n",
       "      <td>N</td>\n",
       "      <td>-73.958893</td>\n",
       "      <td>40.768017</td>\n",
       "      <td>1</td>\n",
       "      <td>18.0</td>\n",
       "      <td>0.5</td>\n",
       "      <td>0.5</td>\n",
       "      <td>2.00</td>\n",
       "      <td>0.0</td>\n",
       "      <td>0.3</td>\n",
       "      <td>21.30</td>\n",
       "    </tr>\n",
       "    <tr>\n",
       "      <th>2016-05-01 00:30:00</th>\n",
       "      <td>2</td>\n",
       "      <td>2016-05-01 00:40:00</td>\n",
       "      <td>2</td>\n",
       "      <td>1.05</td>\n",
       "      <td>-73.989548</td>\n",
       "      <td>40.747219</td>\n",
       "      <td>1</td>\n",
       "      <td>N</td>\n",
       "      <td>-73.987579</td>\n",
       "      <td>40.738537</td>\n",
       "      <td>1</td>\n",
       "      <td>7.0</td>\n",
       "      <td>0.5</td>\n",
       "      <td>0.5</td>\n",
       "      <td>1.00</td>\n",
       "      <td>0.0</td>\n",
       "      <td>0.3</td>\n",
       "      <td>9.30</td>\n",
       "    </tr>\n",
       "  </tbody>\n",
       "</table>\n",
       "<p>41 rows × 18 columns</p>\n",
       "</div>"
      ],
      "text/plain": [
       "                      VendorID tpep_dropoff_datetime  passenger_count  \\\n",
       "tpep_pickup_datetime                                                    \n",
       "2016-05-01 00:30:00          1   2016-05-01 00:41:00                1   \n",
       "2016-05-01 00:30:00          2   2016-05-01 00:37:00                1   \n",
       "2016-05-01 00:30:00          1   2016-05-01 00:35:00                3   \n",
       "...                        ...                   ...              ...   \n",
       "2016-05-01 00:30:00          1   2016-05-01 00:35:00                1   \n",
       "2016-05-01 00:30:00          2   2016-05-01 00:44:00                2   \n",
       "2016-05-01 00:30:00          2   2016-05-01 00:40:00                2   \n",
       "\n",
       "                      trip_distance  pickup_longitude  pickup_latitude  \\\n",
       "tpep_pickup_datetime                                                     \n",
       "2016-05-01 00:30:00            3.10        -73.984566        40.752789   \n",
       "2016-05-01 00:30:00            1.34        -73.987144        40.760605   \n",
       "2016-05-01 00:30:00            0.80        -73.994965        40.727703   \n",
       "...                             ...               ...              ...   \n",
       "2016-05-01 00:30:00            0.70        -74.000664        40.737263   \n",
       "2016-05-01 00:30:00            5.51        -73.993782        40.712341   \n",
       "2016-05-01 00:30:00            1.05        -73.989548        40.747219   \n",
       "\n",
       "                      RatecodeID store_and_fwd_flag  dropoff_longitude  \\\n",
       "tpep_pickup_datetime                                                     \n",
       "2016-05-01 00:30:00            1                  N         -73.954048   \n",
       "2016-05-01 00:30:00            1                  N         -73.990891   \n",
       "2016-05-01 00:30:00            1                  N         -74.000732   \n",
       "...                          ...                ...                ...   \n",
       "2016-05-01 00:30:00            1                  N         -74.000732   \n",
       "2016-05-01 00:30:00            1                  N         -73.958893   \n",
       "2016-05-01 00:30:00            1                  N         -73.987579   \n",
       "\n",
       "                      dropoff_latitude  payment_type  fare_amount  extra  \\\n",
       "tpep_pickup_datetime                                                       \n",
       "2016-05-01 00:30:00          40.780731             1         11.5    0.5   \n",
       "2016-05-01 00:30:00          40.750931             1          7.0    0.5   \n",
       "2016-05-01 00:30:00          40.732288             1          5.5    0.5   \n",
       "...                                ...           ...          ...    ...   \n",
       "2016-05-01 00:30:00          40.728989             1          5.0    0.5   \n",
       "2016-05-01 00:30:00          40.768017             1         18.0    0.5   \n",
       "2016-05-01 00:30:00          40.738537             1          7.0    0.5   \n",
       "\n",
       "                      mta_tax  tip_amount  tolls_amount  \\\n",
       "tpep_pickup_datetime                                      \n",
       "2016-05-01 00:30:00       0.5        2.55           0.0   \n",
       "2016-05-01 00:30:00       0.5        1.66           0.0   \n",
       "2016-05-01 00:30:00       0.5        1.70           0.0   \n",
       "...                       ...         ...           ...   \n",
       "2016-05-01 00:30:00       0.5        1.25           0.0   \n",
       "2016-05-01 00:30:00       0.5        2.00           0.0   \n",
       "2016-05-01 00:30:00       0.5        1.00           0.0   \n",
       "\n",
       "                      improvement_surcharge  total_amount  \n",
       "tpep_pickup_datetime                                       \n",
       "2016-05-01 00:30:00                     0.3         15.35  \n",
       "2016-05-01 00:30:00                     0.3          9.96  \n",
       "2016-05-01 00:30:00                     0.3          8.50  \n",
       "...                                     ...           ...  \n",
       "2016-05-01 00:30:00                     0.3          7.55  \n",
       "2016-05-01 00:30:00                     0.3         21.30  \n",
       "2016-05-01 00:30:00                     0.3          9.30  \n",
       "\n",
       "[41 rows x 18 columns]"
      ]
     },
     "execution_count": 11,
     "metadata": {},
     "output_type": "execute_result"
    }
   ],
   "source": [
    "df.loc['2016-05-01 00:30']"
   ]
  },
  {
   "cell_type": "markdown",
   "metadata": {},
   "source": [
    "You can also select data for more specific time periods.\n",
    "\n",
    "`df.loc[row_label, col_label]`"
   ]
  },
  {
   "cell_type": "code",
   "execution_count": 12,
   "metadata": {},
   "outputs": [
    {
     "data": {
      "text/plain": [
       "tpep_pickup_datetime\n",
       "2016-05-01 00:30:00    1\n",
       "2016-05-01 00:30:00    1\n",
       "2016-05-01 00:30:00    3\n",
       "                      ..\n",
       "2016-05-01 00:30:00    1\n",
       "2016-05-01 00:30:00    2\n",
       "2016-05-01 00:30:00    2\n",
       "Name: passenger_count, Length: 41, dtype: int64"
      ]
     },
     "execution_count": 12,
     "metadata": {},
     "output_type": "execute_result"
    }
   ],
   "source": [
    "df.loc['2016-05-01 00:30', 'passenger_count']"
   ]
  },
  {
   "cell_type": "markdown",
   "metadata": {},
   "source": [
    "You can select more than one column:"
   ]
  },
  {
   "cell_type": "code",
   "execution_count": 13,
   "metadata": {},
   "outputs": [
    {
     "data": {
      "text/html": [
       "<div>\n",
       "<style scoped>\n",
       "    .dataframe tbody tr th:only-of-type {\n",
       "        vertical-align: middle;\n",
       "    }\n",
       "\n",
       "    .dataframe tbody tr th {\n",
       "        vertical-align: top;\n",
       "    }\n",
       "\n",
       "    .dataframe thead th {\n",
       "        text-align: right;\n",
       "    }\n",
       "</style>\n",
       "<table border=\"1\" class=\"dataframe\">\n",
       "  <thead>\n",
       "    <tr style=\"text-align: right;\">\n",
       "      <th></th>\n",
       "      <th>passenger_count</th>\n",
       "      <th>trip_distance</th>\n",
       "    </tr>\n",
       "    <tr>\n",
       "      <th>tpep_pickup_datetime</th>\n",
       "      <th></th>\n",
       "      <th></th>\n",
       "    </tr>\n",
       "  </thead>\n",
       "  <tbody>\n",
       "    <tr>\n",
       "      <th>2016-05-01 00:30:00</th>\n",
       "      <td>1</td>\n",
       "      <td>3.10</td>\n",
       "    </tr>\n",
       "    <tr>\n",
       "      <th>2016-05-01 00:30:00</th>\n",
       "      <td>1</td>\n",
       "      <td>1.34</td>\n",
       "    </tr>\n",
       "    <tr>\n",
       "      <th>2016-05-01 00:30:00</th>\n",
       "      <td>3</td>\n",
       "      <td>0.80</td>\n",
       "    </tr>\n",
       "    <tr>\n",
       "      <th>...</th>\n",
       "      <td>...</td>\n",
       "      <td>...</td>\n",
       "    </tr>\n",
       "    <tr>\n",
       "      <th>2016-05-01 00:30:00</th>\n",
       "      <td>1</td>\n",
       "      <td>0.70</td>\n",
       "    </tr>\n",
       "    <tr>\n",
       "      <th>2016-05-01 00:30:00</th>\n",
       "      <td>2</td>\n",
       "      <td>5.51</td>\n",
       "    </tr>\n",
       "    <tr>\n",
       "      <th>2016-05-01 00:30:00</th>\n",
       "      <td>2</td>\n",
       "      <td>1.05</td>\n",
       "    </tr>\n",
       "  </tbody>\n",
       "</table>\n",
       "<p>41 rows × 2 columns</p>\n",
       "</div>"
      ],
      "text/plain": [
       "                      passenger_count  trip_distance\n",
       "tpep_pickup_datetime                                \n",
       "2016-05-01 00:30:00                 1           3.10\n",
       "2016-05-01 00:30:00                 1           1.34\n",
       "2016-05-01 00:30:00                 3           0.80\n",
       "...                               ...            ...\n",
       "2016-05-01 00:30:00                 1           0.70\n",
       "2016-05-01 00:30:00                 2           5.51\n",
       "2016-05-01 00:30:00                 2           1.05\n",
       "\n",
       "[41 rows x 2 columns]"
      ]
     },
     "execution_count": 13,
     "metadata": {},
     "output_type": "execute_result"
    }
   ],
   "source": [
    "df.loc['2016-05-01 00:30', ['passenger_count','trip_distance']]"
   ]
  },
  {
   "cell_type": "markdown",
   "metadata": {},
   "source": [
    "You can select a range of data:"
   ]
  },
  {
   "cell_type": "code",
   "execution_count": 14,
   "metadata": {},
   "outputs": [
    {
     "data": {
      "text/html": [
       "<div>\n",
       "<style scoped>\n",
       "    .dataframe tbody tr th:only-of-type {\n",
       "        vertical-align: middle;\n",
       "    }\n",
       "\n",
       "    .dataframe tbody tr th {\n",
       "        vertical-align: top;\n",
       "    }\n",
       "\n",
       "    .dataframe thead th {\n",
       "        text-align: right;\n",
       "    }\n",
       "</style>\n",
       "<table border=\"1\" class=\"dataframe\">\n",
       "  <thead>\n",
       "    <tr style=\"text-align: right;\">\n",
       "      <th></th>\n",
       "      <th>passenger_count</th>\n",
       "      <th>trip_distance</th>\n",
       "    </tr>\n",
       "    <tr>\n",
       "      <th>tpep_pickup_datetime</th>\n",
       "      <th></th>\n",
       "      <th></th>\n",
       "    </tr>\n",
       "  </thead>\n",
       "  <tbody>\n",
       "    <tr>\n",
       "      <th>2016-05-01 00:30:00</th>\n",
       "      <td>1</td>\n",
       "      <td>3.10</td>\n",
       "    </tr>\n",
       "    <tr>\n",
       "      <th>2016-05-01 00:30:00</th>\n",
       "      <td>1</td>\n",
       "      <td>1.34</td>\n",
       "    </tr>\n",
       "    <tr>\n",
       "      <th>2016-05-01 00:30:00</th>\n",
       "      <td>3</td>\n",
       "      <td>0.80</td>\n",
       "    </tr>\n",
       "    <tr>\n",
       "      <th>...</th>\n",
       "      <td>...</td>\n",
       "      <td>...</td>\n",
       "    </tr>\n",
       "    <tr>\n",
       "      <th>2016-05-01 01:30:00</th>\n",
       "      <td>2</td>\n",
       "      <td>0.70</td>\n",
       "    </tr>\n",
       "    <tr>\n",
       "      <th>2016-05-01 01:30:00</th>\n",
       "      <td>1</td>\n",
       "      <td>1.46</td>\n",
       "    </tr>\n",
       "    <tr>\n",
       "      <th>2016-05-01 01:30:00</th>\n",
       "      <td>1</td>\n",
       "      <td>1.64</td>\n",
       "    </tr>\n",
       "  </tbody>\n",
       "</table>\n",
       "<p>2311 rows × 2 columns</p>\n",
       "</div>"
      ],
      "text/plain": [
       "                      passenger_count  trip_distance\n",
       "tpep_pickup_datetime                                \n",
       "2016-05-01 00:30:00                 1           3.10\n",
       "2016-05-01 00:30:00                 1           1.34\n",
       "2016-05-01 00:30:00                 3           0.80\n",
       "...                               ...            ...\n",
       "2016-05-01 01:30:00                 2           0.70\n",
       "2016-05-01 01:30:00                 1           1.46\n",
       "2016-05-01 01:30:00                 1           1.64\n",
       "\n",
       "[2311 rows x 2 columns]"
      ]
     },
     "execution_count": 14,
     "metadata": {},
     "output_type": "execute_result"
    }
   ],
   "source": [
    "df.loc['2016-05-01 00:30':'2016-05-01 01:30', ['passenger_count','trip_distance']]"
   ]
  },
  {
   "cell_type": "markdown",
   "metadata": {},
   "source": [
    "You can alternatively select data by index instead of by label, using `iloc` instead of `loc`. Here we select the first 5 rows of data for all columns:"
   ]
  },
  {
   "cell_type": "code",
   "execution_count": 15,
   "metadata": {},
   "outputs": [
    {
     "data": {
      "text/html": [
       "<div>\n",
       "<style scoped>\n",
       "    .dataframe tbody tr th:only-of-type {\n",
       "        vertical-align: middle;\n",
       "    }\n",
       "\n",
       "    .dataframe tbody tr th {\n",
       "        vertical-align: top;\n",
       "    }\n",
       "\n",
       "    .dataframe thead th {\n",
       "        text-align: right;\n",
       "    }\n",
       "</style>\n",
       "<table border=\"1\" class=\"dataframe\">\n",
       "  <thead>\n",
       "    <tr style=\"text-align: right;\">\n",
       "      <th></th>\n",
       "      <th>VendorID</th>\n",
       "      <th>tpep_dropoff_datetime</th>\n",
       "      <th>passenger_count</th>\n",
       "      <th>trip_distance</th>\n",
       "      <th>pickup_longitude</th>\n",
       "      <th>pickup_latitude</th>\n",
       "      <th>RatecodeID</th>\n",
       "      <th>store_and_fwd_flag</th>\n",
       "      <th>dropoff_longitude</th>\n",
       "      <th>dropoff_latitude</th>\n",
       "      <th>payment_type</th>\n",
       "      <th>fare_amount</th>\n",
       "      <th>extra</th>\n",
       "      <th>mta_tax</th>\n",
       "      <th>tip_amount</th>\n",
       "      <th>tolls_amount</th>\n",
       "      <th>improvement_surcharge</th>\n",
       "      <th>total_amount</th>\n",
       "    </tr>\n",
       "    <tr>\n",
       "      <th>tpep_pickup_datetime</th>\n",
       "      <th></th>\n",
       "      <th></th>\n",
       "      <th></th>\n",
       "      <th></th>\n",
       "      <th></th>\n",
       "      <th></th>\n",
       "      <th></th>\n",
       "      <th></th>\n",
       "      <th></th>\n",
       "      <th></th>\n",
       "      <th></th>\n",
       "      <th></th>\n",
       "      <th></th>\n",
       "      <th></th>\n",
       "      <th></th>\n",
       "      <th></th>\n",
       "      <th></th>\n",
       "      <th></th>\n",
       "    </tr>\n",
       "  </thead>\n",
       "  <tbody>\n",
       "    <tr>\n",
       "      <th>2016-05-01</th>\n",
       "      <td>1</td>\n",
       "      <td>2016-05-01 00:17:00</td>\n",
       "      <td>1</td>\n",
       "      <td>3.60</td>\n",
       "      <td>-73.985901</td>\n",
       "      <td>40.768040</td>\n",
       "      <td>1</td>\n",
       "      <td>N</td>\n",
       "      <td>-73.983986</td>\n",
       "      <td>40.730099</td>\n",
       "      <td>1</td>\n",
       "      <td>15.0</td>\n",
       "      <td>0.5</td>\n",
       "      <td>0.5</td>\n",
       "      <td>1.50</td>\n",
       "      <td>0.0</td>\n",
       "      <td>0.3</td>\n",
       "      <td>17.80</td>\n",
       "    </tr>\n",
       "    <tr>\n",
       "      <th>2016-05-01</th>\n",
       "      <td>2</td>\n",
       "      <td>2016-05-01 00:00:00</td>\n",
       "      <td>2</td>\n",
       "      <td>18.41</td>\n",
       "      <td>-73.781059</td>\n",
       "      <td>40.645020</td>\n",
       "      <td>2</td>\n",
       "      <td>N</td>\n",
       "      <td>-73.984573</td>\n",
       "      <td>40.768398</td>\n",
       "      <td>2</td>\n",
       "      <td>52.0</td>\n",
       "      <td>0.0</td>\n",
       "      <td>0.5</td>\n",
       "      <td>0.00</td>\n",
       "      <td>0.0</td>\n",
       "      <td>0.3</td>\n",
       "      <td>52.80</td>\n",
       "    </tr>\n",
       "    <tr>\n",
       "      <th>2016-05-01</th>\n",
       "      <td>2</td>\n",
       "      <td>2016-05-01 00:08:00</td>\n",
       "      <td>1</td>\n",
       "      <td>1.60</td>\n",
       "      <td>-74.002769</td>\n",
       "      <td>40.728619</td>\n",
       "      <td>1</td>\n",
       "      <td>N</td>\n",
       "      <td>-73.984161</td>\n",
       "      <td>40.737438</td>\n",
       "      <td>1</td>\n",
       "      <td>8.0</td>\n",
       "      <td>0.5</td>\n",
       "      <td>0.5</td>\n",
       "      <td>1.86</td>\n",
       "      <td>0.0</td>\n",
       "      <td>0.3</td>\n",
       "      <td>11.16</td>\n",
       "    </tr>\n",
       "    <tr>\n",
       "      <th>2016-05-01</th>\n",
       "      <td>1</td>\n",
       "      <td>2016-05-01 00:19:00</td>\n",
       "      <td>1</td>\n",
       "      <td>1.90</td>\n",
       "      <td>-73.987854</td>\n",
       "      <td>40.749043</td>\n",
       "      <td>1</td>\n",
       "      <td>N</td>\n",
       "      <td>-73.992203</td>\n",
       "      <td>40.725452</td>\n",
       "      <td>1</td>\n",
       "      <td>13.0</td>\n",
       "      <td>0.5</td>\n",
       "      <td>0.5</td>\n",
       "      <td>2.85</td>\n",
       "      <td>0.0</td>\n",
       "      <td>0.3</td>\n",
       "      <td>17.15</td>\n",
       "    </tr>\n",
       "    <tr>\n",
       "      <th>2016-05-01</th>\n",
       "      <td>2</td>\n",
       "      <td>2016-05-01 00:10:00</td>\n",
       "      <td>1</td>\n",
       "      <td>2.37</td>\n",
       "      <td>-74.006760</td>\n",
       "      <td>40.716454</td>\n",
       "      <td>1</td>\n",
       "      <td>N</td>\n",
       "      <td>-73.989731</td>\n",
       "      <td>40.746796</td>\n",
       "      <td>1</td>\n",
       "      <td>10.0</td>\n",
       "      <td>0.5</td>\n",
       "      <td>0.5</td>\n",
       "      <td>2.26</td>\n",
       "      <td>0.0</td>\n",
       "      <td>0.3</td>\n",
       "      <td>13.56</td>\n",
       "    </tr>\n",
       "  </tbody>\n",
       "</table>\n",
       "</div>"
      ],
      "text/plain": [
       "                      VendorID tpep_dropoff_datetime  passenger_count  \\\n",
       "tpep_pickup_datetime                                                    \n",
       "2016-05-01                   1   2016-05-01 00:17:00                1   \n",
       "2016-05-01                   2   2016-05-01 00:00:00                2   \n",
       "2016-05-01                   2   2016-05-01 00:08:00                1   \n",
       "2016-05-01                   1   2016-05-01 00:19:00                1   \n",
       "2016-05-01                   2   2016-05-01 00:10:00                1   \n",
       "\n",
       "                      trip_distance  pickup_longitude  pickup_latitude  \\\n",
       "tpep_pickup_datetime                                                     \n",
       "2016-05-01                     3.60        -73.985901        40.768040   \n",
       "2016-05-01                    18.41        -73.781059        40.645020   \n",
       "2016-05-01                     1.60        -74.002769        40.728619   \n",
       "2016-05-01                     1.90        -73.987854        40.749043   \n",
       "2016-05-01                     2.37        -74.006760        40.716454   \n",
       "\n",
       "                      RatecodeID store_and_fwd_flag  dropoff_longitude  \\\n",
       "tpep_pickup_datetime                                                     \n",
       "2016-05-01                     1                  N         -73.983986   \n",
       "2016-05-01                     2                  N         -73.984573   \n",
       "2016-05-01                     1                  N         -73.984161   \n",
       "2016-05-01                     1                  N         -73.992203   \n",
       "2016-05-01                     1                  N         -73.989731   \n",
       "\n",
       "                      dropoff_latitude  payment_type  fare_amount  extra  \\\n",
       "tpep_pickup_datetime                                                       \n",
       "2016-05-01                   40.730099             1         15.0    0.5   \n",
       "2016-05-01                   40.768398             2         52.0    0.0   \n",
       "2016-05-01                   40.737438             1          8.0    0.5   \n",
       "2016-05-01                   40.725452             1         13.0    0.5   \n",
       "2016-05-01                   40.746796             1         10.0    0.5   \n",
       "\n",
       "                      mta_tax  tip_amount  tolls_amount  \\\n",
       "tpep_pickup_datetime                                      \n",
       "2016-05-01                0.5        1.50           0.0   \n",
       "2016-05-01                0.5        0.00           0.0   \n",
       "2016-05-01                0.5        1.86           0.0   \n",
       "2016-05-01                0.5        2.85           0.0   \n",
       "2016-05-01                0.5        2.26           0.0   \n",
       "\n",
       "                      improvement_surcharge  total_amount  \n",
       "tpep_pickup_datetime                                       \n",
       "2016-05-01                              0.3         17.80  \n",
       "2016-05-01                              0.3         52.80  \n",
       "2016-05-01                              0.3         11.16  \n",
       "2016-05-01                              0.3         17.15  \n",
       "2016-05-01                              0.3         13.56  "
      ]
     },
     "execution_count": 15,
     "metadata": {},
     "output_type": "execute_result"
    }
   ],
   "source": [
    "df.iloc[0:5, :]"
   ]
  },
  {
   "cell_type": "markdown",
   "metadata": {},
   "source": [
    "---\n",
    "###  *Exercise*\n",
    "\n",
    "> Access the data from dataframe `df` for the last three hours of the day at once. Plot the tip amount (`tip_amount`) for this time period.\n",
    "\n",
    "> After you can make a line plot, try making a histogram of the data. Play around with the data range and the number of bins. A number of `plot` types are available built-in to a `pandas` dataframe inside the `plot` method under the keyword argument `kind`.\n",
    "\n",
    "---"
   ]
  },
  {
   "cell_type": "code",
   "execution_count": null,
   "metadata": {},
   "outputs": [],
   "source": []
  },
  {
   "cell_type": "markdown",
   "metadata": {},
   "source": [
    "---\n",
    "###  *Exercise*\n",
    "\n",
    "> Using `pandas`, read in the CTD data we've used in class several times. What variable would make sense to use for your index column?\n",
    "\n",
    "---"
   ]
  },
  {
   "cell_type": "code",
   "execution_count": null,
   "metadata": {},
   "outputs": [],
   "source": []
  },
  {
   "cell_type": "markdown",
   "metadata": {},
   "source": [
    "## Notes about datetimes"
   ]
  },
  {
   "cell_type": "markdown",
   "metadata": {},
   "source": [
    "You can change the format of datetimes using `strftime()`. \n",
    "\n",
    "Compare the datetimes in our dataframe index in the first cell below with the second cell, in which we format the look of the datetimes differently. We can choose how it looks using formatting codes. You can find a comprehensive list of the formatting directives at [http://strftime.org/](http://strftime.org/). Note that inside the parentheses, you can write other characters that will be passed through (like the comma in the example below)."
   ]
  },
  {
   "cell_type": "code",
   "execution_count": 16,
   "metadata": {},
   "outputs": [
    {
     "data": {
      "text/plain": [
       "DatetimeIndex(['2016-05-01 00:00:00', '2016-05-01 00:00:00',\n",
       "               '2016-05-01 00:00:00', '2016-05-01 00:00:00',\n",
       "               '2016-05-01 00:00:00', '2016-05-01 00:00:00',\n",
       "               '2016-05-01 00:00:00', '2016-05-01 00:00:00',\n",
       "               '2016-05-01 00:00:00', '2016-05-01 00:00:00',\n",
       "               ...\n",
       "               '2016-05-01 23:59:00', '2016-05-01 23:59:00',\n",
       "               '2016-05-01 23:59:00', '2016-05-01 23:59:00',\n",
       "               '2016-05-01 23:59:00', '2016-05-01 23:59:00',\n",
       "               '2016-05-01 23:59:00', '2016-05-01 23:59:00',\n",
       "               '2016-05-01 23:59:00', '2016-05-01 23:59:00'],\n",
       "              dtype='datetime64[ns]', name='tpep_pickup_datetime', length=38211, freq=None)"
      ]
     },
     "execution_count": 16,
     "metadata": {},
     "output_type": "execute_result"
    }
   ],
   "source": [
    "df = pd.read_csv('../data/yellow_tripdata_2016-05-01_decimated.csv', parse_dates=[0, 2], index_col=[0])\n",
    "df.index"
   ]
  },
  {
   "cell_type": "code",
   "execution_count": 17,
   "metadata": {},
   "outputs": [
    {
     "data": {
      "text/plain": [
       "Index(['May 01, 2016 00:05', 'May 01, 2016 00:05', 'May 01, 2016 00:05',\n",
       "       'May 01, 2016 00:05', 'May 01, 2016 00:05', 'May 01, 2016 00:05',\n",
       "       'May 01, 2016 00:05', 'May 01, 2016 00:05', 'May 01, 2016 00:05',\n",
       "       'May 01, 2016 00:05',\n",
       "       ...\n",
       "       'May 01, 2016 23:05', 'May 01, 2016 23:05', 'May 01, 2016 23:05',\n",
       "       'May 01, 2016 23:05', 'May 01, 2016 23:05', 'May 01, 2016 23:05',\n",
       "       'May 01, 2016 23:05', 'May 01, 2016 23:05', 'May 01, 2016 23:05',\n",
       "       'May 01, 2016 23:05'],\n",
       "      dtype='object', length=38211)"
      ]
     },
     "execution_count": 17,
     "metadata": {},
     "output_type": "execute_result"
    }
   ],
   "source": [
    "df.index.strftime('%b %d, %Y %H:%m')"
   ]
  },
  {
   "cell_type": "markdown",
   "metadata": {},
   "source": [
    "You can create and use datetimes using `pandas`. It will interpret the information you put into a string as best it can. Year-month-day is a good way to put in dates instead of using either American or European-specific ordering. \n",
    "\n",
    "After defining a pandas Timestamp, you can also change time using Timedelta."
   ]
  },
  {
   "cell_type": "code",
   "execution_count": 18,
   "metadata": {},
   "outputs": [
    {
     "data": {
      "text/plain": [
       "Timestamp('2019-10-22 13:19:00')"
      ]
     },
     "execution_count": 18,
     "metadata": {},
     "output_type": "execute_result"
    }
   ],
   "source": [
    "now = pd.Timestamp('October 22, 2019 1:19PM')\n",
    "now"
   ]
  },
  {
   "cell_type": "code",
   "execution_count": 19,
   "metadata": {},
   "outputs": [
    {
     "data": {
      "text/plain": [
       "Timestamp('2019-10-23 13:19:00')"
      ]
     },
     "execution_count": 19,
     "metadata": {},
     "output_type": "execute_result"
    }
   ],
   "source": [
    "tomorrow = pd.Timedelta('1 day')\n",
    "now + tomorrow"
   ]
  },
  {
   "cell_type": "markdown",
   "metadata": {},
   "source": [
    "You can set up a range of datetimes to make your own data frame indices with the following. Codes for frequency [are available](https://pandas.pydata.org/pandas-docs/stable/user_guide/timeseries.html)."
   ]
  },
  {
   "cell_type": "code",
   "execution_count": 20,
   "metadata": {},
   "outputs": [
    {
     "data": {
      "text/plain": [
       "DatetimeIndex(['2019-01-01 00:00:00', '2019-01-01 00:15:00',\n",
       "               '2019-01-01 00:30:00', '2019-01-01 00:45:00',\n",
       "               '2019-01-01 01:00:00', '2019-01-01 01:15:00',\n",
       "               '2019-01-01 01:30:00', '2019-01-01 01:45:00',\n",
       "               '2019-01-01 02:00:00', '2019-01-01 02:15:00',\n",
       "               ...\n",
       "               '2019-04-30 21:45:00', '2019-04-30 22:00:00',\n",
       "               '2019-04-30 22:15:00', '2019-04-30 22:30:00',\n",
       "               '2019-04-30 22:45:00', '2019-04-30 23:00:00',\n",
       "               '2019-04-30 23:15:00', '2019-04-30 23:30:00',\n",
       "               '2019-04-30 23:45:00', '2019-05-01 00:00:00'],\n",
       "              dtype='datetime64[ns]', length=11521, freq='15T')"
      ]
     },
     "execution_count": 20,
     "metadata": {},
     "output_type": "execute_result"
    }
   ],
   "source": [
    "pd.date_range(start='Jan 1 2019', end='May 1 2019', freq='15T')"
   ]
  },
  {
   "cell_type": "markdown",
   "metadata": {},
   "source": [
    "Note that you can get many different measures of your time index."
   ]
  },
  {
   "cell_type": "code",
   "execution_count": 21,
   "metadata": {},
   "outputs": [
    {
     "data": {
      "text/plain": [
       "Int64Index([ 0,  0,  0,  0,  0,  0,  0,  0,  0,  0,\n",
       "            ...\n",
       "            59, 59, 59, 59, 59, 59, 59, 59, 59, 59],\n",
       "           dtype='int64', name='tpep_pickup_datetime', length=38211)"
      ]
     },
     "execution_count": 21,
     "metadata": {},
     "output_type": "execute_result"
    }
   ],
   "source": [
    "df.index.minute"
   ]
  },
  {
   "cell_type": "code",
   "execution_count": 22,
   "metadata": {},
   "outputs": [
    {
     "data": {
      "text/plain": [
       "Int64Index([6, 6, 6, 6, 6, 6, 6, 6, 6, 6,\n",
       "            ...\n",
       "            6, 6, 6, 6, 6, 6, 6, 6, 6, 6],\n",
       "           dtype='int64', name='tpep_pickup_datetime', length=38211)"
      ]
     },
     "execution_count": 22,
     "metadata": {},
     "output_type": "execute_result"
    }
   ],
   "source": [
    "df.index.dayofweek"
   ]
  },
  {
   "cell_type": "markdown",
   "metadata": {},
   "source": [
    "---\n",
    "###  *Exercise*\n",
    "\n",
    "> How would you change the call to `strftime` above to format all of the indices such that the first index, for example, would be \"the 1st of May, 2016 at the hour of 00 and the minute of 00 and the seconds of 00, which is the following day of the week: Sunday.\" Use the format codes for as many of the values as possible.\n",
    "\n",
    "---"
   ]
  },
  {
   "cell_type": "code",
   "execution_count": null,
   "metadata": {},
   "outputs": [],
   "source": []
  },
  {
   "cell_type": "markdown",
   "metadata": {},
   "source": [
    "## Adding column to dataframe\n",
    "\n",
    "We can add data to our dataframe very easily. Below we add an index that gives the minute in the hour throughout the day."
   ]
  },
  {
   "cell_type": "code",
   "execution_count": 23,
   "metadata": {},
   "outputs": [
    {
     "data": {
      "text/plain": [
       "<matplotlib.axes._subplots.AxesSubplot at 0x7f2853f52b00>"
      ]
     },
     "execution_count": 23,
     "metadata": {},
     "output_type": "execute_result"
    },
    {
     "data": {
      "image/png": "[encoded data removed]",
      "text/plain": [
       "<Figure size 432x288 with 1 Axes>"
      ]
     },
     "metadata": {
      "needs_background": "light"
     },
     "output_type": "display_data"
    }
   ],
   "source": [
    "df['tip squared'] = df.tip_amount**2  # making up some numbers to save to a new column\n",
    "df['tip squared'].plot()"
   ]
  },
  {
   "cell_type": "markdown",
   "metadata": {},
   "source": [
    "# Another example: Wind data\n",
    "\n",
    "Let's read in the wind data file that we have used before to have another data set to use. Note the parameters used to read it in properly."
   ]
  },
  {
   "cell_type": "code",
   "execution_count": 24,
   "metadata": {
    "scrolled": true
   },
   "outputs": [
    {
     "data": {
      "text/html": [
       "<div>\n",
       "<style scoped>\n",
       "    .dataframe tbody tr th:only-of-type {\n",
       "        vertical-align: middle;\n",
       "    }\n",
       "\n",
       "    .dataframe tbody tr th {\n",
       "        vertical-align: top;\n",
       "    }\n",
       "\n",
       "    .dataframe thead th {\n",
       "        text-align: right;\n",
       "    }\n",
       "</style>\n",
       "<table border=\"1\" class=\"dataframe\">\n",
       "  <thead>\n",
       "    <tr style=\"text-align: right;\">\n",
       "      <th></th>\n",
       "      <th>mm</th>\n",
       "      <th>WDIR</th>\n",
       "      <th>WSPD</th>\n",
       "      <th>GST</th>\n",
       "      <th>WVHT</th>\n",
       "      <th>DPD</th>\n",
       "      <th>APD</th>\n",
       "      <th>MWD</th>\n",
       "      <th>PRES</th>\n",
       "      <th>ATMP</th>\n",
       "      <th>WTMP</th>\n",
       "      <th>DEWP</th>\n",
       "      <th>VIS</th>\n",
       "      <th>TIDE</th>\n",
       "    </tr>\n",
       "    <tr>\n",
       "      <th>dates</th>\n",
       "      <th></th>\n",
       "      <th></th>\n",
       "      <th></th>\n",
       "      <th></th>\n",
       "      <th></th>\n",
       "      <th></th>\n",
       "      <th></th>\n",
       "      <th></th>\n",
       "      <th></th>\n",
       "      <th></th>\n",
       "      <th></th>\n",
       "      <th></th>\n",
       "      <th></th>\n",
       "      <th></th>\n",
       "    </tr>\n",
       "  </thead>\n",
       "  <tbody>\n",
       "    <tr>\n",
       "      <th>2010-01-01 00:00:00</th>\n",
       "      <td>0</td>\n",
       "      <td>134</td>\n",
       "      <td>3.0</td>\n",
       "      <td>3.0</td>\n",
       "      <td>99.0</td>\n",
       "      <td>99.0</td>\n",
       "      <td>99.0</td>\n",
       "      <td>999</td>\n",
       "      <td>1019.1</td>\n",
       "      <td>13.3</td>\n",
       "      <td>999.0</td>\n",
       "      <td>12.4</td>\n",
       "      <td>99.0</td>\n",
       "      <td>99.0</td>\n",
       "    </tr>\n",
       "    <tr>\n",
       "      <th>2010-01-01 01:00:00</th>\n",
       "      <td>0</td>\n",
       "      <td>123</td>\n",
       "      <td>3.6</td>\n",
       "      <td>3.6</td>\n",
       "      <td>99.0</td>\n",
       "      <td>99.0</td>\n",
       "      <td>99.0</td>\n",
       "      <td>999</td>\n",
       "      <td>1019.1</td>\n",
       "      <td>13.6</td>\n",
       "      <td>999.0</td>\n",
       "      <td>12.7</td>\n",
       "      <td>99.0</td>\n",
       "      <td>99.0</td>\n",
       "    </tr>\n",
       "    <tr>\n",
       "      <th>2010-01-01 02:00:00</th>\n",
       "      <td>0</td>\n",
       "      <td>130</td>\n",
       "      <td>3.3</td>\n",
       "      <td>3.3</td>\n",
       "      <td>99.0</td>\n",
       "      <td>99.0</td>\n",
       "      <td>99.0</td>\n",
       "      <td>999</td>\n",
       "      <td>1019.7</td>\n",
       "      <td>13.6</td>\n",
       "      <td>999.0</td>\n",
       "      <td>12.9</td>\n",
       "      <td>99.0</td>\n",
       "      <td>99.0</td>\n",
       "    </tr>\n",
       "    <tr>\n",
       "      <th>...</th>\n",
       "      <td>...</td>\n",
       "      <td>...</td>\n",
       "      <td>...</td>\n",
       "      <td>...</td>\n",
       "      <td>...</td>\n",
       "      <td>...</td>\n",
       "      <td>...</td>\n",
       "      <td>...</td>\n",
       "      <td>...</td>\n",
       "      <td>...</td>\n",
       "      <td>...</td>\n",
       "      <td>...</td>\n",
       "      <td>...</td>\n",
       "      <td>...</td>\n",
       "    </tr>\n",
       "    <tr>\n",
       "      <th>2010-12-31 21:00:00</th>\n",
       "      <td>0</td>\n",
       "      <td>147</td>\n",
       "      <td>11.4</td>\n",
       "      <td>11.8</td>\n",
       "      <td>99.0</td>\n",
       "      <td>99.0</td>\n",
       "      <td>99.0</td>\n",
       "      <td>999</td>\n",
       "      <td>1012.4</td>\n",
       "      <td>20.4</td>\n",
       "      <td>999.0</td>\n",
       "      <td>19.2</td>\n",
       "      <td>99.0</td>\n",
       "      <td>99.0</td>\n",
       "    </tr>\n",
       "    <tr>\n",
       "      <th>2010-12-31 22:00:00</th>\n",
       "      <td>0</td>\n",
       "      <td>152</td>\n",
       "      <td>11.9</td>\n",
       "      <td>12.9</td>\n",
       "      <td>99.0</td>\n",
       "      <td>99.0</td>\n",
       "      <td>99.0</td>\n",
       "      <td>999</td>\n",
       "      <td>1012.6</td>\n",
       "      <td>20.6</td>\n",
       "      <td>999.0</td>\n",
       "      <td>19.6</td>\n",
       "      <td>99.0</td>\n",
       "      <td>99.0</td>\n",
       "    </tr>\n",
       "    <tr>\n",
       "      <th>2010-12-31 23:00:00</th>\n",
       "      <td>0</td>\n",
       "      <td>150</td>\n",
       "      <td>10.2</td>\n",
       "      <td>10.9</td>\n",
       "      <td>99.0</td>\n",
       "      <td>99.0</td>\n",
       "      <td>99.0</td>\n",
       "      <td>999</td>\n",
       "      <td>1012.8</td>\n",
       "      <td>20.4</td>\n",
       "      <td>999.0</td>\n",
       "      <td>19.6</td>\n",
       "      <td>99.0</td>\n",
       "      <td>99.0</td>\n",
       "    </tr>\n",
       "  </tbody>\n",
       "</table>\n",
       "<p>8755 rows × 14 columns</p>\n",
       "</div>"
      ],
      "text/plain": [
       "                     mm  WDIR  WSPD   GST  WVHT   DPD   APD  MWD    PRES  \\\n",
       "dates                                                                      \n",
       "2010-01-01 00:00:00   0   134   3.0   3.0  99.0  99.0  99.0  999  1019.1   \n",
       "2010-01-01 01:00:00   0   123   3.6   3.6  99.0  99.0  99.0  999  1019.1   \n",
       "2010-01-01 02:00:00   0   130   3.3   3.3  99.0  99.0  99.0  999  1019.7   \n",
       "...                  ..   ...   ...   ...   ...   ...   ...  ...     ...   \n",
       "2010-12-31 21:00:00   0   147  11.4  11.8  99.0  99.0  99.0  999  1012.4   \n",
       "2010-12-31 22:00:00   0   152  11.9  12.9  99.0  99.0  99.0  999  1012.6   \n",
       "2010-12-31 23:00:00   0   150  10.2  10.9  99.0  99.0  99.0  999  1012.8   \n",
       "\n",
       "                     ATMP   WTMP  DEWP   VIS  TIDE  \n",
       "dates                                               \n",
       "2010-01-01 00:00:00  13.3  999.0  12.4  99.0  99.0  \n",
       "2010-01-01 01:00:00  13.6  999.0  12.7  99.0  99.0  \n",
       "2010-01-01 02:00:00  13.6  999.0  12.9  99.0  99.0  \n",
       "...                   ...    ...   ...   ...   ...  \n",
       "2010-12-31 21:00:00  20.4  999.0  19.2  99.0  99.0  \n",
       "2010-12-31 22:00:00  20.6  999.0  19.6  99.0  99.0  \n",
       "2010-12-31 23:00:00  20.4  999.0  19.6  99.0  99.0  \n",
       "\n",
       "[8755 rows x 14 columns]"
      ]
     },
     "execution_count": 24,
     "metadata": {},
     "output_type": "execute_result"
    }
   ],
   "source": [
    "df2 = pd.read_table('../data/burl1h2010.txt', header=0, skiprows=[1], delim_whitespace=True, \n",
    "                    parse_dates={'dates': ['#YY', 'MM', 'DD', 'hh']},  index_col=0)\n",
    "df2"
   ]
  },
  {
   "cell_type": "code",
   "execution_count": 25,
   "metadata": {},
   "outputs": [
    {
     "data": {
      "text/plain": [
       "DatetimeIndex(['2010-01-01 00:00:00', '2010-01-01 01:00:00',\n",
       "               '2010-01-01 02:00:00', '2010-01-01 03:00:00',\n",
       "               '2010-01-01 04:00:00', '2010-01-01 05:00:00',\n",
       "               '2010-01-01 06:00:00', '2010-01-01 07:00:00',\n",
       "               '2010-01-01 08:00:00', '2010-01-01 09:00:00',\n",
       "               ...\n",
       "               '2010-12-31 14:00:00', '2010-12-31 15:00:00',\n",
       "               '2010-12-31 16:00:00', '2010-12-31 17:00:00',\n",
       "               '2010-12-31 18:00:00', '2010-12-31 19:00:00',\n",
       "               '2010-12-31 20:00:00', '2010-12-31 21:00:00',\n",
       "               '2010-12-31 22:00:00', '2010-12-31 23:00:00'],\n",
       "              dtype='datetime64[ns]', name='dates', length=8755, freq=None)"
      ]
     },
     "execution_count": 25,
     "metadata": {},
     "output_type": "execute_result"
    }
   ],
   "source": [
    "df2.index"
   ]
  },
  {
   "cell_type": "markdown",
   "metadata": {},
   "source": [
    "# Plotting with `pandas`\n",
    "\n",
    "You can plot with `matplotlib` and control many things directly from `pandas`. Get more info about plotting from pandas dataframes directly from:"
   ]
  },
  {
   "cell_type": "code",
   "execution_count": 26,
   "metadata": {},
   "outputs": [],
   "source": [
    "df.plot?"
   ]
  },
  {
   "cell_type": "markdown",
   "metadata": {},
   "source": [
    "You can mix and match plotting with matplotlib by either setting up a figure and axes you want to use with calls to `plot` from your dataframe (which you input to the plot call), or you can start with a pandas plot and save an axes from that call. Each will be demonstrated next. Or, you can bring the pandas data to matplotlib fully."
   ]
  },
  {
   "cell_type": "markdown",
   "metadata": {},
   "source": [
    "## Start from `matplotlib`, then input axes to `pandas`\n",
    "\n",
    "To demonstrate plotting starting from `matplotlib`, we will also demonstrate a note about column selection for plotting. You can select which data columns to plot either by selecting in the line before the `plot` call, or you can choose the columns within the plot call. \n",
    "\n",
    "The key part here is that you input to your pandas plot call the axes you wanted plotted into (here: `ax=axes[0]`)."
   ]
  },
  {
   "cell_type": "code",
   "execution_count": 27,
   "metadata": {},
   "outputs": [
    {
     "data": {
      "text/plain": [
       "<matplotlib.axes._subplots.AxesSubplot at 0x7f28533af550>"
      ]
     },
     "execution_count": 27,
     "metadata": {},
     "output_type": "execute_result"
    },
    {
     "data": {
      "image/png": "[encoded data removed]",
      "text/plain": [
       "<Figure size 1008x288 with 2 Axes>"
      ]
     },
     "metadata": {
      "needs_background": "light"
     },
     "output_type": "display_data"
    }
   ],
   "source": [
    "import matplotlib.pyplot as plt\n",
    "\n",
    "fig, axes = plt.subplots(1, 2, figsize=(14,4))\n",
    "\n",
    "df2['WSPD']['2010-5'].plot(ax=axes[0])\n",
    "df2.loc['2010-5'].plot(y='WSPD', ax=axes[1])"
   ]
  },
  {
   "cell_type": "markdown",
   "metadata": {},
   "source": [
    "## Start with `pandas`, then use `matplotlib` commands\n",
    "\n",
    "The important part here is that the call to `pandas` dataframe plotting returns an axes handle which you can save; here, it is saved as \"ax\"."
   ]
  },
  {
   "cell_type": "code",
   "execution_count": 28,
   "metadata": {},
   "outputs": [
    {
     "data": {
      "text/plain": [
       "Text(0, 0.5, 'Wind speed')"
      ]
     },
     "execution_count": 28,
     "metadata": {},
     "output_type": "execute_result"
    },
    {
     "data": {
      "image/png": "[encoded data removed]",
      "text/plain": [
       "<Figure size 432x288 with 1 Axes>"
      ]
     },
     "metadata": {
      "needs_background": "light"
     },
     "output_type": "display_data"
    }
   ],
   "source": [
    "ax = df2['WSPD']['2010 11 1'].plot()\n",
    "ax.set_ylabel('Wind speed')"
   ]
  },
  {
   "cell_type": "markdown",
   "metadata": {},
   "source": [
    "## Bring `pandas` dataframe data to `matplotlib` fully\n",
    "\n",
    "You can also use `matplotlib` directly by pulling the data you want to plot out of your dataframe."
   ]
  },
  {
   "cell_type": "code",
   "execution_count": 29,
   "metadata": {},
   "outputs": [
    {
     "data": {
      "text/plain": [
       "[<matplotlib.lines.Line2D at 0x7f2851a4a4a8>]"
      ]
     },
     "execution_count": 29,
     "metadata": {},
     "output_type": "execute_result"
    },
    {
     "data": {
      "image/png": "[encoded data removed]",
      "text/plain": [
       "<Figure size 432x288 with 1 Axes>"
      ]
     },
     "metadata": {
      "needs_background": "light"
     },
     "output_type": "display_data"
    }
   ],
   "source": [
    "plt.plot(df2['WSPD'])"
   ]
  },
  {
   "cell_type": "markdown",
   "metadata": {},
   "source": [
    "## Plot all or multiple columns at once"
   ]
  },
  {
   "cell_type": "code",
   "execution_count": 30,
   "metadata": {},
   "outputs": [
    {
     "data": {
      "text/plain": [
       "<matplotlib.axes._subplots.AxesSubplot at 0x7f28519b30f0>"
      ]
     },
     "execution_count": 30,
     "metadata": {},
     "output_type": "execute_result"
    },
    {
     "data": {
      "image/png": "[encoded data removed]",
      "text/plain": [
       "<Figure size 432x288 with 1 Axes>"
      ]
     },
     "metadata": {
      "needs_background": "light"
     },
     "output_type": "display_data"
    }
   ],
   "source": [
    "# all\n",
    "df2.plot()"
   ]
  },
  {
   "cell_type": "markdown",
   "metadata": {},
   "source": [
    "To plot more than one but less than all columns, give a list of column names. Here are two ways to do the same thing:"
   ]
  },
  {
   "cell_type": "code",
   "execution_count": 31,
   "metadata": {},
   "outputs": [
    {
     "data": {
      "text/plain": [
       "<matplotlib.axes._subplots.AxesSubplot at 0x7f2851886c50>"
      ]
     },
     "execution_count": 31,
     "metadata": {},
     "output_type": "execute_result"
    },
    {
     "data": {
      "image/png": "[encoded data removed]",
      "text/plain": [
       "<Figure size 1008x288 with 2 Axes>"
      ]
     },
     "metadata": {
      "needs_background": "light"
     },
     "output_type": "display_data"
    }
   ],
   "source": [
    "# multiple\n",
    "fig, axes = plt.subplots(1, 2, figsize=(14,4))\n",
    "df2[['WSPD', 'GST']].plot(ax=axes[0])\n",
    "df2.plot(y=['WSPD', 'GST'], ax=axes[1])"
   ]
  },
  {
   "cell_type": "markdown",
   "metadata": {},
   "source": [
    "## Formatting dates\n",
    "\n",
    "You can control how datetimes look on the x axis in these plots as demonstrated in this section. The formatting codes used in the call to `DateFormatter` are the same as those used above in this notebook for `strftime`.\n",
    "\n",
    "Note that you can also control all of this with minor ticks additionally."
   ]
  },
  {
   "cell_type": "code",
   "execution_count": 32,
   "metadata": {},
   "outputs": [
    {
     "data": {
      "image/png": "[encoded data removed]",
      "text/plain": [
       "<Figure size 1008x288 with 1 Axes>"
      ]
     },
     "metadata": {
      "needs_background": "light"
     },
     "output_type": "display_data"
    }
   ],
   "source": [
    "ax = df2['WSPD'].plot(figsize=(14,4))"
   ]
  },
  {
   "cell_type": "code",
   "execution_count": 33,
   "metadata": {},
   "outputs": [
    {
     "data": {
      "image/png": "[encoded data removed]",
      "text/plain": [
       "<Figure size 1008x288 with 1 Axes>"
      ]
     },
     "metadata": {
      "needs_background": "light"
     },
     "output_type": "display_data"
    }
   ],
   "source": [
    "from matplotlib.dates import DateFormatter\n",
    "\n",
    "ax = df2['WSPD'].plot(figsize=(14,4))\n",
    "ax.set_xlabel('2010')\n",
    "\n",
    "date_form = DateFormatter(\"%b %d\")\n",
    "ax.xaxis.set_major_formatter(date_form)\n",
    "\n",
    "# import matplotlib.dates as mdates\n",
    "# # You can also control where the ticks are located, by date with Locators\n",
    "# ticklocations = mdates.MonthLocator()\n",
    "# ax.xaxis.set_major_locator(ticklocations)\n"
   ]
  },
  {
   "cell_type": "markdown",
   "metadata": {},
   "source": [
    "## Plotting with twin axis\n",
    "\n",
    "You can very easily plot two variables with different y axis limits with the `secondary_y` keyword argument to `df.plot`."
   ]
  },
  {
   "cell_type": "code",
   "execution_count": 34,
   "metadata": {},
   "outputs": [
    {
     "data": {
      "image/png": "[encoded data removed]",
      "text/plain": [
       "<Figure size 1008x288 with 2 Axes>"
      ]
     },
     "metadata": {
      "needs_background": "light"
     },
     "output_type": "display_data"
    }
   ],
   "source": [
    "axleft = df2['WSPD']['2010-10'].plot(figsize=(14,4))\n",
    "axright = df2['WDIR']['2010-10'].plot(secondary_y=True, alpha=0.5)\n",
    "axleft.set_ylabel('Speed [m/s]', color='blue');\n",
    "axright.set_ylabel('Dir [degrees]', color='orange');"
   ]
  },
  {
   "cell_type": "markdown",
   "metadata": {},
   "source": [
    "# Resampling\n",
    "\n",
    "Sometimes we want our data to be at a different sampling frequency that we have, that is, we want to change the time between rows or observations. Changing this is called resampling. We can upsample to increase the number of data points in a given dataset (or decrease the period between points) or we can downsample to decrease the number of data points.\n",
    "\n",
    "The wind data is given every hour. Here we downsample it to be once a day instead. After the `resample` function, a method needs to be used for how to combine the data over the downsampling period since the existing data needs to be combined in some way. We could use the max value over the 1-day period to represent each day:"
   ]
  },
  {
   "cell_type": "code",
   "execution_count": 35,
   "metadata": {},
   "outputs": [
    {
     "data": {
      "text/html": [
       "<div>\n",
       "<style scoped>\n",
       "    .dataframe tbody tr th:only-of-type {\n",
       "        vertical-align: middle;\n",
       "    }\n",
       "\n",
       "    .dataframe tbody tr th {\n",
       "        vertical-align: top;\n",
       "    }\n",
       "\n",
       "    .dataframe thead th {\n",
       "        text-align: right;\n",
       "    }\n",
       "</style>\n",
       "<table border=\"1\" class=\"dataframe\">\n",
       "  <thead>\n",
       "    <tr style=\"text-align: right;\">\n",
       "      <th></th>\n",
       "      <th>mm</th>\n",
       "      <th>WDIR</th>\n",
       "      <th>WSPD</th>\n",
       "      <th>GST</th>\n",
       "      <th>WVHT</th>\n",
       "      <th>DPD</th>\n",
       "      <th>APD</th>\n",
       "      <th>MWD</th>\n",
       "      <th>PRES</th>\n",
       "      <th>ATMP</th>\n",
       "      <th>WTMP</th>\n",
       "      <th>DEWP</th>\n",
       "      <th>VIS</th>\n",
       "      <th>TIDE</th>\n",
       "    </tr>\n",
       "    <tr>\n",
       "      <th>dates</th>\n",
       "      <th></th>\n",
       "      <th></th>\n",
       "      <th></th>\n",
       "      <th></th>\n",
       "      <th></th>\n",
       "      <th></th>\n",
       "      <th></th>\n",
       "      <th></th>\n",
       "      <th></th>\n",
       "      <th></th>\n",
       "      <th></th>\n",
       "      <th></th>\n",
       "      <th></th>\n",
       "      <th></th>\n",
       "    </tr>\n",
       "  </thead>\n",
       "  <tbody>\n",
       "    <tr>\n",
       "      <th>2010-01-01</th>\n",
       "      <td>0</td>\n",
       "      <td>357</td>\n",
       "      <td>14.0</td>\n",
       "      <td>15.6</td>\n",
       "      <td>99.0</td>\n",
       "      <td>99.0</td>\n",
       "      <td>99.0</td>\n",
       "      <td>999</td>\n",
       "      <td>1025.5</td>\n",
       "      <td>13.6</td>\n",
       "      <td>999.0</td>\n",
       "      <td>12.9</td>\n",
       "      <td>99.0</td>\n",
       "      <td>99.0</td>\n",
       "    </tr>\n",
       "    <tr>\n",
       "      <th>2010-01-02</th>\n",
       "      <td>0</td>\n",
       "      <td>33</td>\n",
       "      <td>10.6</td>\n",
       "      <td>11.3</td>\n",
       "      <td>99.0</td>\n",
       "      <td>99.0</td>\n",
       "      <td>99.0</td>\n",
       "      <td>999</td>\n",
       "      <td>1028.8</td>\n",
       "      <td>9.9</td>\n",
       "      <td>999.0</td>\n",
       "      <td>4.5</td>\n",
       "      <td>99.0</td>\n",
       "      <td>99.0</td>\n",
       "    </tr>\n",
       "    <tr>\n",
       "      <th>2010-01-03</th>\n",
       "      <td>0</td>\n",
       "      <td>54</td>\n",
       "      <td>10.1</td>\n",
       "      <td>10.9</td>\n",
       "      <td>99.0</td>\n",
       "      <td>99.0</td>\n",
       "      <td>99.0</td>\n",
       "      <td>999</td>\n",
       "      <td>1025.7</td>\n",
       "      <td>8.4</td>\n",
       "      <td>999.0</td>\n",
       "      <td>3.3</td>\n",
       "      <td>99.0</td>\n",
       "      <td>99.0</td>\n",
       "    </tr>\n",
       "    <tr>\n",
       "      <th>...</th>\n",
       "      <td>...</td>\n",
       "      <td>...</td>\n",
       "      <td>...</td>\n",
       "      <td>...</td>\n",
       "      <td>...</td>\n",
       "      <td>...</td>\n",
       "      <td>...</td>\n",
       "      <td>...</td>\n",
       "      <td>...</td>\n",
       "      <td>...</td>\n",
       "      <td>...</td>\n",
       "      <td>...</td>\n",
       "      <td>...</td>\n",
       "      <td>...</td>\n",
       "    </tr>\n",
       "    <tr>\n",
       "      <th>2010-12-29</th>\n",
       "      <td>0</td>\n",
       "      <td>170</td>\n",
       "      <td>11.4</td>\n",
       "      <td>12.1</td>\n",
       "      <td>99.0</td>\n",
       "      <td>99.0</td>\n",
       "      <td>99.0</td>\n",
       "      <td>999</td>\n",
       "      <td>1024.5</td>\n",
       "      <td>18.1</td>\n",
       "      <td>999.0</td>\n",
       "      <td>12.8</td>\n",
       "      <td>99.0</td>\n",
       "      <td>99.0</td>\n",
       "    </tr>\n",
       "    <tr>\n",
       "      <th>2010-12-30</th>\n",
       "      <td>0</td>\n",
       "      <td>322</td>\n",
       "      <td>14.9</td>\n",
       "      <td>16.1</td>\n",
       "      <td>99.0</td>\n",
       "      <td>99.0</td>\n",
       "      <td>99.0</td>\n",
       "      <td>999</td>\n",
       "      <td>1014.8</td>\n",
       "      <td>20.3</td>\n",
       "      <td>999.0</td>\n",
       "      <td>18.1</td>\n",
       "      <td>99.0</td>\n",
       "      <td>99.0</td>\n",
       "    </tr>\n",
       "    <tr>\n",
       "      <th>2010-12-31</th>\n",
       "      <td>0</td>\n",
       "      <td>152</td>\n",
       "      <td>12.0</td>\n",
       "      <td>13.8</td>\n",
       "      <td>99.0</td>\n",
       "      <td>99.0</td>\n",
       "      <td>99.0</td>\n",
       "      <td>999</td>\n",
       "      <td>1015.6</td>\n",
       "      <td>20.7</td>\n",
       "      <td>999.0</td>\n",
       "      <td>19.6</td>\n",
       "      <td>99.0</td>\n",
       "      <td>99.0</td>\n",
       "    </tr>\n",
       "  </tbody>\n",
       "</table>\n",
       "<p>365 rows × 14 columns</p>\n",
       "</div>"
      ],
      "text/plain": [
       "            mm  WDIR  WSPD   GST  WVHT   DPD   APD  MWD    PRES  ATMP   WTMP  \\\n",
       "dates                                                                          \n",
       "2010-01-01   0   357  14.0  15.6  99.0  99.0  99.0  999  1025.5  13.6  999.0   \n",
       "2010-01-02   0    33  10.6  11.3  99.0  99.0  99.0  999  1028.8   9.9  999.0   \n",
       "2010-01-03   0    54  10.1  10.9  99.0  99.0  99.0  999  1025.7   8.4  999.0   \n",
       "...         ..   ...   ...   ...   ...   ...   ...  ...     ...   ...    ...   \n",
       "2010-12-29   0   170  11.4  12.1  99.0  99.0  99.0  999  1024.5  18.1  999.0   \n",
       "2010-12-30   0   322  14.9  16.1  99.0  99.0  99.0  999  1014.8  20.3  999.0   \n",
       "2010-12-31   0   152  12.0  13.8  99.0  99.0  99.0  999  1015.6  20.7  999.0   \n",
       "\n",
       "            DEWP   VIS  TIDE  \n",
       "dates                         \n",
       "2010-01-01  12.9  99.0  99.0  \n",
       "2010-01-02   4.5  99.0  99.0  \n",
       "2010-01-03   3.3  99.0  99.0  \n",
       "...          ...   ...   ...  \n",
       "2010-12-29  12.8  99.0  99.0  \n",
       "2010-12-30  18.1  99.0  99.0  \n",
       "2010-12-31  19.6  99.0  99.0  \n",
       "\n",
       "[365 rows x 14 columns]"
      ]
     },
     "execution_count": 35,
     "metadata": {},
     "output_type": "execute_result"
    }
   ],
   "source": [
    "df2.resample('1d').max()    #['DEWP']  # now the data is daily"
   ]
  },
  {
   "cell_type": "markdown",
   "metadata": {},
   "source": [
    "It's always important to check our results to make sure they look reasonable. Let's plot our resampled data with the original data to make sure they align well. We'll choose one variable for this check.\n",
    "\n",
    "We can see that the daily max wind gust does indeed look like the max value for each day, though note that it is plotted at the start of the day."
   ]
  },
  {
   "cell_type": "code",
   "execution_count": 36,
   "metadata": {},
   "outputs": [
    {
     "data": {
      "text/plain": [
       "<matplotlib.axes._subplots.AxesSubplot at 0x7f285141b080>"
      ]
     },
     "execution_count": 36,
     "metadata": {},
     "output_type": "execute_result"
    },
    {
     "data": {
      "image/png": "[encoded data removed]",
      "text/plain": [
       "<Figure size 432x288 with 1 Axes>"
      ]
     },
     "metadata": {
      "needs_background": "light"
     },
     "output_type": "display_data"
    }
   ],
   "source": [
    "df2['GST']['2010-4-1':'2010-4-5'].plot()\n",
    "df2.resample('1d').max()['GST']['2010-4-1':'2010-4-5'].plot()"
   ]
  },
  {
   "cell_type": "markdown",
   "metadata": {},
   "source": [
    "We can also upsample our data or add more rows of data. Note that like before, after we resample our data we still need a method on the end telling `pandas` how to process the data. However, since in this case we are not combining data (downsampling) but are adding more rows (upsampling), using a function like `max` doesn't change the existing observations (taking the max of a single row). For the new rows, we haven't said how to fill them so they are nan's by default.\n",
    "\n",
    "Here we are changing from having data every hour to having it every 30 minutes."
   ]
  },
  {
   "cell_type": "code",
   "execution_count": 37,
   "metadata": {},
   "outputs": [
    {
     "data": {
      "text/html": [
       "<div>\n",
       "<style scoped>\n",
       "    .dataframe tbody tr th:only-of-type {\n",
       "        vertical-align: middle;\n",
       "    }\n",
       "\n",
       "    .dataframe tbody tr th {\n",
       "        vertical-align: top;\n",
       "    }\n",
       "\n",
       "    .dataframe thead th {\n",
       "        text-align: right;\n",
       "    }\n",
       "</style>\n",
       "<table border=\"1\" class=\"dataframe\">\n",
       "  <thead>\n",
       "    <tr style=\"text-align: right;\">\n",
       "      <th></th>\n",
       "      <th>mm</th>\n",
       "      <th>WDIR</th>\n",
       "      <th>WSPD</th>\n",
       "      <th>GST</th>\n",
       "      <th>WVHT</th>\n",
       "      <th>DPD</th>\n",
       "      <th>APD</th>\n",
       "      <th>MWD</th>\n",
       "      <th>PRES</th>\n",
       "      <th>ATMP</th>\n",
       "      <th>WTMP</th>\n",
       "      <th>DEWP</th>\n",
       "      <th>VIS</th>\n",
       "      <th>TIDE</th>\n",
       "    </tr>\n",
       "    <tr>\n",
       "      <th>dates</th>\n",
       "      <th></th>\n",
       "      <th></th>\n",
       "      <th></th>\n",
       "      <th></th>\n",
       "      <th></th>\n",
       "      <th></th>\n",
       "      <th></th>\n",
       "      <th></th>\n",
       "      <th></th>\n",
       "      <th></th>\n",
       "      <th></th>\n",
       "      <th></th>\n",
       "      <th></th>\n",
       "      <th></th>\n",
       "    </tr>\n",
       "  </thead>\n",
       "  <tbody>\n",
       "    <tr>\n",
       "      <th>2010-01-01 00:00:00</th>\n",
       "      <td>0.0</td>\n",
       "      <td>134.0</td>\n",
       "      <td>3.0</td>\n",
       "      <td>3.0</td>\n",
       "      <td>99.0</td>\n",
       "      <td>99.0</td>\n",
       "      <td>99.0</td>\n",
       "      <td>999.0</td>\n",
       "      <td>1019.1</td>\n",
       "      <td>13.3</td>\n",
       "      <td>999.0</td>\n",
       "      <td>12.4</td>\n",
       "      <td>99.0</td>\n",
       "      <td>99.0</td>\n",
       "    </tr>\n",
       "    <tr>\n",
       "      <th>2010-01-01 00:30:00</th>\n",
       "      <td>NaN</td>\n",
       "      <td>NaN</td>\n",
       "      <td>NaN</td>\n",
       "      <td>NaN</td>\n",
       "      <td>NaN</td>\n",
       "      <td>NaN</td>\n",
       "      <td>NaN</td>\n",
       "      <td>NaN</td>\n",
       "      <td>NaN</td>\n",
       "      <td>NaN</td>\n",
       "      <td>NaN</td>\n",
       "      <td>NaN</td>\n",
       "      <td>NaN</td>\n",
       "      <td>NaN</td>\n",
       "    </tr>\n",
       "    <tr>\n",
       "      <th>2010-01-01 01:00:00</th>\n",
       "      <td>0.0</td>\n",
       "      <td>123.0</td>\n",
       "      <td>3.6</td>\n",
       "      <td>3.6</td>\n",
       "      <td>99.0</td>\n",
       "      <td>99.0</td>\n",
       "      <td>99.0</td>\n",
       "      <td>999.0</td>\n",
       "      <td>1019.1</td>\n",
       "      <td>13.6</td>\n",
       "      <td>999.0</td>\n",
       "      <td>12.7</td>\n",
       "      <td>99.0</td>\n",
       "      <td>99.0</td>\n",
       "    </tr>\n",
       "    <tr>\n",
       "      <th>...</th>\n",
       "      <td>...</td>\n",
       "      <td>...</td>\n",
       "      <td>...</td>\n",
       "      <td>...</td>\n",
       "      <td>...</td>\n",
       "      <td>...</td>\n",
       "      <td>...</td>\n",
       "      <td>...</td>\n",
       "      <td>...</td>\n",
       "      <td>...</td>\n",
       "      <td>...</td>\n",
       "      <td>...</td>\n",
       "      <td>...</td>\n",
       "      <td>...</td>\n",
       "    </tr>\n",
       "    <tr>\n",
       "      <th>2010-12-31 22:00:00</th>\n",
       "      <td>0.0</td>\n",
       "      <td>152.0</td>\n",
       "      <td>11.9</td>\n",
       "      <td>12.9</td>\n",
       "      <td>99.0</td>\n",
       "      <td>99.0</td>\n",
       "      <td>99.0</td>\n",
       "      <td>999.0</td>\n",
       "      <td>1012.6</td>\n",
       "      <td>20.6</td>\n",
       "      <td>999.0</td>\n",
       "      <td>19.6</td>\n",
       "      <td>99.0</td>\n",
       "      <td>99.0</td>\n",
       "    </tr>\n",
       "    <tr>\n",
       "      <th>2010-12-31 22:30:00</th>\n",
       "      <td>NaN</td>\n",
       "      <td>NaN</td>\n",
       "      <td>NaN</td>\n",
       "      <td>NaN</td>\n",
       "      <td>NaN</td>\n",
       "      <td>NaN</td>\n",
       "      <td>NaN</td>\n",
       "      <td>NaN</td>\n",
       "      <td>NaN</td>\n",
       "      <td>NaN</td>\n",
       "      <td>NaN</td>\n",
       "      <td>NaN</td>\n",
       "      <td>NaN</td>\n",
       "      <td>NaN</td>\n",
       "    </tr>\n",
       "    <tr>\n",
       "      <th>2010-12-31 23:00:00</th>\n",
       "      <td>0.0</td>\n",
       "      <td>150.0</td>\n",
       "      <td>10.2</td>\n",
       "      <td>10.9</td>\n",
       "      <td>99.0</td>\n",
       "      <td>99.0</td>\n",
       "      <td>99.0</td>\n",
       "      <td>999.0</td>\n",
       "      <td>1012.8</td>\n",
       "      <td>20.4</td>\n",
       "      <td>999.0</td>\n",
       "      <td>19.6</td>\n",
       "      <td>99.0</td>\n",
       "      <td>99.0</td>\n",
       "    </tr>\n",
       "  </tbody>\n",
       "</table>\n",
       "<p>17519 rows × 14 columns</p>\n",
       "</div>"
      ],
      "text/plain": [
       "                      mm   WDIR  WSPD   GST  WVHT   DPD   APD    MWD    PRES  \\\n",
       "dates                                                                          \n",
       "2010-01-01 00:00:00  0.0  134.0   3.0   3.0  99.0  99.0  99.0  999.0  1019.1   \n",
       "2010-01-01 00:30:00  NaN    NaN   NaN   NaN   NaN   NaN   NaN    NaN     NaN   \n",
       "2010-01-01 01:00:00  0.0  123.0   3.6   3.6  99.0  99.0  99.0  999.0  1019.1   \n",
       "...                  ...    ...   ...   ...   ...   ...   ...    ...     ...   \n",
       "2010-12-31 22:00:00  0.0  152.0  11.9  12.9  99.0  99.0  99.0  999.0  1012.6   \n",
       "2010-12-31 22:30:00  NaN    NaN   NaN   NaN   NaN   NaN   NaN    NaN     NaN   \n",
       "2010-12-31 23:00:00  0.0  150.0  10.2  10.9  99.0  99.0  99.0  999.0  1012.8   \n",
       "\n",
       "                     ATMP   WTMP  DEWP   VIS  TIDE  \n",
       "dates                                               \n",
       "2010-01-01 00:00:00  13.3  999.0  12.4  99.0  99.0  \n",
       "2010-01-01 00:30:00   NaN    NaN   NaN   NaN   NaN  \n",
       "2010-01-01 01:00:00  13.6  999.0  12.7  99.0  99.0  \n",
       "...                   ...    ...   ...   ...   ...  \n",
       "2010-12-31 22:00:00  20.6  999.0  19.6  99.0  99.0  \n",
       "2010-12-31 22:30:00   NaN    NaN   NaN   NaN   NaN  \n",
       "2010-12-31 23:00:00  20.4  999.0  19.6  99.0  99.0  \n",
       "\n",
       "[17519 rows x 14 columns]"
      ]
     },
     "execution_count": 37,
     "metadata": {},
     "output_type": "execute_result"
    }
   ],
   "source": [
    "df2.resample('30min').max()  # max doesn't say what to do with data in new rows"
   ]
  },
  {
   "cell_type": "markdown",
   "metadata": {},
   "source": [
    "When upsampling, a reasonable option is to fill the new rows with data from the previous existing row:"
   ]
  },
  {
   "cell_type": "code",
   "execution_count": 38,
   "metadata": {},
   "outputs": [
    {
     "data": {
      "text/html": [
       "<div>\n",
       "<style scoped>\n",
       "    .dataframe tbody tr th:only-of-type {\n",
       "        vertical-align: middle;\n",
       "    }\n",
       "\n",
       "    .dataframe tbody tr th {\n",
       "        vertical-align: top;\n",
       "    }\n",
       "\n",
       "    .dataframe thead th {\n",
       "        text-align: right;\n",
       "    }\n",
       "</style>\n",
       "<table border=\"1\" class=\"dataframe\">\n",
       "  <thead>\n",
       "    <tr style=\"text-align: right;\">\n",
       "      <th></th>\n",
       "      <th>mm</th>\n",
       "      <th>WDIR</th>\n",
       "      <th>WSPD</th>\n",
       "      <th>GST</th>\n",
       "      <th>WVHT</th>\n",
       "      <th>DPD</th>\n",
       "      <th>APD</th>\n",
       "      <th>MWD</th>\n",
       "      <th>PRES</th>\n",
       "      <th>ATMP</th>\n",
       "      <th>WTMP</th>\n",
       "      <th>DEWP</th>\n",
       "      <th>VIS</th>\n",
       "      <th>TIDE</th>\n",
       "    </tr>\n",
       "    <tr>\n",
       "      <th>dates</th>\n",
       "      <th></th>\n",
       "      <th></th>\n",
       "      <th></th>\n",
       "      <th></th>\n",
       "      <th></th>\n",
       "      <th></th>\n",
       "      <th></th>\n",
       "      <th></th>\n",
       "      <th></th>\n",
       "      <th></th>\n",
       "      <th></th>\n",
       "      <th></th>\n",
       "      <th></th>\n",
       "      <th></th>\n",
       "    </tr>\n",
       "  </thead>\n",
       "  <tbody>\n",
       "    <tr>\n",
       "      <th>2010-01-01 00:00:00</th>\n",
       "      <td>0</td>\n",
       "      <td>134</td>\n",
       "      <td>3.0</td>\n",
       "      <td>3.0</td>\n",
       "      <td>99.0</td>\n",
       "      <td>99.0</td>\n",
       "      <td>99.0</td>\n",
       "      <td>999</td>\n",
       "      <td>1019.1</td>\n",
       "      <td>13.3</td>\n",
       "      <td>999.0</td>\n",
       "      <td>12.4</td>\n",
       "      <td>99.0</td>\n",
       "      <td>99.0</td>\n",
       "    </tr>\n",
       "    <tr>\n",
       "      <th>2010-01-01 00:30:00</th>\n",
       "      <td>0</td>\n",
       "      <td>134</td>\n",
       "      <td>3.0</td>\n",
       "      <td>3.0</td>\n",
       "      <td>99.0</td>\n",
       "      <td>99.0</td>\n",
       "      <td>99.0</td>\n",
       "      <td>999</td>\n",
       "      <td>1019.1</td>\n",
       "      <td>13.3</td>\n",
       "      <td>999.0</td>\n",
       "      <td>12.4</td>\n",
       "      <td>99.0</td>\n",
       "      <td>99.0</td>\n",
       "    </tr>\n",
       "    <tr>\n",
       "      <th>2010-01-01 01:00:00</th>\n",
       "      <td>0</td>\n",
       "      <td>123</td>\n",
       "      <td>3.6</td>\n",
       "      <td>3.6</td>\n",
       "      <td>99.0</td>\n",
       "      <td>99.0</td>\n",
       "      <td>99.0</td>\n",
       "      <td>999</td>\n",
       "      <td>1019.1</td>\n",
       "      <td>13.6</td>\n",
       "      <td>999.0</td>\n",
       "      <td>12.7</td>\n",
       "      <td>99.0</td>\n",
       "      <td>99.0</td>\n",
       "    </tr>\n",
       "    <tr>\n",
       "      <th>...</th>\n",
       "      <td>...</td>\n",
       "      <td>...</td>\n",
       "      <td>...</td>\n",
       "      <td>...</td>\n",
       "      <td>...</td>\n",
       "      <td>...</td>\n",
       "      <td>...</td>\n",
       "      <td>...</td>\n",
       "      <td>...</td>\n",
       "      <td>...</td>\n",
       "      <td>...</td>\n",
       "      <td>...</td>\n",
       "      <td>...</td>\n",
       "      <td>...</td>\n",
       "    </tr>\n",
       "    <tr>\n",
       "      <th>2010-12-31 22:00:00</th>\n",
       "      <td>0</td>\n",
       "      <td>152</td>\n",
       "      <td>11.9</td>\n",
       "      <td>12.9</td>\n",
       "      <td>99.0</td>\n",
       "      <td>99.0</td>\n",
       "      <td>99.0</td>\n",
       "      <td>999</td>\n",
       "      <td>1012.6</td>\n",
       "      <td>20.6</td>\n",
       "      <td>999.0</td>\n",
       "      <td>19.6</td>\n",
       "      <td>99.0</td>\n",
       "      <td>99.0</td>\n",
       "    </tr>\n",
       "    <tr>\n",
       "      <th>2010-12-31 22:30:00</th>\n",
       "      <td>0</td>\n",
       "      <td>152</td>\n",
       "      <td>11.9</td>\n",
       "      <td>12.9</td>\n",
       "      <td>99.0</td>\n",
       "      <td>99.0</td>\n",
       "      <td>99.0</td>\n",
       "      <td>999</td>\n",
       "      <td>1012.6</td>\n",
       "      <td>20.6</td>\n",
       "      <td>999.0</td>\n",
       "      <td>19.6</td>\n",
       "      <td>99.0</td>\n",
       "      <td>99.0</td>\n",
       "    </tr>\n",
       "    <tr>\n",
       "      <th>2010-12-31 23:00:00</th>\n",
       "      <td>0</td>\n",
       "      <td>150</td>\n",
       "      <td>10.2</td>\n",
       "      <td>10.9</td>\n",
       "      <td>99.0</td>\n",
       "      <td>99.0</td>\n",
       "      <td>99.0</td>\n",
       "      <td>999</td>\n",
       "      <td>1012.8</td>\n",
       "      <td>20.4</td>\n",
       "      <td>999.0</td>\n",
       "      <td>19.6</td>\n",
       "      <td>99.0</td>\n",
       "      <td>99.0</td>\n",
       "    </tr>\n",
       "  </tbody>\n",
       "</table>\n",
       "<p>17519 rows × 14 columns</p>\n",
       "</div>"
      ],
      "text/plain": [
       "                     mm  WDIR  WSPD   GST  WVHT   DPD   APD  MWD    PRES  \\\n",
       "dates                                                                      \n",
       "2010-01-01 00:00:00   0   134   3.0   3.0  99.0  99.0  99.0  999  1019.1   \n",
       "2010-01-01 00:30:00   0   134   3.0   3.0  99.0  99.0  99.0  999  1019.1   \n",
       "2010-01-01 01:00:00   0   123   3.6   3.6  99.0  99.0  99.0  999  1019.1   \n",
       "...                  ..   ...   ...   ...   ...   ...   ...  ...     ...   \n",
       "2010-12-31 22:00:00   0   152  11.9  12.9  99.0  99.0  99.0  999  1012.6   \n",
       "2010-12-31 22:30:00   0   152  11.9  12.9  99.0  99.0  99.0  999  1012.6   \n",
       "2010-12-31 23:00:00   0   150  10.2  10.9  99.0  99.0  99.0  999  1012.8   \n",
       "\n",
       "                     ATMP   WTMP  DEWP   VIS  TIDE  \n",
       "dates                                               \n",
       "2010-01-01 00:00:00  13.3  999.0  12.4  99.0  99.0  \n",
       "2010-01-01 00:30:00  13.3  999.0  12.4  99.0  99.0  \n",
       "2010-01-01 01:00:00  13.6  999.0  12.7  99.0  99.0  \n",
       "...                   ...    ...   ...   ...   ...  \n",
       "2010-12-31 22:00:00  20.6  999.0  19.6  99.0  99.0  \n",
       "2010-12-31 22:30:00  20.6  999.0  19.6  99.0  99.0  \n",
       "2010-12-31 23:00:00  20.4  999.0  19.6  99.0  99.0  \n",
       "\n",
       "[17519 rows x 14 columns]"
      ]
     },
     "execution_count": 38,
     "metadata": {},
     "output_type": "execute_result"
    }
   ],
   "source": [
    "df2.resample('30min').ffill()"
   ]
  },
  {
   "cell_type": "markdown",
   "metadata": {},
   "source": [
    "Here we upsample to have data every 15 minutes, but we interpolate to fill in the data between. This is a very useful thing to be able to do."
   ]
  },
  {
   "cell_type": "code",
   "execution_count": 39,
   "metadata": {},
   "outputs": [
    {
     "data": {
      "text/html": [
       "<div>\n",
       "<style scoped>\n",
       "    .dataframe tbody tr th:only-of-type {\n",
       "        vertical-align: middle;\n",
       "    }\n",
       "\n",
       "    .dataframe tbody tr th {\n",
       "        vertical-align: top;\n",
       "    }\n",
       "\n",
       "    .dataframe thead th {\n",
       "        text-align: right;\n",
       "    }\n",
       "</style>\n",
       "<table border=\"1\" class=\"dataframe\">\n",
       "  <thead>\n",
       "    <tr style=\"text-align: right;\">\n",
       "      <th></th>\n",
       "      <th>mm</th>\n",
       "      <th>WDIR</th>\n",
       "      <th>WSPD</th>\n",
       "      <th>GST</th>\n",
       "      <th>WVHT</th>\n",
       "      <th>DPD</th>\n",
       "      <th>APD</th>\n",
       "      <th>MWD</th>\n",
       "      <th>PRES</th>\n",
       "      <th>ATMP</th>\n",
       "      <th>WTMP</th>\n",
       "      <th>DEWP</th>\n",
       "      <th>VIS</th>\n",
       "      <th>TIDE</th>\n",
       "    </tr>\n",
       "    <tr>\n",
       "      <th>dates</th>\n",
       "      <th></th>\n",
       "      <th></th>\n",
       "      <th></th>\n",
       "      <th></th>\n",
       "      <th></th>\n",
       "      <th></th>\n",
       "      <th></th>\n",
       "      <th></th>\n",
       "      <th></th>\n",
       "      <th></th>\n",
       "      <th></th>\n",
       "      <th></th>\n",
       "      <th></th>\n",
       "      <th></th>\n",
       "    </tr>\n",
       "  </thead>\n",
       "  <tbody>\n",
       "    <tr>\n",
       "      <th>2010-01-01 00:00:00</th>\n",
       "      <td>0.0</td>\n",
       "      <td>134.00</td>\n",
       "      <td>3.000</td>\n",
       "      <td>3.00</td>\n",
       "      <td>99.0</td>\n",
       "      <td>99.0</td>\n",
       "      <td>99.0</td>\n",
       "      <td>999.0</td>\n",
       "      <td>1019.10</td>\n",
       "      <td>13.300</td>\n",
       "      <td>999.0</td>\n",
       "      <td>12.400</td>\n",
       "      <td>99.0</td>\n",
       "      <td>99.0</td>\n",
       "    </tr>\n",
       "    <tr>\n",
       "      <th>2010-01-01 00:15:00</th>\n",
       "      <td>0.0</td>\n",
       "      <td>131.25</td>\n",
       "      <td>3.150</td>\n",
       "      <td>3.15</td>\n",
       "      <td>99.0</td>\n",
       "      <td>99.0</td>\n",
       "      <td>99.0</td>\n",
       "      <td>999.0</td>\n",
       "      <td>1019.10</td>\n",
       "      <td>13.375</td>\n",
       "      <td>999.0</td>\n",
       "      <td>12.475</td>\n",
       "      <td>99.0</td>\n",
       "      <td>99.0</td>\n",
       "    </tr>\n",
       "    <tr>\n",
       "      <th>2010-01-01 00:30:00</th>\n",
       "      <td>0.0</td>\n",
       "      <td>128.50</td>\n",
       "      <td>3.300</td>\n",
       "      <td>3.30</td>\n",
       "      <td>99.0</td>\n",
       "      <td>99.0</td>\n",
       "      <td>99.0</td>\n",
       "      <td>999.0</td>\n",
       "      <td>1019.10</td>\n",
       "      <td>13.450</td>\n",
       "      <td>999.0</td>\n",
       "      <td>12.550</td>\n",
       "      <td>99.0</td>\n",
       "      <td>99.0</td>\n",
       "    </tr>\n",
       "    <tr>\n",
       "      <th>...</th>\n",
       "      <td>...</td>\n",
       "      <td>...</td>\n",
       "      <td>...</td>\n",
       "      <td>...</td>\n",
       "      <td>...</td>\n",
       "      <td>...</td>\n",
       "      <td>...</td>\n",
       "      <td>...</td>\n",
       "      <td>...</td>\n",
       "      <td>...</td>\n",
       "      <td>...</td>\n",
       "      <td>...</td>\n",
       "      <td>...</td>\n",
       "      <td>...</td>\n",
       "    </tr>\n",
       "    <tr>\n",
       "      <th>2010-12-31 22:30:00</th>\n",
       "      <td>0.0</td>\n",
       "      <td>151.00</td>\n",
       "      <td>11.050</td>\n",
       "      <td>11.90</td>\n",
       "      <td>99.0</td>\n",
       "      <td>99.0</td>\n",
       "      <td>99.0</td>\n",
       "      <td>999.0</td>\n",
       "      <td>1012.70</td>\n",
       "      <td>20.500</td>\n",
       "      <td>999.0</td>\n",
       "      <td>19.600</td>\n",
       "      <td>99.0</td>\n",
       "      <td>99.0</td>\n",
       "    </tr>\n",
       "    <tr>\n",
       "      <th>2010-12-31 22:45:00</th>\n",
       "      <td>0.0</td>\n",
       "      <td>150.50</td>\n",
       "      <td>10.625</td>\n",
       "      <td>11.40</td>\n",
       "      <td>99.0</td>\n",
       "      <td>99.0</td>\n",
       "      <td>99.0</td>\n",
       "      <td>999.0</td>\n",
       "      <td>1012.75</td>\n",
       "      <td>20.450</td>\n",
       "      <td>999.0</td>\n",
       "      <td>19.600</td>\n",
       "      <td>99.0</td>\n",
       "      <td>99.0</td>\n",
       "    </tr>\n",
       "    <tr>\n",
       "      <th>2010-12-31 23:00:00</th>\n",
       "      <td>0.0</td>\n",
       "      <td>150.00</td>\n",
       "      <td>10.200</td>\n",
       "      <td>10.90</td>\n",
       "      <td>99.0</td>\n",
       "      <td>99.0</td>\n",
       "      <td>99.0</td>\n",
       "      <td>999.0</td>\n",
       "      <td>1012.80</td>\n",
       "      <td>20.400</td>\n",
       "      <td>999.0</td>\n",
       "      <td>19.600</td>\n",
       "      <td>99.0</td>\n",
       "      <td>99.0</td>\n",
       "    </tr>\n",
       "  </tbody>\n",
       "</table>\n",
       "<p>35037 rows × 14 columns</p>\n",
       "</div>"
      ],
      "text/plain": [
       "                      mm    WDIR    WSPD    GST  WVHT   DPD   APD    MWD  \\\n",
       "dates                                                                      \n",
       "2010-01-01 00:00:00  0.0  134.00   3.000   3.00  99.0  99.0  99.0  999.0   \n",
       "2010-01-01 00:15:00  0.0  131.25   3.150   3.15  99.0  99.0  99.0  999.0   \n",
       "2010-01-01 00:30:00  0.0  128.50   3.300   3.30  99.0  99.0  99.0  999.0   \n",
       "...                  ...     ...     ...    ...   ...   ...   ...    ...   \n",
       "2010-12-31 22:30:00  0.0  151.00  11.050  11.90  99.0  99.0  99.0  999.0   \n",
       "2010-12-31 22:45:00  0.0  150.50  10.625  11.40  99.0  99.0  99.0  999.0   \n",
       "2010-12-31 23:00:00  0.0  150.00  10.200  10.90  99.0  99.0  99.0  999.0   \n",
       "\n",
       "                        PRES    ATMP   WTMP    DEWP   VIS  TIDE  \n",
       "dates                                                            \n",
       "2010-01-01 00:00:00  1019.10  13.300  999.0  12.400  99.0  99.0  \n",
       "2010-01-01 00:15:00  1019.10  13.375  999.0  12.475  99.0  99.0  \n",
       "2010-01-01 00:30:00  1019.10  13.450  999.0  12.550  99.0  99.0  \n",
       "...                      ...     ...    ...     ...   ...   ...  \n",
       "2010-12-31 22:30:00  1012.70  20.500  999.0  19.600  99.0  99.0  \n",
       "2010-12-31 22:45:00  1012.75  20.450  999.0  19.600  99.0  99.0  \n",
       "2010-12-31 23:00:00  1012.80  20.400  999.0  19.600  99.0  99.0  \n",
       "\n",
       "[35037 rows x 14 columns]"
      ]
     },
     "execution_count": 39,
     "metadata": {},
     "output_type": "execute_result"
    }
   ],
   "source": [
    "df2.resample('15 T').interpolate()"
   ]
  },
  {
   "cell_type": "markdown",
   "metadata": {},
   "source": [
    "The codes for time period/frequency are [available](http://pandas.pydata.org/pandas-docs/stable/timeseries.html#offset-aliases) and are presented here for convenience:\n",
    "\n",
    "    Alias\tDescription\n",
    "    B\tbusiness day frequency\n",
    "    C\tcustom business day frequency (experimental)\n",
    "    D\tcalendar day frequency\n",
    "    W\tweekly frequency\n",
    "    M\tmonth end frequency\n",
    "    SM\tsemi-month end frequency (15th and end of month)\n",
    "    BM\tbusiness month end frequency\n",
    "    CBM\tcustom business month end frequency\n",
    "    MS\tmonth start frequency\n",
    "    SMS\tsemi-month start frequency (1st and 15th)\n",
    "    BMS\tbusiness month start frequency\n",
    "    CBMS\tcustom business month start frequency\n",
    "    Q\tquarter end frequency\n",
    "    BQ\tbusiness quarter endfrequency\n",
    "    QS\tquarter start frequency\n",
    "    BQS\tbusiness quarter start frequency\n",
    "    A\tyear end frequency\n",
    "    BA\tbusiness year end frequency\n",
    "    AS\tyear start frequency\n",
    "    BAS\tbusiness year start frequency\n",
    "    BH\tbusiness hour frequency\n",
    "    H\thourly frequency\n",
    "    T, min\tminutely frequency\n",
    "    S\tsecondly frequency\n",
    "    L, ms\tmilliseconds\n",
    "    U, us\tmicroseconds\n",
    "    N\tnanoseconds"
   ]
  },
  {
   "cell_type": "markdown",
   "metadata": {},
   "source": [
    "---\n",
    "###  *Exercise*\n",
    "\n",
    "> We looked at NYC taxi trip distance earlier, but it was hard to tell what was going on with so much data. Resample this high resolution data to be lower resolution so that any trends in the information are easier to see. By what method do you want to do this downsampling? Plot your results.\n",
    "\n",
    "---"
   ]
  },
  {
   "cell_type": "code",
   "execution_count": null,
   "metadata": {},
   "outputs": [],
   "source": []
  },
  {
   "cell_type": "markdown",
   "metadata": {},
   "source": [
    "## `groupby` and difference between `groupby` and resampling\n",
    "\n",
    "`groupby` allows us to aggregate data across a category or value. We'll use the example of grouping across a measure of time.\n",
    "\n",
    "Let's examine this further using a dataset of some water properties near the Flower Garden Banks in Texas. We want to find the average salinity by month across the years of data available, that is, we want to know the average salinity value for each month of the year, calculated for each month from all of the years of data available. We will end up with 12 data points in this case. \n",
    "\n",
    "This is distinct from resampling for which if you calculate the average salinity by month, you will get a data point for each month in the time series. If there are 5 years of data in your dataset, you will end up with 12*5=60 data points total.\n",
    "\n",
    "In the `groupby` example below, we first read the data into dataframe 'df3', then we group it by month (across years, since there are many years of data). From this grouping, we decide what function we want to apply to all of the numbers we've aggregated across the months of the year. We'll use mean for this example."
   ]
  },
  {
   "cell_type": "code",
   "execution_count": 40,
   "metadata": {},
   "outputs": [
    {
     "data": {
      "text/html": [
       "<div>\n",
       "<style scoped>\n",
       "    .dataframe tbody tr th:only-of-type {\n",
       "        vertical-align: middle;\n",
       "    }\n",
       "\n",
       "    .dataframe tbody tr th {\n",
       "        vertical-align: top;\n",
       "    }\n",
       "\n",
       "    .dataframe thead th {\n",
       "        text-align: right;\n",
       "    }\n",
       "</style>\n",
       "<table border=\"1\" class=\"dataframe\">\n",
       "  <thead>\n",
       "    <tr style=\"text-align: right;\">\n",
       "      <th></th>\n",
       "      <th>WaterT [deg C]</th>\n",
       "      <th>Cond [ms/cm]</th>\n",
       "      <th>Salinity</th>\n",
       "      <th>Density [kg/m^3]</th>\n",
       "      <th>SoundVel [m/s]</th>\n",
       "    </tr>\n",
       "    <tr>\n",
       "      <th>Dates [UTC]</th>\n",
       "      <th></th>\n",
       "      <th></th>\n",
       "      <th></th>\n",
       "      <th></th>\n",
       "      <th></th>\n",
       "    </tr>\n",
       "  </thead>\n",
       "  <tbody>\n",
       "    <tr>\n",
       "      <th>2006-08-25 00:00:00</th>\n",
       "      <td>32.52</td>\n",
       "      <td>-0.01</td>\n",
       "      <td>0.01</td>\n",
       "      <td>995.36</td>\n",
       "      <td>100.0</td>\n",
       "    </tr>\n",
       "    <tr>\n",
       "      <th>2006-08-25 00:30:00</th>\n",
       "      <td>31.25</td>\n",
       "      <td>-0.01</td>\n",
       "      <td>0.01</td>\n",
       "      <td>995.73</td>\n",
       "      <td>-999.0</td>\n",
       "    </tr>\n",
       "    <tr>\n",
       "      <th>2006-08-25 01:00:00</th>\n",
       "      <td>30.35</td>\n",
       "      <td>-0.01</td>\n",
       "      <td>0.01</td>\n",
       "      <td>995.99</td>\n",
       "      <td>100.0</td>\n",
       "    </tr>\n",
       "    <tr>\n",
       "      <th>...</th>\n",
       "      <td>...</td>\n",
       "      <td>...</td>\n",
       "      <td>...</td>\n",
       "      <td>...</td>\n",
       "      <td>...</td>\n",
       "    </tr>\n",
       "    <tr>\n",
       "      <th>2019-04-29 10:00:00</th>\n",
       "      <td>22.97</td>\n",
       "      <td>0.22</td>\n",
       "      <td>0.11</td>\n",
       "      <td>997.89</td>\n",
       "      <td>-999.0</td>\n",
       "    </tr>\n",
       "    <tr>\n",
       "      <th>2019-04-29 10:30:00</th>\n",
       "      <td>22.90</td>\n",
       "      <td>0.22</td>\n",
       "      <td>0.11</td>\n",
       "      <td>997.91</td>\n",
       "      <td>-999.0</td>\n",
       "    </tr>\n",
       "    <tr>\n",
       "      <th>2019-04-29 11:00:00</th>\n",
       "      <td>23.04</td>\n",
       "      <td>0.22</td>\n",
       "      <td>0.11</td>\n",
       "      <td>997.88</td>\n",
       "      <td>-999.0</td>\n",
       "    </tr>\n",
       "  </tbody>\n",
       "</table>\n",
       "<p>149849 rows × 5 columns</p>\n",
       "</div>"
      ],
      "text/plain": [
       "                     WaterT [deg C]  Cond [ms/cm]  Salinity  Density [kg/m^3]  \\\n",
       "Dates [UTC]                                                                     \n",
       "2006-08-25 00:00:00           32.52         -0.01      0.01            995.36   \n",
       "2006-08-25 00:30:00           31.25         -0.01      0.01            995.73   \n",
       "2006-08-25 01:00:00           30.35         -0.01      0.01            995.99   \n",
       "...                             ...           ...       ...               ...   \n",
       "2019-04-29 10:00:00           22.97          0.22      0.11            997.89   \n",
       "2019-04-29 10:30:00           22.90          0.22      0.11            997.91   \n",
       "2019-04-29 11:00:00           23.04          0.22      0.11            997.88   \n",
       "\n",
       "                     SoundVel [m/s]  \n",
       "Dates [UTC]                          \n",
       "2006-08-25 00:00:00           100.0  \n",
       "2006-08-25 00:30:00          -999.0  \n",
       "2006-08-25 01:00:00           100.0  \n",
       "...                             ...  \n",
       "2019-04-29 10:00:00          -999.0  \n",
       "2019-04-29 10:30:00          -999.0  \n",
       "2019-04-29 11:00:00          -999.0  \n",
       "\n",
       "[149849 rows x 5 columns]"
      ]
     },
     "execution_count": 40,
     "metadata": {},
     "output_type": "execute_result"
    }
   ],
   "source": [
    "df3 = pd.read_table('http://pong.tamu.edu/tabswebsite/daily/tabs_V_salt_all', index_col=0, parse_dates=True)\n",
    "df3"
   ]
  },
  {
   "cell_type": "code",
   "execution_count": 41,
   "metadata": {},
   "outputs": [
    {
     "data": {
      "text/plain": [
       "Text(0, 0.5, 'Average salinity')"
      ]
     },
     "execution_count": 41,
     "metadata": {},
     "output_type": "execute_result"
    },
    {
     "data": {
      "image/png": "[encoded data removed]",
      "text/plain": [
       "<Figure size 1008x288 with 1 Axes>"
      ]
     },
     "metadata": {
      "needs_background": "light"
     },
     "output_type": "display_data"
    }
   ],
   "source": [
    "ax = df3.groupby(df3.index.month).aggregate(np.mean)['Salinity'].plot(color='k', grid=True, figsize=(14, 4), marker='o')\n",
    "\n",
    "# the x axis is now showing month of the year, which is what we aggregated over\n",
    "ax.set_xlabel('Month of year')\n",
    "\n",
    "ax.set_ylabel('Average salinity')"
   ]
  },
  {
   "cell_type": "markdown",
   "metadata": {},
   "source": [
    "---\n",
    "\n",
    "###  *Exercise*\n",
    "\n",
    "> Calculate and plot the monthly average of salinity from df3 but find this in time, not across different years (so use resampling).\n",
    "\n",
    "---"
   ]
  },
  {
   "cell_type": "code",
   "execution_count": null,
   "metadata": {
    "scrolled": true
   },
   "outputs": [],
   "source": []
  },
  {
   "cell_type": "markdown",
   "metadata": {},
   "source": [
    "---\n",
    "###  *Exercise*\n",
    "\n",
    "> See how far you can get in this exercise to see how you might access data in real life.\n",
    "\n",
    "> 1. Some of NOAA's data is available really easily online. You can look at the meteorological data from a buoy at a website like [this](https://tidesandcurrents.noaa.gov/met.html?id=8770475), for buoy 8770475. You can download the data there or look at plots. Check out the website.\n",
    "\n",
    "> 1. You can also directly download data once you know what web address to use to access that data. This can be really useful when you want to automate the process of downloading data instead of having to click around for it, and it matters more the more downloading you want to do. You can access the data from this buoy from January 1st to January 14th, 2016, with the following web address. That means that you can put this dynamic link directly into a call with `pandas` to read in data. Read in this buoy data to a dataframe so that the indices are datetime objects.\n",
    "        url = 'https://tidesandcurrents.noaa.gov/cgi-bin/newdata.cgi?type=met&id=8770475&begin=20160101&end=20160114&units=metric&timezone=GMT&mode=csv&interval=6'\n",
    "\n",
    "> 1. Now, read in data from buoy 8775237 from October 1 to 9, 2017. What is the url you should use to do this?\n",
    "\n",
    "> 1. After you have the data set read in properly, plot wind speed vs. time with wind speed on the left y-axis, and on the same axes plot wind direction vs. time with wind direction on the right hand y-axis.\n",
    "\n",
    "> Note: where did I get this url from so that I could download the data directly?\n",
    "\n",
    "---"
   ]
  },
  {
   "cell_type": "code",
   "execution_count": null,
   "metadata": {},
   "outputs": [],
   "source": []
  }
 ],
 "metadata": {
  "anaconda-cloud": {},
  "kernelspec": {
   "display_name": "Python 3 (ipykernel)",
   "language": "python",
   "name": "python3"
  },
  "language_info": {
   "codemirror_mode": {
    "name": "ipython",
    "version": 3
   },
   "file_extension": ".py",
   "mimetype": "text/x-python",
   "name": "python",
   "nbconvert_exporter": "python",
   "pygments_lexer": "ipython3",
   "version": "3.9.7"
  }
 },
 "nbformat": 4,
 "nbformat_minor": 4
}
