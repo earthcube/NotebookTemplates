{
 "cells": [
  {
   "cell_type": "markdown",
   "metadata": {},
   "source": [
    "# Use PmagPy functions for analysis of paleomagnetic data\n",
    "Modified from original Magic-Supplied notebook to read files directly from the web.\n",
    "SMR 2019-06-06\n",
    "\n",
    "#  Before you begin\n",
    "\n",
    "If you wish to execute the code within a downloaded version of this notebook (which can be found here: https://github.com/PmagPy/2016_Tauxe-et-al_PmagPy_Notebooks), it is necessary to have an installed distribution of Python and to have installed the PmagPy software distribution. The instructions in the PmagPy Cookbook can help get you started in this regard:\n",
    "\n",
    "http://earthref.org/PmagPy/cookbook\n",
    "\n",
    "The user may also benefit from perusing the 'Survival computer skills' and 'Introduction to Python Programming' chapters of the cookbook if they are new to programming in Python.\n",
    "\n",
    "#  Introduction\n",
    "\n",
    "This notebook is based on a notebook created by Nicholas Swanson-Hysell, Lisa Tauxe and Luke Fairchild that accompanied a paper entitled: \n",
    "\n",
    "**PmagPy: Software package for paleomagnetic data analysis and a bridge to the Magnetics Information Consortium (MagIC) Database**\n",
    "*L. Tauxe, R. Shaar, L. Jonestrask, N.L. Swanson-Hysell, R. Minnett, A.A.P., Koppers, C.G. Constable, N. Jarboe, K. Gaastra, and L. Fairchild*\n",
    "\n",
    "The analysis in this notebook uses data accessed using the MAGic contribution number in the url provided as a parameter from the GeoCODES search result.\n",
    "\n",
    "In this notebook, we will use PmagPy to:\n",
    "\n",
    "* Unpack data downloaded from the MagIC database.\n",
    "* Plot directions and VGPs.\n",
    "* Calculate and plot Fisher means for directions and VGPs.\n",
    "* Conduct a bootstrap fold test on the data.\n",
    "* Conduct a common mean test between the data from the two contributions.\n",
    "\n",
    "# Import necessary function libraries for data analysis\n",
    "\n",
    "This Jupyter notebook works using a Python 3.4 kernel. The code block below imports the pmagpy module from PmagPy that provides functions that will be used in the data analysis. At present, the most straight-forward way to do so is to install the pmagpy module using the pip package manager by executing this command at the command line:\n",
    "\n",
    "```pip install pmagpy```\n",
    "\n",
    "With PmagPy available in this way, the function modules from **PmagPy** can be imported:  **pmag**, a module with ~160 (and growing) functions for analyzing paleomagnetic and rock magnetic data and  **ipmag**, a module with functions that combine and extend **pmag** functions and exposes **pmagplotlib** functions in order to generate output that works well within the Jupyter notebook environment. \n",
    "\n",
    "To execute the code, click on play button in the menu bar, choose run under the 'cell' menu at the top of the notebook, or type shift+enter."
   ]
  },
  {
   "cell_type": "code",
   "execution_count": 2,
   "metadata": {},
   "outputs": [],
   "source": [
    "#github.com/nteract/papermill'parameters'tag used to inject them into template then post a gist runable by colab\n",
    "url,ext,urn=None,None,None\n",
    "\n",
    "# Parameters\n",
    "# these parameters are passed from the GeoCodes Searth interface; \n",
    "# assign default values:\n",
    "\n",
    "# url is the location of the MagIC dataset to work with.\n",
    "#url = \"\"\n",
    "url = \"https://earthref.org/MagIC/download/8470/magic_contribution_8470.txt\"\n",
    "# ext is the encodingFormat for the dataset documented in the dataset metadata record;\n",
    "# we don't need it here, it was used in the logic to determin which notebook to open.\n",
    "\n",
    "ext = \"text/plain;application=magic-tsv,MagIC-tsv-Multipart\"\n",
    "# this urn identifies the geocodes metadata record, represented as an RDF graph, for this dataset\n",
    "urn = \"urn:gleaner:milled:magic:25cfe78f54d1152dcae8439cf2c26a9b319a48f3\""
   ]
  },
  {
   "cell_type": "code",
   "execution_count": 16,
   "metadata": {
    "tags": []
   },
   "outputs": [],
   "source": [
    "#  If the imports in the next cell don't work, uncomment this pip command and run it\n",
    "# !pip install pmagpy\n"
   ]
  },
  {
   "cell_type": "code",
   "execution_count": 17,
   "metadata": {},
   "outputs": [],
   "source": [
    "import pmagpy.ipmag as ipmag\n",
    "import pmagpy.pmag as pmag"
   ]
  },
  {
   "cell_type": "markdown",
   "metadata": {},
   "source": [
    "There are three other important Python libraries (which are bundled with the Canopy and Anaconda installations of Python) that come in quite handy and are used within this notebook:  **numpy** for data analysis using arrays, **pandas** for data manipulation within dataframes and **matplotlib** for plotting. The call ```%matplotlib inline``` results in the plots being shown within this notebook rather than coming up in external windows. "
   ]
  },
  {
   "cell_type": "code",
   "execution_count": 18,
   "metadata": {},
   "outputs": [],
   "source": [
    "import numpy as np\n",
    "import pandas as pd\n",
    "import matplotlib.pyplot as plt\n",
    "import IPython\n",
    "%matplotlib inline\n",
    "%config InlineBackend.figure_formats = {'svg',}\n",
    "#\n",
    "# this is a python file (MagicToDataFrames.py) that needs to be in the same directory\n",
    "#  as this ipython notebook file. It contains modified routines from pmag and ipmag to\n",
    "#  load from a magic database file to a dictionary of pandas dataframes.\n",
    "import MagicToDataFrames"
   ]
  },
  {
   "cell_type": "markdown",
   "metadata": {},
   "source": [
    "# Import data into the notebook\n",
    "\n",
    "## Unpack files downloaded from the MagIC database\n",
    "\n",
    "Data within the MagIC database can be downloaded as a single .txt file. This file is then split into its constituent EarthRef and pmag tables in separate pandas dataframes, using a modified version of the function **ipmag.download_magic**. Each dataframe is named for the tab section of the MagIC databaset text file that was downloaded. The pandas dataframes are then used for subsequent data analysis. The ```%%capture``` line blocks annoying messages printed by the **ipmag.download_magic** function.  "
   ]
  },
  {
   "cell_type": "markdown",
   "metadata": {},
   "source": [
    "SMR 2019-06-06\n",
    "the original notebook loaded files from the local file system. \n",
    "The ipmag.download_from_magic function has been modified to get the whole file, and then pass the file-like object to a modified ipmag.download_magic, which generates a pandas frame for each tab section of the Magic database file. Keep all in memory for now so don't have to deal with permissions to write to the file system."
   ]
  },
  {
   "cell_type": "code",
   "execution_count": 20,
   "metadata": {},
   "outputs": [
    {
     "name": "stdout",
     "output_type": "stream",
     "text": [
      "Input document id: https://earthref.org/MagIC/download/8470/magic_contribution_8470.txt\n",
      "CALL magicToDataframe\n",
      "data table: contribution; 1 records\n",
      "contributor: @magic; author: ; \n"
     ]
    }
   ],
   "source": [
    "#%%capture\n",
    "print('Input document id: ' + url)\n",
    "#outputdict = MagicToDataFrames.download_from_magic(11087)\n",
    "outputdict = MagicToDataFrames.download_from_magic(8470)"
   ]
  },
  {
   "cell_type": "markdown",
   "metadata": {},
   "source": [
    "## Loading the unpacked data into Pandas Dataframes\n",
    "\n",
    "With the results unpacked from MagIC, the data can now be analyzed within the notebook. The data from the pmag_sites frame are used to look at the directions from each site. A nice way to deal with data within Python is using the dataframe structure of the pandas package. The code block below uses the pd.read_csv function to create a dataframe from the pmag_sites.txt file. All MagIC formatted files are tab delimited (```sep='\\t'```) with two header lines, one with the type of delimiter and MagIC table and one with the MagIC database column names. To see the formats for MagIC tables, go to http://earthref.org/MAGIC/metadata.htm.\n",
    "To skip the first header line in a particular file when importing it to a DataFrame, set skiprows=1.  The ```data_frame_name.head(X)``` function allows us to inspect the first ```X``` rows of the dataframe (in this case 4)."
   ]
  },
  {
   "cell_type": "code",
   "execution_count": 23,
   "metadata": {},
   "outputs": [
    {
     "name": "stdout",
     "output_type": "stream",
     "text": [
      "contributor: @magic; author: ;  data_model_version: 2.4\n"
     ]
    }
   ],
   "source": [
    "#Halls1974_sites = pd.read_csv('./Example_Data/Halls1974/pmag_sites.txt',\n",
    "#                              sep='\\t',skiprows=1)\n",
    "#Halls1974_sites.head(4)\n",
    "if not(outputdict['contribution'].empty):\n",
    "    thecontribs=outputdict['contribution']\n",
    "    thekeys=(list(thecontribs))\n",
    "    for index, row in thecontribs.iterrows():\n",
    "        if 'contributor' in thekeys:\n",
    "            contrib = 'contributor: ' + row['contributor'] + '; '\n",
    "        else:\n",
    "            contrib = ''\n",
    "        if 'author' in thekeys:\n",
    "            auth = 'author: ' + row['author'] + '; '\n",
    "        else:\n",
    "            auth = ''\n",
    "        \n",
    "        if 'reference' in thekeys:\n",
    "            refer = ' reference: ' + row['reference']\n",
    "        else:\n",
    "            refer = ''\n",
    "            \n",
    "        if 'data_model_version' in thekeys:\n",
    "            dm = ' data_model_version: ' + row['data_model_version']\n",
    "        elif 'magic_version' in thekeys:\n",
    "            dm = ' data_model_version: ' + row['magic_version']\n",
    "        else:\n",
    "            dm = ''\n",
    "    print(contrib + auth + refer + dm)\n",
    "    \n",
    "#print(outputdict)\n",
    "#theSites = outputdict['pmag_sites']"
   ]
  },
  {
   "cell_type": "markdown",
   "metadata": {},
   "source": [
    "## Filtering by polarity and tilt-correction\n",
    "\n",
    "Let's start our analysis on the reversed polarity sites that are below an angular unconformity in the Halls (1974) data set. A nice thing about dataframes is that there is built-in functionality to filter them based on column values. The code block below creates a new dataframe of sites that have the site_polarity value of 'r' in the pmag_sites table. It then creates one dataframe for tilt-corrected sites (value of 100 in site_tilt_correction) and sites that have not been tilt-corrected (value of 0 in site_tilt_correction)."
   ]
  },
  {
   "cell_type": "code",
   "execution_count": null,
   "metadata": {},
   "outputs": [],
   "source": [
    "#replace .ix with .loc in this part\n",
    "theSites_r = theSites.loc[theSites.site_polarity=='r']\n",
    "#print(\"TiltCorrection r:\",theSites_r.site_tilt_correction)\n",
    "# all the numbers in the dataframe are objects, os have to treat as strings\n",
    "theSites_r_tc = theSites_r.loc[theSites_r.site_tilt_correction=='100']\n",
    "#print(\"r_tc:\", theSites_r_tc)\n",
    "theSites_r_tc.reset_index(inplace=True)\n",
    "theSites_r_is = theSites_r.loc[theSites_r.site_tilt_correction=='0']\n",
    "theSites_r_is.reset_index(inplace=True)\n",
    "\n",
    "\n",
    "#example code to treat a series in the dataframe as numbers\n",
    "#pd.to_numeric(theSites_r_is.site_inc,errors='ignore').tolist()\n",
    "\n"
   ]
  },
  {
   "cell_type": "markdown",
   "metadata": {},
   "source": [
    "# Data analysis and visualization\n",
    "\n",
    "The data can be analyzed and visualized using PmagPy functions. We will first create a directory called 'Example_Notebook_Output'  from within the notebook (using the initial ! before the command invokes a command as if typed on the command line from within a notebook) so that we have a place to put saved figures.  You can do this outside of the notebook if you prefer.   "
   ]
  },
  {
   "cell_type": "markdown",
   "metadata": {},
   "source": [
    "## Calculating Fisher means\n",
    "\n",
    "Fisher means for the data can be calculated with the function **ipmag.fisher_mean**. This function takes in a list of declination values, a list of inclination values and returns a dictionary that gives the Fisher mean and associated statistical parameters. This dictionary is printed out for the mean of the tilt-corrected data within the first code block. These dictionary objects are given names such that we can subsequently access the values. The second code block uses the **ipmag.print_direction_mean** to print out a formatted version of these same results."
   ]
  },
  {
   "cell_type": "code",
   "execution_count": null,
   "metadata": {},
   "outputs": [],
   "source": [
    "Site_r_is_mean = ipmag.fisher_mean(pd.to_numeric(theSites_r_is.site_dec,errors='ignore').tolist(),\n",
    "                                       pd.to_numeric(theSites_r_is.site_inc,errors='ignore').tolist())\n",
    "Site_r_tc_mean = ipmag.fisher_mean(pd.to_numeric(theSites_r_tc.site_dec,errors='ignore').tolist(),\n",
    "                                        pd.to_numeric(theSites_r_tc.site_inc,errors='ignore').tolist())\n",
    "#print(Site_r_tc_mean)\n",
    "#print(theSites_r_is)"
   ]
  },
  {
   "cell_type": "code",
   "execution_count": null,
   "metadata": {},
   "outputs": [],
   "source": [
    "print('The mean for the tilt-corrected directions is:')\n",
    "ipmag.print_direction_mean(Site_r_tc_mean)"
   ]
  },
  {
   "cell_type": "markdown",
   "metadata": {},
   "source": [
    "## Plotting the Site results\n",
    "\n",
    "The code block below creates a figure with an equal area stereonet and uses the **ipmag.plot_di** function to plot the data both in tilt-corrected and *in situ* coordinates. The figure can be saved out of the notebook using the ```plt.savefig()``` function. The saved figure file type can be .png, .eps, .svg among others. Saved figures can be used as is for publication or, if necessary, exported vector graphics (e.g. .eps and .svg files) can be edited with software such as Adobe Illustrator or Inkscape.  "
   ]
  },
  {
   "cell_type": "code",
   "execution_count": null,
   "metadata": {},
   "outputs": [],
   "source": [
    "plt.figure(num=1,figsize=(4,4))\n",
    "ipmag.plot_net(fignum=1)\n",
    "ipmag.plot_di(pd.to_numeric(theSites_r_is.site_dec,errors='ignore').tolist(),\n",
    "              pd.to_numeric(theSites_r_is.site_inc,errors='ignore').tolist(),color='r',\n",
    "              label='Site means (in situ)')\n",
    "ipmag.plot_di(pd.to_numeric(theSites_r_tc.site_dec,errors='ignore').tolist(),\n",
    "              pd.to_numeric(theSites_r_tc.site_inc,errors='ignore').tolist(),color='b',\n",
    "             label='Site means (tilt-corrected)')\n",
    "plt.legend(loc=9)\n",
    "#plt.savefig('Example_Notebook_Output/theSites.svg')"
   ]
  },
  {
   "cell_type": "markdown",
   "metadata": {},
   "source": [
    "A similar plot showing the Fisher means of the site means calculated above and their associated $\\alpha_{95}$ confidence ellipses can be generated using the **ipmag.plot_di_mean** function."
   ]
  },
  {
   "cell_type": "code",
   "execution_count": null,
   "metadata": {},
   "outputs": [],
   "source": [
    "plt.figure(num=1,figsize=(4,4))\n",
    "ipmag.plot_net(fignum=1)\n",
    "ipmag.plot_di_mean(Site_r_tc_mean['dec'],\n",
    "                   Site_r_tc_mean['inc'],\n",
    "                   Site_r_tc_mean['alpha95'],'b',\n",
    "                   label='Halls (1974) tilt-corrected mean')\n",
    "ipmag.plot_di_mean(Site_r_is_mean['dec'],\n",
    "                   Site_r_is_mean['inc'],\n",
    "                   Site_r_is_mean['alpha95'],'r',\n",
    "                   label='Halls (1974) insitu mean')\n",
    "plt.legend(loc=9)\n",
    "plt.savefig('Example_Notebook_Output/Halls_1974_means.svg')"
   ]
  },
  {
   "cell_type": "markdown",
   "metadata": {},
   "source": [
    "The means that have been calculated are now dictionaries that can be made into a new dataframe to present the results. A table like this can be exported into a variety of formats (e.g. LaTeX, html, csv) for inclusion in a publication."
   ]
  },
  {
   "cell_type": "code",
   "execution_count": null,
   "metadata": {},
   "outputs": [],
   "source": [
    "Site_r_is_mean = ipmag.fisher_mean(pd.to_numeric(theSites_r_is.site_dec,errors='ignore').tolist(),\n",
    "                                       pd.to_numeric(theSites_r_is.site_inc,errors='ignore').tolist())\n",
    "Site_r_tc_mean = ipmag.fisher_mean(pd.to_numeric(theSites_r_tc.site_dec,errors='ignore').tolist(),\n",
    "                                        pd.to_numeric(theSites_r_tc.site_inc,errors='ignore').tolist())\n",
    "means = pd.DataFrame([Site_r_is_mean,Site_r_tc_mean],\n",
    "                     index=['Site_insitu)','Site_tilt-corrected)'])\n",
    "means"
   ]
  },
  {
   "cell_type": "markdown",
   "metadata": {},
   "source": [
    "Alternatively, one can export the MagIC data table pmag_results.txt into a tab delimited or latex file using the PmagPy program: **pmag_results_extract.py** which can be run at the command line as:\n",
    "```\n",
    "pmag_results_extract.py -f project/pmag_results.txt\n",
    "```\n",
    "```\n",
    "pmag_results_extract.py -f project/pmag_results.txt -tex\n",
    "```\n",
    "or executed as shell command within the notebook by using the ! prefix as is done in the cell block below."
   ]
  },
  {
   "cell_type": "code",
   "execution_count": null,
   "metadata": {},
   "outputs": [],
   "source": [
    "# !pmag_results_extract.py -f {local path here}/pmag_results.txt"
   ]
  },
  {
   "cell_type": "markdown",
   "metadata": {},
   "source": [
    "# Concluding thoughts\n",
    "\n",
    "This notebook is intended to be an illustrative case study of simple data analysis that can be accomplished using PmagPy within a Jupyter notebook. All the capabilities of PmagPy can be utilized within notebooks, although continued work is needed for the functionality within some of the command line programs to be made into functions that work well within the environment.\n",
    "\n",
    "An advantage of this type of workflow is that it is well-documented and reproducible. The decisions that went into the data analysis and the implementation of the statistical tests are fully transparent (as is the underlying code). Additionally, if one were to seek to add more data to the mean pole, all of the data analysis could be quickly redone by executing all of the code in the notebook.\n",
    "\n",
    "Smaller snippets of code that demonstrate additional PmagPy functionality within the notebook environment can be seen in this notebook: \n",
    "\n",
    "http://pmagpy.github.io/Additional_PmagPy_Examples.html\n",
    "\n",
    "\n",
    "# Works cited\n",
    "\n",
    "\n",
    "Tauxe, L. with contributions from Subir K. Banerjee, Robert F. Butler and Rob van der Voo, Essentials of Paleomagnetism, Univ. California Press, 2010.  Current online version:  https://earthref.org/MagIC/books/Tauxe/Essentials/"
   ]
  },
  {
   "cell_type": "code",
   "execution_count": null,
   "metadata": {},
   "outputs": [],
   "source": []
  }
 ],
 "metadata": {
  "hide_input": false,
  "kernelspec": {
   "display_name": "Python 3 (ipykernel)",
   "language": "python",
   "name": "python3"
  },
  "language_info": {
   "codemirror_mode": {
    "name": "ipython",
    "version": 3
   },
   "file_extension": ".py",
   "mimetype": "text/x-python",
   "name": "python",
   "nbconvert_exporter": "python",
   "pygments_lexer": "ipython3",
   "version": "3.8.12"
  },
  "toc": {
   "base_numbering": 1,
   "nav_menu": {},
   "number_sections": true,
   "sideBar": true,
   "skip_h1_title": false,
   "title_cell": "Table of Contents",
   "title_sidebar": "Contents",
   "toc_cell": false,
   "toc_position": {},
   "toc_section_display": true,
   "toc_window_display": false
  }
 },
 "nbformat": 4,
 "nbformat_minor": 4
}
