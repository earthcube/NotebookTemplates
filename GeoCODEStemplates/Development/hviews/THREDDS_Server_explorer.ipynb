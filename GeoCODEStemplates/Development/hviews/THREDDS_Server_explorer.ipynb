{
 "cells": [
  {
   "cell_type": "code",
   "execution_count": 1,
   "metadata": {},
   "outputs": [
    {
     "data": {
      "application/javascript": [
       "function getQueryStringValue (key)\n",
       "{  \n",
       "    return unescape(window.location.search.replace(new RegExp(\"^(?:.*[&\\\\?]\" + escape(key).replace(/[\\.\\+\\*]/g, \"\\\\$&\") + \"(?:\\\\=([^&]*))?)?.*$\", \"i\"), \"$1\"));\n",
       "}\n",
       "IPython.notebook.kernel.execute(\"docID='\".concat(getQueryStringValue(\"documentId\")).concat(\"'\"));\n"
      ],
      "text/plain": [
       "<IPython.core.display.Javascript object>"
      ]
     },
     "metadata": {},
     "output_type": "display_data"
    }
   ],
   "source": [
    "%%javascript\n",
    "function getQueryStringValue (key)\n",
    "{  \n",
    "    return unescape(window.location.search.replace(new RegExp(\"^(?:.*[&\\\\?]\" + escape(key).replace(/[\\.\\+\\*]/g, \"\\\\$&\") + \"(?:\\\\=([^&]*))?)?.*$\", \"i\"), \"$1\"));\n",
    "}\n",
    "IPython.notebook.kernel.execute(\"docID='\".concat(getQueryStringValue(\"documentId\")).concat(\"'\"));"
   ]
  },
  {
   "cell_type": "code",
   "execution_count": 2,
   "metadata": {},
   "outputs": [
    {
     "name": "stdout",
     "output_type": "stream",
     "text": [
      "testing:  2d40fbc518db4418b9c121bf47552fa4\n"
     ]
    }
   ],
   "source": [
    "# setup a a testing case\n",
    "try:\n",
    "    if docID == '':\n",
    "        docID = \"2d40fbc518db4418b9c121bf47552fa4\"\n",
    "except NameError:\n",
    "    docID = \"2d40fbc518db4418b9c121bf47552fa4\"\n",
    "\n",
    "print(\"testing: \", docID)"
   ]
  },
  {
   "cell_type": "code",
   "execution_count": 3,
   "metadata": {},
   "outputs": [],
   "source": [
    "import pandas as pd\n",
    "import numpy as np\n",
    "import datetime as dt\n",
    "import matplotlib.pyplot as plt\n",
    "import matplotlib.patches as mpatches\n",
    "import matplotlib.dates as mdates\n",
    "import requests, json, os\n",
    "from datetime import datetime, date, time\n",
    "from ipywidgets import widgets  \n",
    "from IPython import get_ipython\n",
    "from IPython.display import display, Image, Markdown\n",
    "from matplotlib import pylab\n",
    "from pylab import *\n",
    "from IPython.display import clear_output\n",
    "import csv"
   ]
  },
  {
   "cell_type": "code",
   "execution_count": 4,
   "metadata": {},
   "outputs": [
    {
     "name": "stdout",
     "output_type": "stream",
     "text": [
      "http://cinergi.sdsc.edu/geoportal/rest/metadata/item/2d40fbc518db4418b9c121bf47552fa4\n"
     ]
    }
   ],
   "source": [
    "cinergi_url = \"http://cinergi.sdsc.edu/geoportal/rest/metadata/item/\" + docID\n",
    "print(cinergi_url)"
   ]
  },
  {
   "cell_type": "code",
   "execution_count": 5,
   "metadata": {},
   "outputs": [],
   "source": [
    "the_page = requests.get(cinergi_url)\n",
    "the_json = json.loads(the_page.text)\n",
    "doc_title = the_json['_source']['title']"
   ]
  },
  {
   "cell_type": "code",
   "execution_count": 6,
   "metadata": {},
   "outputs": [
    {
     "name": "stdout",
     "output_type": "stream",
     "text": [
      "http://www.esrl.noaa.gov/psd/thredds/wms/Datasets/ncep.marine/shum.mean.nc\n"
     ]
    }
   ],
   "source": [
    "# find wms link\n",
    "wms_url =[link for link in the_json['_source']['links_s'] if \"wms\" in link][0]\n",
    "wms_url = wms_url.split('?')[0]\n",
    "print(wms_url)"
   ]
  },
  {
   "cell_type": "code",
   "execution_count": 7,
   "metadata": {},
   "outputs": [],
   "source": [
    "from owslib.wms import WebMapService"
   ]
  },
  {
   "cell_type": "code",
   "execution_count": 8,
   "metadata": {},
   "outputs": [
    {
     "data": {
      "text/plain": [
       "'NOAA/ESRL/PSD'"
      ]
     },
     "execution_count": 8,
     "metadata": {},
     "output_type": "execute_result"
    }
   ],
   "source": [
    "wms = WebMapService(wms_url)\n",
    "wms.identification.title"
   ]
  },
  {
   "cell_type": "code",
   "execution_count": 9,
   "metadata": {},
   "outputs": [
    {
     "name": "stdout",
     "output_type": "stream",
     "text": [
      "Specific Humidity Monthly Mean at Surface\n",
      "(-180.0, -89.0, 180.0, 89.0)\n"
     ]
    },
    {
     "data": {
      "text/plain": [
       "{'boxfill/rainbow': {'title': 'boxfill/rainbow',\n",
       "  'legend': 'http://www.esrl.noaa.gov/psd/thredds/wms/Datasets/ncep.marine/shum.mean.nc?REQUEST=GetLegendGraphic&LAYER=shum&PALETTE=rainbow'},\n",
       " 'boxfill/occam': {'title': 'boxfill/occam',\n",
       "  'legend': 'http://www.esrl.noaa.gov/psd/thredds/wms/Datasets/ncep.marine/shum.mean.nc?REQUEST=GetLegendGraphic&LAYER=shum&PALETTE=occam'},\n",
       " 'boxfill/redblue': {'title': 'boxfill/redblue',\n",
       "  'legend': 'http://www.esrl.noaa.gov/psd/thredds/wms/Datasets/ncep.marine/shum.mean.nc?REQUEST=GetLegendGraphic&LAYER=shum&PALETTE=redblue'},\n",
       " 'boxfill/ncview': {'title': 'boxfill/ncview',\n",
       "  'legend': 'http://www.esrl.noaa.gov/psd/thredds/wms/Datasets/ncep.marine/shum.mean.nc?REQUEST=GetLegendGraphic&LAYER=shum&PALETTE=ncview'},\n",
       " 'boxfill/sst_36': {'title': 'boxfill/sst_36',\n",
       "  'legend': 'http://www.esrl.noaa.gov/psd/thredds/wms/Datasets/ncep.marine/shum.mean.nc?REQUEST=GetLegendGraphic&LAYER=shum&PALETTE=sst_36'},\n",
       " 'boxfill/greyscale': {'title': 'boxfill/greyscale',\n",
       "  'legend': 'http://www.esrl.noaa.gov/psd/thredds/wms/Datasets/ncep.marine/shum.mean.nc?REQUEST=GetLegendGraphic&LAYER=shum&PALETTE=greyscale'},\n",
       " 'boxfill/alg2': {'title': 'boxfill/alg2',\n",
       "  'legend': 'http://www.esrl.noaa.gov/psd/thredds/wms/Datasets/ncep.marine/shum.mean.nc?REQUEST=GetLegendGraphic&LAYER=shum&PALETTE=alg2'},\n",
       " 'boxfill/occam_pastel-30': {'title': 'boxfill/occam_pastel-30',\n",
       "  'legend': 'http://www.esrl.noaa.gov/psd/thredds/wms/Datasets/ncep.marine/shum.mean.nc?REQUEST=GetLegendGraphic&LAYER=shum&PALETTE=occam_pastel-30'},\n",
       " 'boxfill/alg': {'title': 'boxfill/alg',\n",
       "  'legend': 'http://www.esrl.noaa.gov/psd/thredds/wms/Datasets/ncep.marine/shum.mean.nc?REQUEST=GetLegendGraphic&LAYER=shum&PALETTE=alg'},\n",
       " 'boxfill/ferret': {'title': 'boxfill/ferret',\n",
       "  'legend': 'http://www.esrl.noaa.gov/psd/thredds/wms/Datasets/ncep.marine/shum.mean.nc?REQUEST=GetLegendGraphic&LAYER=shum&PALETTE=ferret'}}"
      ]
     },
     "execution_count": 9,
     "metadata": {},
     "output_type": "execute_result"
    }
   ],
   "source": [
    "layer=list(wms.contents)[0]\n",
    "print(wms[layer].title)\n",
    "print(wms[layer].boundingBoxWGS84)\n",
    "wms[layer].styles"
   ]
  },
  {
   "cell_type": "code",
   "execution_count": 10,
   "metadata": {},
   "outputs": [],
   "source": [
    "styles = list((wms[layer].styles).keys())\n",
    "legend_url = wms[layer].styles[styles[0]]['legend']\n",
    "img = wms.getmap(layers=[layer], styles=[styles[0]], srs='EPSG:4326',bbox=wms[layer].boundingBoxWGS84,size=(800, 600),format='image/png', transparent=True)"
   ]
  },
  {
   "cell_type": "code",
   "execution_count": 11,
   "metadata": {},
   "outputs": [
    {
     "data": {
      "image/png": "[encoded data removed]",
      "text/plain": [
       "<IPython.core.display.Image object>"
      ]
     },
     "execution_count": 11,
     "metadata": {},
     "output_type": "execute_result"
    }
   ],
   "source": [
    "Image(img.read())"
   ]
  },
  {
   "cell_type": "code",
   "execution_count": 17,
   "metadata": {},
   "outputs": [],
   "source": [
    "legend_image=Image(legend_url,format='png',height=100)"
   ]
  },
  {
   "cell_type": "code",
   "execution_count": 13,
   "metadata": {},
   "outputs": [],
   "source": [
    "from ipyleaflet import Map,WMSLayer,basemaps,WidgetControl"
   ]
  },
  {
   "cell_type": "code",
   "execution_count": 26,
   "metadata": {},
   "outputs": [
    {
     "data": {
      "text/markdown": [
       "## NCEP Real-time Marine:Specific Humidity Monthly Mean at Surface"
      ],
      "text/plain": [
       "<IPython.core.display.Markdown object>"
      ]
     },
     "metadata": {},
     "output_type": "display_data"
    },
    {
     "data": {
      "application/vnd.jupyter.widget-view+json": {
       "model_id": "91f3757403634043a0f5470559b5af78",
       "version_major": 2,
       "version_minor": 0
      },
      "text/plain": [
       "Map(basemap={'url': 'http://server.arcgisonline.com/ArcGIS/rest/services/World_Topo_Map/MapServer/tile/{z}/{y}…"
      ]
     },
     "metadata": {},
     "output_type": "display_data"
    }
   ],
   "source": [
    "m = Map(center=(0, -180), zoom=2,basemap=basemaps.Esri.WorldTopoMap)\n",
    "wms1 = WMSLayer(\n",
    "    url='http://www.esrl.noaa.gov/psd/thredds/wms/Datasets/ncep.marine/shum.mean.nc?',\n",
    "    layers=layer,\n",
    "    styles=styles[0],\n",
    "    transparent=True,\n",
    "    format=\"image/png\"\n",
    ")\n",
    "m.add_layer(wms1)\n",
    "display(Markdown('## ' + doc_title + \":\" + wms[layer].title))\n",
    "legend=legend_image\n",
    "out = widgets.Output(layout={'border': '1px solid black'})\n",
    "with out:\n",
    "    display(legend)\n",
    "widget_control = WidgetControl(widget=out, position='topright')\n",
    "m.add_control(widget_control)\n",
    "m"
   ]
  },
  {
   "cell_type": "code",
   "execution_count": null,
   "metadata": {},
   "outputs": [],
   "source": []
  }
 ],
 "metadata": {
  "kernelspec": {
   "display_name": "Python 3 (ipykernel)",
   "language": "python",
   "name": "python3"
  },
  "language_info": {
   "codemirror_mode": {
    "name": "ipython",
    "version": 3
   },
   "file_extension": ".py",
   "mimetype": "text/x-python",
   "name": "python",
   "nbconvert_exporter": "python",
   "pygments_lexer": "ipython3",
   "version": "3.8.12"
  }
 },
 "nbformat": 4,
 "nbformat_minor": 4
}
