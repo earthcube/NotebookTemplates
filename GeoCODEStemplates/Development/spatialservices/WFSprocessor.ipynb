{
 "cells": [
  {
   "cell_type": "markdown",
   "metadata": {},
   "source": [
    "# Process OGC Web Feature Service\n",
    "\n",
    "This notebook uses an endpoint URL, passed either as an 'endpoint' parameter when the notebook is called, or assigned in cell 5.\n",
    "\n"
   ]
  },
  {
   "cell_type": "markdown",
   "metadata": {},
   "source": [
    "#for some reason the env variable is not getting set when the book is first opened, have to set manually\n",
    "#WFS driver doesn't work\n",
    "#!set GDAL_DATA=E:\\EPrograms\\Anaconda\\envs\\py36\\Library\\share\\gdal\n",
    "!set GDAL_DATA\n"
   ]
  },
  {
   "cell_type": "markdown",
   "metadata": {},
   "source": [
    "%%javascript\n",
    "//check if there is an endpoint parameter in the notebook call\n",
    "\n",
    "function getQueryStringValue (key)\n",
    "{  \n",
    "    return unescape(window.location.search.replace(new RegExp(\"^(?:.*[&\\\\?]\" + escape(key).replace(/[\\.\\+\\*]/g, \"\\\\$&\") + \"(?:\\\\=([^&]*))?)?.*$\", \"i\"), \"$1\"));\n",
    "}\n",
    "IPython.notebook.kernel.execute(\"endpoint='\".concat(getQueryStringValue(\"endpoint\")).concat(\"'\"));\n",
    "IPython.notebook.kernel.execute(\"full_notebook_url='\" + window.location + \"'\"); "
   ]
  },
  {
   "cell_type": "code",
   "execution_count": 19,
   "metadata": {},
   "outputs": [],
   "source": [
    "import sys\n",
    "import osgeo.gdal as gdal\n",
    "import osgeo.ogr as ogr\n",
    "#try:\n",
    "#    from osgeo import ogr, gdal\n",
    "#except:\n",
    "#    sys.exit('ERROR: cannot find GDAL/OGR modules')\n",
    "    \n",
    "from ipywidgets import interact\n",
    "\n",
    "import requests\n",
    "import json\n",
    "from pandas import json_normalize\n",
    "maxfeatures=50000\n",
    "endpoint = None\n",
    "full_notebook_url = None\n",
    "\n",
    "#import numpy as np\n",
    "#import pandas as pd\n",
    "#import xmltodict\n",
    "#from ipywidgets import interactive, fixed, interact_manual\n",
    "#import ipywidgets as widgets"
   ]
  },
  {
   "cell_type": "code",
   "execution_count": 2,
   "metadata": {},
   "outputs": [],
   "source": [
    "def the_envelope(geom):\n",
    "    (minX, maxX, minY, maxY) = geom.GetEnvelope()\n",
    "    # calculate a bounding box geometry for the given geometry argument\n",
    "    # Create ring\n",
    "    ring = ogr.Geometry(ogr.wkbLinearRing)\n",
    "    ring.AddPoint(minX, minY)\n",
    "    ring.AddPoint(maxX, minY)\n",
    "    ring.AddPoint(maxX, maxY)\n",
    "    ring.AddPoint(minX, maxY)\n",
    "    ring.AddPoint(minX, minY)\n",
    "\n",
    "    # Create polygon\n",
    "    poly_envelope = ogr.Geometry(ogr.wkbPolygon)\n",
    "    poly_envelope.AddGeometry(ring)\n",
    "    return poly_envelope"
   ]
  },
  {
   "cell_type": "code",
   "execution_count": 3,
   "metadata": {},
   "outputs": [],
   "source": [
    "def testurl(theurl):\n",
    "    #try HEAD first in case the response document is big\n",
    "    r = requests.head(theurl)\n",
    "    if (r.status_code != requests.codes.ok):\n",
    "        #check GET in case is an incomplete http implementation\n",
    "        r = requests.get(theurl)\n",
    "        if (r.status_code == requests.codes.ok):\n",
    "            return True\n",
    "        else:\n",
    "            return False\n",
    "    else:\n",
    "        return True"
   ]
  },
  {
   "cell_type": "code",
   "execution_count": 4,
   "metadata": {},
   "outputs": [
    {
     "name": "stdout",
     "output_type": "stream",
     "text": [
      "Assign endpoint: https://geoserver.hydroshare.org/geoserver/HS-c8427d7a30f0440b9773d17b7369fb69/wfs\n"
     ]
    }
   ],
   "source": [
    "#url_partitioned = full_notebook_url.partition('ISOmetadata-ExtractDistributions.ipynb')\n",
    "#base_url = url_partitioned[0];\n",
    "\n",
    "if(endpoint is not None and len(endpoint)>0):\n",
    "    print('Got endpoint parameter:',endpoint)\n",
    "else: \n",
    "    # some USGS ScienceBase Geoserver WFS endpoints:\n",
    "    #endpoint='https://www.sciencebase.gov/catalogMaps/mapping/ows/5342c54be4b0aa151574a8dc'\n",
    "    #endpoint='https://www.sciencebase.gov/catalogMaps/mapping/ows/5342c5fce4b0aa151574a8ed'\n",
    "    #endpoint='https://www.sciencebase.gov/catalogMaps/mapping/ows/4f4e49cfe4b07f02db5da90e'\n",
    "\n",
    "    # some NGDS end points\n",
    "    endpoint='https://geoserver.hydroshare.org/geoserver/HS-c8427d7a30f0440b9773d17b7369fb69/wfs'\n",
    "    #endpoint='http://services.azgs.az.gov/arcgis/services/aasggeothermal/AZActiveFaults/MapServer/WFSServer'\n",
    "\n",
    "    #EarthChem\n",
    "    #endpoint='http://ecp.iedadata.org/wfs/ows?service=wfs'\n",
    "\n",
    "    #smu thermal conductivity, geoserver\n",
    "    #endpoint='http://geothermal.smu.edu:9000/geoserver/aasg-thermalconductivity/ows'\n",
    "\n",
    "    #NOAA Watch/warning polygons\n",
    "    #endpoint = 'https://idpgis.ncep.noaa.gov/arcgis/services/NWS_Forecasts_Guidance_Warnings/watch_warn_adv/MapServer/WFSServer'\n",
    "    print('Assign endpoint:', endpoint)\n",
    "# limit the number of features that will be processed\n"
   ]
  },
  {
   "cell_type": "code",
   "execution_count": 28,
   "metadata": {},
   "outputs": [
    {
     "name": "stdout",
     "output_type": "stream",
     "text": [
      "WFS driver IS available.\n",
      "\n"
     ]
    }
   ],
   "source": [
    "# see https://pcjericks.github.io/py-gdalogr-cookbook/vector_layers.html \n",
    "# for documentation on ogr usage\n",
    "## org driver available?\n",
    "driverName = \"WFS\"\n",
    "wfs_drv = ogr.GetDriverByName(driverName)\n",
    "\n",
    "if wfs_drv is None:\n",
    "    print (\"%s driver not available.\\n\" % driverName)\n",
    "else:\n",
    "    print  (\"%s driver IS available.\\n\" % wfs_drv.name)"
   ]
  },
  {
   "cell_type": "code",
   "execution_count": 6,
   "metadata": {},
   "outputs": [],
   "source": [
    "# !set GDAL_DATA=E:\\EPrograms\\Anaconda\\Library\\share\\gdal\n",
    "# !set GDAL_DATA\n"
   ]
  },
  {
   "cell_type": "code",
   "execution_count": 7,
   "metadata": {},
   "outputs": [],
   "source": [
    "# Speeds up querying WFS capabilities for services with alot of layers\n",
    "gdal.SetConfigOption('OGR_WFS_LOAD_MULTIPLE_LAYER_DEFN', 'NO')\n",
    "\n",
    "# Set config for paging. Works on WFS 2.0 services and WFS 1.0 and 1.1 with some other services.\n",
    "gdal.SetConfigOption('OGR_WFS_PAGING_ALLOWED', 'YES')\n",
    "gdal.SetConfigOption('OGR_WFS_PAGE_SIZE', '10000')\n",
    "\n",
    "\n",
    "#test that service is up with getcapabilities request\n",
    "\n",
    "capurl=endpoint + '?service=wfs&request=getCapabilities'\n",
    "\n",
    "if testurl(capurl):\n",
    "    # Open the webservice--check if responds to getCapabilities\n",
    "    wfs_ds = wfs_drv.Open('WFS:' + endpoint)\n",
    "    #wfs_ds = wfs_drv.Open(\"WFS:http://services.azgs.az.gov/arcgis/services/aasggeothermal/CAaqWellChemistry/MapServer/WFSServer\")\n",
    "    #wfs_ds = wfs_drv.Open(endpoint + '?service=wfs&request=getCapabilities&version=1.1.0')\n",
    "    if wfs_ds is None:\n",
    "        print('ERROR: ogr driver cannot open WFS datasource')\n",
    "else:\n",
    "    print('ERROR: service not responding')\n"
   ]
  },
  {
   "cell_type": "code",
   "execution_count": 8,
   "metadata": {},
   "outputs": [
    {
     "data": {
      "text/plain": [
       "'https://geoserver.hydroshare.org/geoserver/HS-c8427d7a30f0440b9773d17b7369fb69/wfs?service=wfs&request=getCapabilities'"
      ]
     },
     "execution_count": 8,
     "metadata": {},
     "output_type": "execute_result"
    }
   ],
   "source": [
    "capurl\n",
    "# ogrinfo -ro WFS:http://www2.dmsolutions.ca/cgi-bin/mswfs_gmap\n"
   ]
  },
  {
   "cell_type": "code",
   "execution_count": 9,
   "metadata": {},
   "outputs": [
    {
     "name": "stdout",
     "output_type": "stream",
     "text": [
      "Layer: HS-c8427d7a30f0440b9773d17b7369fb69:watersheds, Features: 33, SR: GEOGCS[\"WGS 84\",DATUM[\"WGS_1984\",SPHEROID[\"WGS 84\"...\n",
      "feature count:  33\n"
     ]
    }
   ],
   "source": [
    "# iterate over available layers\n",
    "for i in range(wfs_ds.GetLayerCount()):\n",
    "    layer = wfs_ds.GetLayerByIndex(i)\n",
    "    srs = layer.GetSpatialRef()\n",
    "    print ('Layer: %s, Features: %s, SR: %s...' % (layer.GetName(), layer.GetFeatureCount(), srs.ExportToWkt()[0:50]))\n",
    "\n",
    "    # iterate over features\n",
    "    #fcount = 1\n",
    "    #feat = layer.GetNextFeature()\n",
    "    #while feat is not None:\n",
    "    #    feat = layer.GetNextFeature()\n",
    "    #    fcount = fcount + 1\n",
    "        # do something more..\n",
    "    #feat = None\n",
    "    print ('feature count: ',layer.GetFeatureCount())"
   ]
  },
  {
   "cell_type": "markdown",
   "metadata": {},
   "source": [
    "#gdal call to get the capabilities document\n",
    "caps=wfs_ds.GetLayerByName('WFSGetCapabilities')\n",
    "#print the number of feature types reported in the capabilities document\n",
    "print(caps.GetFeatureCount())\n",
    "\n",
    "for feat in caps:\n",
    "    jsonwrap= json.loads(feat.ExportToJson())\n",
    "    \n",
    "capsxml=jsonwrap['properties']['content']\n",
    "capsjson=xmltodict.parse(capsxml)\n",
    "capsjson=json.dumps(capsjson, indent=2)\n",
    "#print(capsjson)"
   ]
  },
  {
   "cell_type": "markdown",
   "metadata": {},
   "source": [
    "Want to let user pick the layer to work with."
   ]
  },
  {
   "cell_type": "code",
   "execution_count": 11,
   "metadata": {},
   "outputs": [
    {
     "data": {
      "application/vnd.jupyter.widget-view+json": {
       "model_id": "161776d2b09044b29fcfc564265b5471",
       "version_major": 2,
       "version_minor": 0
      },
      "text/plain": [
       "interactive(children=(Dropdown(description='feat_menu', options=('HS-c8427d7a30f0440b9773d17b7369fb69:watershe…"
      ]
     },
     "metadata": {},
     "output_type": "display_data"
    }
   ],
   "source": [
    "\n",
    "feat_list={}\n",
    "for i in range(wfs_ds.GetLayerCount()):\n",
    "    layer = wfs_ds.GetLayerByIndex(i)\n",
    "    feat_list[layer.GetName()] = layer.GetName()\n",
    "\n",
    "\n",
    "def f(feat_menu):\n",
    "    return feat_menu\n",
    "# out = interact(f, feat_menu=nb_menu);\n",
    "out = interact(f, feat_menu=feat_list.keys());\n",
    "\n",
    "#print(\"interact out: \", out)"
   ]
  },
  {
   "cell_type": "code",
   "execution_count": 12,
   "metadata": {},
   "outputs": [
    {
     "name": "stdout",
     "output_type": "stream",
     "text": [
      "chosen layer: HS-c8427d7a30f0440b9773d17b7369fb69:watersheds\n"
     ]
    }
   ],
   "source": [
    "# Get a specific layer\n",
    "\n",
    "chosenlayer= feat_list[out.widget.result]\n",
    "if len(chosenlayer)==0:\n",
    "    chosenlayer=wfs_ds.GetLayerByIndex(1).GetName()\n",
    "\n",
    "layer = wfs_ds.GetLayerByName(chosenlayer)\n",
    "\n",
    "print('chosen layer:',chosenlayer)\n",
    "\n",
    "if not layer:\n",
    "    sys.exit('ERROR: can not find layer in service')\n",
    "else:\n",
    "    pass"
   ]
  },
  {
   "cell_type": "code",
   "execution_count": 13,
   "metadata": {},
   "outputs": [
    {
     "data": {
      "text/plain": [
       "33"
      ]
     },
     "execution_count": 13,
     "metadata": {},
     "output_type": "execute_result"
    }
   ],
   "source": [
    "layer.GetFeatureCount()"
   ]
  },
  {
   "cell_type": "code",
   "execution_count": 36,
   "metadata": {},
   "outputs": [
    {
     "name": "stdout",
     "output_type": "stream",
     "text": [
      "feature count:  33\n",
      "['MULTISURFACE', 'Replace MULTISURFACE with bounding box']\n",
      "Dataframe size: 231\n",
      "       type  id geometry.type  \\\n",
      "0   Feature   1       Polygon   \n",
      "1   Feature  10       Polygon   \n",
      "2   Feature  11       Polygon   \n",
      "3   Feature  12       Polygon   \n",
      "4   Feature  13       Polygon   \n",
      "5   Feature  14       Polygon   \n",
      "6   Feature  15       Polygon   \n",
      "7   Feature  16       Polygon   \n",
      "8   Feature  17       Polygon   \n",
      "9   Feature  18       Polygon   \n",
      "10  Feature  19       Polygon   \n",
      "11  Feature   2       Polygon   \n",
      "12  Feature  20       Polygon   \n",
      "13  Feature  21       Polygon   \n",
      "14  Feature  22       Polygon   \n",
      "15  Feature  23       Polygon   \n",
      "16  Feature  24       Polygon   \n",
      "17  Feature  25       Polygon   \n",
      "18  Feature  26       Polygon   \n",
      "19  Feature  27       Polygon   \n",
      "20  Feature  28       Polygon   \n",
      "21  Feature  29       Polygon   \n",
      "22  Feature   3       Polygon   \n",
      "23  Feature  30       Polygon   \n",
      "24  Feature  31       Polygon   \n",
      "25  Feature  32       Polygon   \n",
      "26  Feature  33       Polygon   \n",
      "27  Feature   4       Polygon   \n",
      "28  Feature   5       Polygon   \n",
      "29  Feature   6       Polygon   \n",
      "30  Feature   7       Polygon   \n",
      "31  Feature   8       Polygon   \n",
      "32  Feature   9       Polygon   \n",
      "\n",
      "                                 geometry.coordinates properties.gml_id  \\\n",
      "0   [[[-71.21578796, 19.51079954, 0.0], [-70.88448...      watersheds.1   \n",
      "1   [[[-71.42167033, 19.30280017, 0.0], [-71.27616...     watersheds.10   \n",
      "2   [[[-71.09176536, 19.51321012, 0.0], [-70.98336...     watersheds.11   \n",
      "3   [[[-71.22228232, 19.38584708, 0.0], [-71.14603...     watersheds.12   \n",
      "4   [[[-71.16392062, 19.44745243, 0.0], [-71.03385...     watersheds.13   \n",
      "5   [[[-71.16512865, 19.33959823, 0.0], [-71.04383...     watersheds.14   \n",
      "6   [[[-70.8839439, 19.33130061, 0.0], [-70.572161...     watersheds.15   \n",
      "7   [[[-71.56822091, 19.25874783, 0.0], [-71.35130...     watersheds.16   \n",
      "8   [[[-71.31276992, 19.28639502, 0.0], [-71.10118...     watersheds.17   \n",
      "9   [[[-71.21955103, 19.15133118, 0.0], [-71.08584...     watersheds.18   \n",
      "10  [[[-70.76824103, 19.28308169, 0.0], [-70.66646...     watersheds.19   \n",
      "11  [[[-71.5025037, 19.60481852, 0.0], [-71.425118...      watersheds.2   \n",
      "12  [[[-70.99158939, 19.1159263, 0.0], [-70.730155...     watersheds.20   \n",
      "13  [[[-71.13688081, 19.15828185, 0.0], [-70.90681...     watersheds.21   \n",
      "14  [[[-71.44161073, 19.16953382, 0.0], [-71.24824...     watersheds.22   \n",
      "15  [[[-71.29001196, 19.17261604, 0.0], [-71.19715...     watersheds.23   \n",
      "16  [[[-70.73877082, 19.16714279, 0.0], [-70.63118...     watersheds.24   \n",
      "17  [[[-70.8408383, 19.1040285, 0.0], [-70.6992681...     watersheds.25   \n",
      "18  [[[-70.82129526, 19.15133484, 0.0], [-70.74116...     watersheds.26   \n",
      "19  [[[-70.74209055, 18.98373015, 0.0], [-70.59291...     watersheds.27   \n",
      "20  [[[-71.17853848, 19.02216151, 0.0], [-70.93610...     watersheds.28   \n",
      "21  [[[-70.94584442, 19.09170303, 0.0], [-70.80351...     watersheds.29   \n",
      "22  [[[-71.53449189, 19.55717205, 0.0], [-71.45044...      watersheds.3   \n",
      "23  [[[-70.7733901, 19.09557495, 0.0], [-70.708103...     watersheds.30   \n",
      "24  [[[-70.84750939, 18.97605375, 0.0], [-70.64857...     watersheds.31   \n",
      "25  [[[-70.95926544, 18.99200857, 0.0], [-70.81148...     watersheds.32   \n",
      "26  [[[-70.68764931, 18.92295795, 0.0], [-70.51331...     watersheds.33   \n",
      "27  [[[-71.46386968, 19.54280998, 0.0], [-71.32680...      watersheds.4   \n",
      "28  [[[-71.09769175, 19.31854847, 0.0], [-70.86271...      watersheds.5   \n",
      "29  [[[-70.99457644, 19.43062583, 0.0], [-70.68122...      watersheds.6   \n",
      "30  [[[-71.54680982, 19.41671027, 0.0], [-71.41093...      watersheds.7   \n",
      "31  [[[-71.625011, 19.36771786, 0.0], [-71.4785661...      watersheds.8   \n",
      "32  [[[-71.33628408, 19.35082835, 0.0], [-71.20196...      watersheds.9   \n",
      "\n",
      "                     properties.id  properties.cat_id  \n",
      "0           R. Yaque antes de Cana           20000011  \n",
      "1      R. GuayubÃ­n hasta Aminilla           20000020  \n",
      "2            EH. Puente San Rafael           20000021  \n",
      "3                          JaibÃ³n           20000022  \n",
      "4                              Mao           20000023  \n",
      "5                      E. MonciÃ³n           20000024  \n",
      "6       Santiago de los Caballeros           20000025  \n",
      "7       R. Yaguajal - R. GuayubÃ­n           20000026  \n",
      "8                           E. Mao           20000027  \n",
      "9            R. Magua hasta e. Mao           20000028  \n",
      "10             E. LÃ³pez Angostura           20000029  \n",
      "11                    CastaÃ±uelas           20000012  \n",
      "12                          E. Bao           20000030  \n",
      "13                        EH. Inoa           20000031  \n",
      "14                 R. Mao - Cenovi           20000032  \n",
      "15              R. Cenovi - R. Mao           20000033  \n",
      "16                       E. Tavera           20000034  \n",
      "17           R. Guanajuma - E. Bao           20000035  \n",
      "18                  EH Los Pilones           20000036  \n",
      "19                         EH Boma           20000037  \n",
      "20                 EH. Mata Grande           20000038  \n",
      "21                   EH El Higuero           20000039  \n",
      "22                      E. Maguaca           20000013  \n",
      "23                  EH. El Cerrazo           20000040  \n",
      "24                        Jaracoba           20000041  \n",
      "25                EH. La Fortaleza           20000042  \n",
      "26           R. Jimenoa - Jaracoba           20000043  \n",
      "27  R. GuayubÃ­n - Yaque del Norte           20000014  \n",
      "28   R. Amina - R. Yaque del Norte           20000015  \n",
      "29                    EH. Sabaneta           20000016  \n",
      "30       R. Aminilla - R. YanubÃ­n           20000017  \n",
      "31                      E. Chacuey           20000018  \n",
      "32    R. Cana - R. Yaque del Norte           20000019  \n",
      "done timed cell, 33 features in result set\n",
      "Wall time: 1.56 s\n"
     ]
    }
   ],
   "source": [
    "%%time\n",
    "count = 0\n",
    "tdata = []\n",
    "\n",
    "geometries=[]\n",
    "\n",
    "print ('feature count: ', layer.GetFeatureCount())\n",
    "\n",
    "if (layer.GetFeatureCount()>0):\n",
    "#    feat=layer.GetFeature(1)\n",
    "#    print(feat)\n",
    "\n",
    "    for feat in layer:\n",
    "        thisgeom = feat.geometry().GetGeometryName()\n",
    "\n",
    "        if (thisgeom not in geometries):\n",
    "            geometries.append(thisgeom)\n",
    "        #ExportToJson doesn't work with some geometries (e.g .MULTISURFACE(??), \n",
    "        # in that case, replace with bounding box     \n",
    "        try:\n",
    "            temp=feat.ExportToJson()\n",
    "        except:\n",
    "            msenvelope=the_envelope( feat.geometry())\n",
    "            #print('BoundingBox: %s' % msenvelope)\n",
    "            thenote = 'Replace '+ thisgeom + ' with bounding box'\n",
    "            if (thenote not in geometries):\n",
    "                geometries.append(thenote)\n",
    "            feat.SetGeometry(msenvelope)\n",
    "        tdata.append(json.loads(feat.ExportToJson()))\n",
    "        #feat = layer.GetNextFeature()\n",
    "        count = count + 1\n",
    "        #avoid getting hung on very long responses, maxsfeatures set in imports cell at top of notebook\n",
    "        if count > maxfeatures:\n",
    "            break\n",
    "feat = None\n",
    "print (geometries)\n",
    "\n",
    "#print (tdata)\n",
    "dataframe=json_normalize(tdata)\n",
    "print('Dataframe size:',dataframe.size)\n",
    "\n",
    "#print(dataframe)\n",
    "print('done timed cell, %s features in result set' % count)"
   ]
  },
  {
   "cell_type": "markdown",
   "metadata": {},
   "source": [
    "Now get a list of the attributes of the feature type"
   ]
  },
  {
   "cell_type": "markdown",
   "metadata": {},
   "source": [
    "Do some data summarization with pandas"
   ]
  },
  {
   "cell_type": "markdown",
   "metadata": {},
   "source": [
    "#easy pandas way to get the field types\n",
    "#dataframe.dtypes"
   ]
  },
  {
   "cell_type": "code",
   "execution_count": 37,
   "metadata": {},
   "outputs": [
    {
     "name": "stdout",
     "output_type": "stream",
     "text": [
      "type                    object\n",
      "id                       int64\n",
      "geometry.type           object\n",
      "geometry.coordinates    object\n",
      "properties.gml_id       object\n",
      "properties.id           object\n",
      "properties.cat_id        int64\n",
      "dtype: object\n",
      "col: geometry.type, field: type\n",
      "type has no ogr definition\n",
      "col: geometry.coordinates, field: coordinates\n",
      "coordinates has no ogr definition\n",
      "col: properties.gml_id, field: gml_id\n",
      "gml_id - String 0 0\n",
      "col: properties.id, field: id\n",
      "id - String 0 0\n",
      "col: properties.cat_id, field: cat_id\n",
      "cat_id - Integer64 0 0\n"
     ]
    }
   ],
   "source": [
    "lyrDefn = layer.GetLayerDefn()\n",
    "\n",
    "print(dataframe.dtypes)\n",
    "\n",
    "for col in dataframe.columns:\n",
    "    if (col.find('.')>-1):\n",
    "        field=str(col.split('.')[1])\n",
    "        print('col: %s, field: %s' % (col, field))\n",
    "        fielddef = lyrDefn.GetFieldDefn(lyrDefn.GetFieldIndex(field))\n",
    "        if (fielddef is not None):\n",
    "            fieldTypeCode = fielddef.GetType()\n",
    "            fieldType = fielddef.GetFieldTypeName(fieldTypeCode)\n",
    "            fieldWidth = fielddef.GetWidth()\n",
    "            GetPrecision = fielddef.GetPrecision()       \n",
    "            print (field + \" - \" + fieldType+ \" \" + str(fieldWidth) + \" \" + str(GetPrecision))\n",
    "        else:\n",
    "            print(field + ' has no ogr definition')\n",
    "\n",
    "            \n",
    "def findfieldtype(pcol):\n",
    "    if (pcol.find('.')>-1):\n",
    "        field=str(pcol.split('.')[1])\n",
    "    else:\n",
    "        field=str(pcol)\n",
    "    fielddef = lyrDefn.GetFieldDefn(lyrDefn.GetFieldIndex(field))\n",
    "    if (fielddef is not None):\n",
    "        thetype= fielddef.GetFieldTypeName(fielddef.GetType())\n",
    "    else:\n",
    "        thetype='xxxx'\n",
    "    return thetype"
   ]
  },
  {
   "cell_type": "code",
   "execution_count": 38,
   "metadata": {},
   "outputs": [
    {
     "name": "stdout",
     "output_type": "stream",
     "text": [
      "33 features analyzed.\n",
      "Geometres found: ['MULTISURFACE', 'Replace MULTISURFACE with bounding box']\n",
      "id is a text field, all values are unique\n",
      "\n",
      "\n",
      "gml_id is a text field, all values are unique\n",
      "\n",
      "\n",
      "id is a text field, all values are unique\n",
      "\n",
      "\n",
      "field:cat_id, count:33: max:20000043.00; min:20000011.00 \n",
      "\n",
      "\n",
      "The following fields contain no data:\n",
      "[]\n"
     ]
    }
   ],
   "source": [
    "print('%s features analyzed.' % len(dataframe.index))\n",
    "\n",
    "print('Geometres found: %s' % geometries)\n",
    "\n",
    "for col in dataframe.columns:\n",
    "    #print(col)\n",
    "    if (col.find('.')>-1):\n",
    "        colname=str(col.split('.')[1])\n",
    "    else:\n",
    "        colname=str(col)\n",
    "        \n",
    "    if (dataframe[col].count() > 0) and  (dataframe[col].dtype=='float64'):\n",
    "        mean=dataframe[col].mean()\n",
    "        max=dataframe[col].max()\n",
    "        min=dataframe[col].min()\n",
    "        print('field:%s, count:%s, mean:%s; max:%s; min:%s \\n' \n",
    "              % (colname, dataframe[col].count(), \"{:.2f}\".format(mean), \n",
    "                 \"{:.2f}\".format(max), \"{:.2f}\".format(min)))\n",
    "    \n",
    "    if (dataframe[col].count() > 0) and  (findfieldtype(col).find('Integer')>-1):\n",
    "        max=dataframe[col].max()\n",
    "        min=dataframe[col].min()\n",
    "        print('field:%s, count:%s: max:%s; min:%s \\n' \n",
    "              % (colname, dataframe[col].count(),  \n",
    "                 \"{:.2f}\".format(max), \"{:.2f}\".format(min)))\n",
    "    \n",
    "    if (dataframe[col].count() > 0) and  (findfieldtype(col)=='String'):\n",
    "        # and  (type(dataframe[col][1])=='str')\n",
    "        #for item in dataframe[col].unique():\n",
    "        #    print (item)\n",
    "        #print (type(dataframe[col][1]))\n",
    "        if len(dataframe.index)==len(dataframe[col].unique()):\n",
    "            print(colname + ' is a text field, all values are unique')\n",
    "\n",
    "        elif (len(dataframe[col].unique()) > 50):\n",
    "            print(colname + ' appears to be a free text field, there are ' + str(len(dataframe[col].unique())) + ' unique values.' )\n",
    "\n",
    "        else:\n",
    "            print (colname +' has '+ str(len(dataframe[col].unique())) + ' unique values.') \n",
    "            print(dataframe[col].value_counts())\n",
    "            \n",
    "        print('\\n')\n",
    " \n",
    "emptyfields = []\n",
    "print('\\nThe following fields contain no data:')\n",
    "for col in dataframe.columns:            \n",
    "    if (dataframe[col].count() == 0):\n",
    "        emptyfields.append(str(col.split('.')[1]))       \n",
    "print(emptyfields)\n",
    "        "
   ]
  },
  {
   "cell_type": "code",
   "execution_count": 39,
   "metadata": {},
   "outputs": [
    {
     "data": {
      "text/html": [
       "<div>\n",
       "<style scoped>\n",
       "    .dataframe tbody tr th:only-of-type {\n",
       "        vertical-align: middle;\n",
       "    }\n",
       "\n",
       "    .dataframe tbody tr th {\n",
       "        vertical-align: top;\n",
       "    }\n",
       "\n",
       "    .dataframe thead th {\n",
       "        text-align: right;\n",
       "    }\n",
       "</style>\n",
       "<table border=\"1\" class=\"dataframe\">\n",
       "  <thead>\n",
       "    <tr style=\"text-align: right;\">\n",
       "      <th></th>\n",
       "      <th>id</th>\n",
       "      <th>properties.cat_id</th>\n",
       "    </tr>\n",
       "  </thead>\n",
       "  <tbody>\n",
       "    <tr>\n",
       "      <th>count</th>\n",
       "      <td>33.00000</td>\n",
       "      <td>3.300000e+01</td>\n",
       "    </tr>\n",
       "    <tr>\n",
       "      <th>mean</th>\n",
       "      <td>17.00000</td>\n",
       "      <td>2.000003e+07</td>\n",
       "    </tr>\n",
       "    <tr>\n",
       "      <th>std</th>\n",
       "      <td>9.66954</td>\n",
       "      <td>9.669540e+00</td>\n",
       "    </tr>\n",
       "    <tr>\n",
       "      <th>min</th>\n",
       "      <td>1.00000</td>\n",
       "      <td>2.000001e+07</td>\n",
       "    </tr>\n",
       "    <tr>\n",
       "      <th>25%</th>\n",
       "      <td>9.00000</td>\n",
       "      <td>2.000002e+07</td>\n",
       "    </tr>\n",
       "    <tr>\n",
       "      <th>50%</th>\n",
       "      <td>17.00000</td>\n",
       "      <td>2.000003e+07</td>\n",
       "    </tr>\n",
       "    <tr>\n",
       "      <th>75%</th>\n",
       "      <td>25.00000</td>\n",
       "      <td>2.000004e+07</td>\n",
       "    </tr>\n",
       "    <tr>\n",
       "      <th>max</th>\n",
       "      <td>33.00000</td>\n",
       "      <td>2.000004e+07</td>\n",
       "    </tr>\n",
       "  </tbody>\n",
       "</table>\n",
       "</div>"
      ],
      "text/plain": [
       "             id  properties.cat_id\n",
       "count  33.00000       3.300000e+01\n",
       "mean   17.00000       2.000003e+07\n",
       "std     9.66954       9.669540e+00\n",
       "min     1.00000       2.000001e+07\n",
       "25%     9.00000       2.000002e+07\n",
       "50%    17.00000       2.000003e+07\n",
       "75%    25.00000       2.000004e+07\n",
       "max    33.00000       2.000004e+07"
      ]
     },
     "execution_count": 39,
     "metadata": {},
     "output_type": "execute_result"
    }
   ],
   "source": [
    " dataframe.describe()\n"
   ]
  },
  {
   "cell_type": "code",
   "execution_count": null,
   "metadata": {},
   "outputs": [],
   "source": []
  }
 ],
 "metadata": {
  "kernelspec": {
   "display_name": "Python 3 (ipykernel)",
   "language": "python",
   "name": "python3"
  },
  "language_info": {
   "codemirror_mode": {
    "name": "ipython",
    "version": 3
   },
   "file_extension": ".py",
   "mimetype": "text/x-python",
   "name": "python",
   "nbconvert_exporter": "python",
   "pygments_lexer": "ipython3",
   "version": "3.9.7"
  },
  "toc": {
   "base_numbering": 1,
   "nav_menu": {},
   "number_sections": true,
   "sideBar": true,
   "skip_h1_title": false,
   "title_cell": "Table of Contents",
   "title_sidebar": "Contents",
   "toc_cell": false,
   "toc_position": {},
   "toc_section_display": true,
   "toc_window_display": false
  }
 },
 "nbformat": 4,
 "nbformat_minor": 4
}
