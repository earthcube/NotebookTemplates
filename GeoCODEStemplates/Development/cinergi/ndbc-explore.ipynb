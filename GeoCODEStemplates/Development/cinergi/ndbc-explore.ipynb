{
 "cells": [
  {
   "cell_type": "markdown",
   "metadata": {},
   "source": [
    "## NDBC-Explore \n",
    "\n",
    "This notebook will:\n",
    " - request metadata about an NDBC station registered in DDS, \n",
    " - list datasets associated with this station and allow you to select one of them, \n",
    " - show dataset variables with a count of non-missing records\n",
    " - let you chose a variable to plot\n",
    " - optionally, generate a SuAVE (suave.sdsc.edu) visualization for the dataset\n",
    " \n",
    "## Run the cells in sequence to select dataset and variables to plot for the selected station"
   ]
  },
  {
   "cell_type": "markdown",
   "metadata": {},
   "source": [
    "### 1. Accept document ID from DDS"
   ]
  },
  {
   "cell_type": "code",
   "execution_count": 3,
   "metadata": {},
   "outputs": [],
   "source": [
    "import pandas as pd\n",
    "import numpy as np\n",
    "import datetime as dt\n",
    "import matplotlib.pyplot as plt\n",
    "import matplotlib.patches as mpatches\n",
    "import matplotlib.dates as mdates\n",
    "import urllib.request, json\n",
    "import helpers\n",
    "from datetime import datetime, date, time\n",
    "from ipywidgets import widgets  \n",
    "from IPython import get_ipython\n",
    "from IPython.display import display\n",
    "from matplotlib import pylab\n",
    "from pylab import *\n",
    "from IPython.display import clear_output"
   ]
  },
  {
   "cell_type": "code",
   "execution_count": 4,
   "metadata": {
    "tags": []
   },
   "outputs": [
    {
     "data": {
      "application/javascript": [
       "function getQueryStringValue (key){  \n",
       "    return unescape(window.location.search.replace(new RegExp(\"^(?:.*[&\\\\?]\" + escape(key).replace(/[\\.\\+\\*]/g, \"\\\\$&\") + \"(?:\\\\=([^&]*))?)?.*$\", \"i\"), \"$1\"));\n",
       "}\n",
       "IPython.notebook.kernel.execute(\"docID='\".concat(getQueryStringValue(\"documentId\")).concat(\"'\"));\n"
      ],
      "text/plain": [
       "<IPython.core.display.Javascript object>"
      ]
     },
     "metadata": {},
     "output_type": "display_data"
    }
   ],
   "source": [
    "%%javascript\n",
    "function getQueryStringValue (key){  \n",
    "    return unescape(window.location.search.replace(new RegExp(\"^(?:.*[&\\\\?]\" + escape(key).replace(/[\\.\\+\\*]/g, \"\\\\$&\") + \"(?:\\\\=([^&]*))?)?.*$\", \"i\"), \"$1\"));\n",
    "}\n",
    "IPython.notebook.kernel.execute(\"docID='\".concat(getQueryStringValue(\"documentId\")).concat(\"'\"));"
   ]
  },
  {
   "cell_type": "markdown",
   "metadata": {},
   "source": [
    "### 2. Retrieve metadata for this document and list associated datasets"
   ]
  },
  {
   "cell_type": "code",
   "execution_count": 5,
   "metadata": {},
   "outputs": [
    {
     "ename": "NameError",
     "evalue": "name 'docID' is not defined",
     "output_type": "error",
     "traceback": [
      "\u001b[1;31m---------------------------------------------------------------------------\u001b[0m",
      "\u001b[1;31mNameError\u001b[0m                                 Traceback (most recent call last)",
      "\u001b[1;32m<ipython-input-5-2519f73a6340>\u001b[0m in \u001b[0;36m<module>\u001b[1;34m\u001b[0m\n\u001b[0;32m      4\u001b[0m \u001b[1;33m\u001b[0m\u001b[0m\n\u001b[0;32m      5\u001b[0m \u001b[1;31m#construct url from variable\u001b[0m\u001b[1;33m\u001b[0m\u001b[1;33m\u001b[0m\u001b[1;33m\u001b[0m\u001b[0m\n\u001b[1;32m----> 6\u001b[1;33m \u001b[0mcinergi_url\u001b[0m \u001b[1;33m=\u001b[0m \u001b[1;34m\"http://cinergi.sdsc.edu/geoportal/rest/metadata/item/\"\u001b[0m \u001b[1;33m+\u001b[0m \u001b[0mdocID\u001b[0m\u001b[1;33m\u001b[0m\u001b[1;33m\u001b[0m\u001b[0m\n\u001b[0m\u001b[0;32m      7\u001b[0m \u001b[1;33m\u001b[0m\u001b[0m\n\u001b[0;32m      8\u001b[0m \u001b[1;31m#Create dropdown Buttons and generate table\u001b[0m\u001b[1;33m\u001b[0m\u001b[1;33m\u001b[0m\u001b[1;33m\u001b[0m\u001b[0m\n",
      "\u001b[1;31mNameError\u001b[0m: name 'docID' is not defined"
     ]
    }
   ],
   "source": [
    "from __future__ import print_function\n",
    "from ipywidgets import interact, interactive, fixed, interact_manual\n",
    "import ipywidgets as widgets\n",
    "\n",
    "#construct url from variable\n",
    "cinergi_url = \"http://cinergi.sdsc.edu/geoportal/rest/metadata/item/\" + docID\n",
    "\n",
    "#Create dropdown Buttons and generate table\n",
    "data_dropdown_options = helpers.create_dropdown_data (cinergi_url)\n",
    "#Create widget with dropdown options from list created above\n",
    "def f(datasets):\n",
    "    return datasets\n",
    "# out = interact(f, notebooks_menu=nb_menu);\n",
    "out = interact(f, datasets=data_dropdown_options.keys());\n"
   ]
  },
  {
   "cell_type": "markdown",
   "metadata": {},
   "source": [
    "### 3. Get the selected dataset and prepare it for mapping; generate a list of variables in the dataset with counts of measured (not missing) values"
   ]
  },
  {
   "cell_type": "code",
   "execution_count": null,
   "metadata": {},
   "outputs": [],
   "source": [
    "chosen_url = data_dropdown_options[out.widget.result]\n",
    "data = helpers.create_data_from_urls([chosen_url])\n",
    "\n",
    "# Create Key Values for graph.\n",
    "graphKeyVals = []\n",
    "\n",
    "#Run all operations on Data\n",
    "for i in range(len(data)):\n",
    "    data[i].fillna('')\n",
    "    data[i] = helpers.simplify_column_names(data[i])\n",
    "    data[i] = helpers.createDateTime(data[i])\n",
    "    graphKeyVals.append( data[i]['date_time'][0].year)\n",
    "    data[i]['date_time']= data[i]['date_time'].apply(lambda x: x.replace(year= 2012))\n",
    "#Create dropdown Buttons and generate table\n",
    "dropdown_options = helpers.create_dropdowns(data)\n",
    "dropdown_options.append('Choose Variable')"
   ]
  },
  {
   "cell_type": "markdown",
   "metadata": {},
   "source": [
    "### 4. Select a variable for charting. Re-run this cell to chart other variables."
   ]
  },
  {
   "cell_type": "code",
   "execution_count": null,
   "metadata": {},
   "outputs": [],
   "source": [
    "# Example plot of the image based on values of WTMP (Can be changed to other variables)\n",
    "# rerun this cell if need to plot other variables\n",
    "\n",
    "#Create widget with dropdown options from list created above\n",
    "w = widgets.Dropdown(\n",
    "    options=dropdown_options,\n",
    "    description='Number:',\n",
    "    disabled=False,\n",
    "    value = \"Choose Variable\"\n",
    ")\n",
    "\n",
    "#Describe what happens when the button changes its value\n",
    "def on_change(change):\n",
    "    if change['type'] == 'change' and change['name'] == 'value':\n",
    "        clear_output()\n",
    "        %pylab inline\n",
    "        pylab.rcParams['figure.figsize'] = (25, 15)\n",
    "        helpers.plotTimeSeriesData(data,change['new'],graphKeyVals)\n",
    "\n",
    "w.observe(on_change)\n",
    "display(w)"
   ]
  },
  {
   "cell_type": "code",
   "execution_count": null,
   "metadata": {},
   "outputs": [],
   "source": [
    "# TODO: submit usage metadata back to DDH\n"
   ]
  },
  {
   "cell_type": "markdown",
   "metadata": {},
   "source": [
    "### 5. Generate a SuAVE survey with the retrieved data?\n",
    "The survey will be created on suave-dev.sdsc.edu. You need to create a SuAVE account to manage this survey"
   ]
  },
  {
   "cell_type": "code",
   "execution_count": null,
   "metadata": {},
   "outputs": [],
   "source": [
    "#do you want to show it in Suave\n",
    "suave_dict = {\n",
    "    'Yes': 1,\n",
    "    'No': 0,\n",
    "}\n",
    "\n",
    "def f(suave_menu):\n",
    "    return suave_menu\n",
    "\n",
    "suave_interact_out = interact(f, suave_menu=suave_dict)\n",
    "\n",
    "print(\"Do you want to send this dataframe to SuAVE?\")"
   ]
  },
  {
   "cell_type": "markdown",
   "metadata": {},
   "source": [
    "### 6. Enter a name of the SuAVE survey"
   ]
  },
  {
   "cell_type": "code",
   "execution_count": null,
   "metadata": {},
   "outputs": [],
   "source": [
    "if (suave_interact_out.widget.result == 1):\n",
    "\n",
    "    from IPython.display import display\n",
    "    input_survey_text = widgets.Text()\n",
    "    output_survey_text = widgets.Text()\n",
    "\n",
    "\n",
    "    def bind_input_to_output(sender):\n",
    "        output_survey_text.value = input_survey_text.value\n",
    "\n",
    "    # Tell the text input widget to call bind_input_to_output() on submit\n",
    "    input_survey_text.observe(bind_input_to_output)\n",
    "\n",
    "    print(\"Input survey name here:\")\n",
    "    # Display input text box widget for input\n",
    "    display(input_survey_text)\n",
    "\n",
    "    display(output_survey_text)"
   ]
  },
  {
   "cell_type": "markdown",
   "metadata": {},
   "source": [
    "### 7. Enter your SuAVE user name (the survey will be created in your account)"
   ]
  },
  {
   "cell_type": "code",
   "execution_count": null,
   "metadata": {},
   "outputs": [],
   "source": [
    "if (suave_interact_out.widget.result == 1):\n",
    "\n",
    "    input_user_text = widgets.Text()\n",
    "    output_user_text = widgets.Text()\n",
    "\n",
    "    def bind_input_to_output(sender):\n",
    "        output_user_text.value = input_user_text.value\n",
    "    \n",
    "    input_user_text.observe(bind_input_to_output)\n",
    "\n",
    "    print(\"Insert user name here:\")\n",
    "    display(input_user_text)\n",
    "    display(output_user_text)"
   ]
  },
  {
   "cell_type": "markdown",
   "metadata": {},
   "source": [
    "### 8. Generate the survey with the specified parameters"
   ]
  },
  {
   "cell_type": "code",
   "execution_count": null,
   "metadata": {},
   "outputs": [],
   "source": [
    "import requests\n",
    "import os\n",
    "import re\n",
    "if (suave_interact_out.widget.result == 1):\n",
    "\n",
    "    survey_name = output_survey_text.value\n",
    "    user_name = output_user_text.value\n",
    "\n",
    "    new_file_path = os.path.join(\"../../temp_csvs\", survey_name + \".csv\")\n",
    "    \n",
    "    new_data = data[0]\n",
    "    new_data.dropna(axis=1, how='all', inplace=True)\n",
    "\n",
    "    new_data = new_data.where((pd.notnull(new_data)), '')\n",
    "    new_data.columns = [str(col) + '#number' for col in new_data.columns]\n",
    "\n",
    "    \n",
    "    \n",
    "    csv_file = new_data.to_csv(new_file_path, index=None)\n",
    "    upload_url = \"http://suave-dev.sdsc.edu:3001/uploadCSV\"\n",
    "    new_survey_url_base = \"https://suave-dev.sdsc.edu/main/file=\"\n",
    "    \n",
    "\n",
    "    upload_data = {'name':survey_name, 'dzc':'' ,'user':user_name}\n",
    "    files = {\"file\": open(new_file_path, \"rb\")}\n",
    "    r = requests.post(upload_url, files=files, data=upload_data)\n",
    "    print(r.status_code, r.reason)\n",
    "\n",
    "    regex = re.compile('[^0-9a-zA-Z_]')\n",
    "\n",
    "    url = new_survey_url_base + user_name + \"_\" + survey_name + \".csv\" + \"&views=1110001&view=bucket\"\n",
    "    print(url)\n",
    "    print (\"Click the URL to open the new survey\")\n",
    "\n"
   ]
  }
 ],
 "metadata": {
  "kernelspec": {
   "display_name": "Python 3",
   "language": "python",
   "name": "python3"
  },
  "language_info": {
   "codemirror_mode": {
    "name": "ipython",
    "version": 3
   },
   "file_extension": ".py",
   "mimetype": "text/x-python",
   "name": "python",
   "nbconvert_exporter": "python",
   "pygments_lexer": "ipython3",
   "version": "3.8.8"
  }
 },
 "nbformat": 4,
 "nbformat_minor": 4
}
