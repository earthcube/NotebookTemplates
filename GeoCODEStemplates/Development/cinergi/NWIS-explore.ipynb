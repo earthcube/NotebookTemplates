{
 "cells": [
  {
   "cell_type": "code",
   "execution_count": 14,
   "metadata": {},
   "outputs": [
    {
     "data": {
      "application/javascript": [
       "function getQueryStringValue (key){  \n",
       "    return unescape(window.location.search.replace(new RegExp(\"^(?:.*[&\\\\?]\" + escape(key).replace(/[\\.\\+\\*]/g, \"\\\\$&\") + \"(?:\\\\=([^&]*))?)?.*$\", \"i\"), \"$1\"));\n",
       "}\n",
       "IPython.notebook.kernel.execute(\"docID='\".concat(getQueryStringValue(\"docID\")).concat(\"'\"));"
      ],
      "text/plain": [
       "<IPython.core.display.Javascript object>"
      ]
     },
     "metadata": {},
     "output_type": "display_data"
    }
   ],
   "source": [
    "%%javascript\n",
    "function getQueryStringValue (key){  \n",
    "    return unescape(window.location.search.replace(new RegExp(\"^(?:.*[&\\\\?]\" + escape(key).replace(/[\\.\\+\\*]/g, \"\\\\$&\") + \"(?:\\\\=([^&]*))?)?.*$\", \"i\"), \"$1\"));\n",
    "}\n",
    "IPython.notebook.kernel.execute(\"docID='\".concat(getQueryStringValue(\"docID\")).concat(\"'\"));"
   ]
  },
  {
   "cell_type": "code",
   "execution_count": 15,
   "metadata": {
    "collapsed": true,
    "jupyter": {
     "outputs_hidden": true
    }
   },
   "outputs": [],
   "source": [
    "import pandas as pd\n",
    "import numpy as np\n",
    "import datetime as dt\n",
    "import matplotlib.pyplot as plt\n",
    "import matplotlib.patches as mpatches\n",
    "import matplotlib.dates as mdates\n",
    "import urllib.request, json\n",
    "import urllib\n",
    "import helpers\n",
    "from datetime import datetime, date, time\n",
    "from ipywidgets import widgets  \n",
    "from IPython import get_ipython\n",
    "from IPython.display import display\n",
    "from matplotlib import pylab\n",
    "from pylab import *\n",
    "from IPython.display import clear_output\n",
    "import warnings"
   ]
  },
  {
   "cell_type": "markdown",
   "metadata": {},
   "source": [
    "# Select Notebook Data:"
   ]
  },
  {
   "cell_type": "code",
   "execution_count": 10,
   "metadata": {},
   "outputs": [
    {
     "data": {
      "application/vnd.jupyter.widget-view+json": {
       "model_id": "5d2e609297d44ffe866fc70322120d1d",
       "version_major": 2,
       "version_minor": 0
      },
      "text/plain": [
       "interactive(children=(Dropdown(description='notebooks_menu', options=('0. https://nwis.waterdata.usgs.gov/usa/…"
      ]
     },
     "metadata": {},
     "output_type": "display_data"
    }
   ],
   "source": [
    "from __future__ import print_function\n",
    "from ipywidgets import interact, interactive, fixed, interact_manual\n",
    "import ipywidgets as widgets\n",
    "\n",
    "#construct url from variable\n",
    "cinergi_url = \"http://cinergi.sdsc.edu/geoportal/rest/metadata/item/\" + docID\n",
    "\n",
    "#Create dropdown Buttons and generate table\n",
    "data_dropdown_options = helpers.create_dropdown_data (cinergi_url)\n",
    "#Create widget with dropdown options from list created above\n",
    "def f(notebooks_menu):\n",
    "    return notebooks_menu\n",
    "# out = interact(f, notebooks_menu=nb_menu);\n",
    "out = interact(f, notebooks_menu=data_dropdown_options.keys());\n",
    "warnings.simplefilter('ignore')"
   ]
  },
  {
   "cell_type": "markdown",
   "metadata": {},
   "source": [
    "# Prepare Data:"
   ]
  },
  {
   "cell_type": "code",
   "execution_count": 11,
   "metadata": {},
   "outputs": [
    {
     "name": "stdout",
     "output_type": "stream",
     "text": [
      "https://nwis.waterdata.usgs.gov/usa/nwis/qwdata/?site_no=07374510&agency_cd=USGS&inventory_output=0&rdb_inventory_output=file&TZoutput=0&pm_cd_compare=Greater%20than&radio_parm_cds=all_parm_cds&qw_attributes=0&format=rdb&qw_sample_wide=wide&rdb_qw_attributes=0&date_format=YYYY-MM-DD&rdb_compression=value&submitted_form=brief_list\n",
      "Downloading the dataset. Please wait...\n"
     ]
    }
   ],
   "source": [
    "#file = 'https://nwis.waterdata.usgs.gov/usa/nwis/qwdata/?site_no=07373420&agency_cd=USGS&inventory_output=0&rdb_inventory_output=file&TZoutput=0&pm_cd_compare=Greater%20than&radio_parm_cds=all_parm_cds&qw_attributes=0&format=rdb&qw_sample_wide=wide&rdb_qw_attributes=0&date_format=YYYY-MM-DD&rdb_compression=value&submitted_form=brief_list'\n",
    "file = data_dropdown_options[out.widget.result]\n",
    "print(file)\n",
    "print('Downloading the dataset. Please wait...')\n",
    "\n",
    "data = urllib.request.urlopen(file) # it's a file like object and works just like a file\n",
    "skipVal = 0\n",
    "for line in data:\n",
    "    strline = str(line)\n",
    "\n",
    "    if '#' in strline:\n",
    "        pass\n",
    "    else:\n",
    "        break\n",
    "    skipVal = skipVal + 1\n",
    "    \n",
    "global df\n",
    "df = pd.read_csv(file, sep='\\t',skiprows=range(0, skipVal),encoding='utf-8')\n",
    "df = df.drop(df.index[0])"
   ]
  },
  {
   "cell_type": "code",
   "execution_count": 12,
   "metadata": {},
   "outputs": [
    {
     "data": {
      "text/plain": [
       "'Number of variables in each column'"
      ]
     },
     "metadata": {},
     "output_type": "display_data"
    },
    {
     "data": {
      "text/html": [
       "<style  type=\"text/css\" >\n",
       "</style>  \n",
       "<table id=\"T_a01f1a1c_8559_11e8_a8b9_fa163ecfd129\" > \n",
       "<thead>    <tr> \n",
       "        <th class=\"blank level0\" ></th> \n",
       "        <th class=\"col_heading level0 col0\" >agency_cd</th> \n",
       "        <th class=\"col_heading level0 col1\" >site_no</th> \n",
       "        <th class=\"col_heading level0 col2\" >sample_dt</th> \n",
       "        <th class=\"col_heading level0 col3\" >sample_tm</th> \n",
       "        <th class=\"col_heading level0 col4\" >sample_end_dt</th> \n",
       "        <th class=\"col_heading level0 col5\" >sample_end_tm</th> \n",
       "        <th class=\"col_heading level0 col6\" >sample_start_time_datum_cd</th> \n",
       "        <th class=\"col_heading level0 col7\" >tm_datum_rlbty_cd</th> \n",
       "        <th class=\"col_heading level0 col8\" >coll_ent_cd</th> \n",
       "        <th class=\"col_heading level0 col9\" >medium_cd</th> \n",
       "        <th class=\"col_heading level0 col10\" >tu_id</th> \n",
       "        <th class=\"col_heading level0 col11\" >body_part_id</th> \n",
       "        <th class=\"col_heading level0 col12\" >p00028</th> \n",
       "        <th class=\"col_heading level0 col13\" >p00080</th> \n",
       "        <th class=\"col_heading level0 col14\" >p00191</th> \n",
       "        <th class=\"col_heading level0 col15\" >p00400</th> \n",
       "        <th class=\"col_heading level0 col16\" >p00405</th> \n",
       "        <th class=\"col_heading level0 col17\" >p00440</th> \n",
       "        <th class=\"col_heading level0 col18\" >p00445</th> \n",
       "        <th class=\"col_heading level0 col19\" >p00620</th> \n",
       "        <th class=\"col_heading level0 col20\" >p00650</th> \n",
       "        <th class=\"col_heading level0 col21\" >p00902</th> \n",
       "        <th class=\"col_heading level0 col22\" >p00916</th> \n",
       "        <th class=\"col_heading level0 col23\" >p00927</th> \n",
       "        <th class=\"col_heading level0 col24\" >p00933</th> \n",
       "        <th class=\"col_heading level0 col25\" >p00940</th> \n",
       "        <th class=\"col_heading level0 col26\" >p00945</th> \n",
       "        <th class=\"col_heading level0 col27\" >p00951</th> \n",
       "        <th class=\"col_heading level0 col28\" >p00955</th> \n",
       "        <th class=\"col_heading level0 col29\" >p70300</th> \n",
       "        <th class=\"col_heading level0 col30\" >p70303</th> \n",
       "        <th class=\"col_heading level0 col31\" >p71850</th> \n",
       "        <th class=\"col_heading level0 col32\" >p71885</th> \n",
       "        <th class=\"col_heading level0 col33\" >p90095</th> \n",
       "    </tr></thead> \n",
       "<tbody>    <tr> \n",
       "        <th id=\"T_a01f1a1c_8559_11e8_a8b9_fa163ecfd129level0_row0\" class=\"row_heading level0 row0\" >0</th> \n",
       "        <td id=\"T_a01f1a1c_8559_11e8_a8b9_fa163ecfd129row0_col0\" class=\"data row0 col0\" >5</td> \n",
       "        <td id=\"T_a01f1a1c_8559_11e8_a8b9_fa163ecfd129row0_col1\" class=\"data row0 col1\" >5</td> \n",
       "        <td id=\"T_a01f1a1c_8559_11e8_a8b9_fa163ecfd129row0_col2\" class=\"data row0 col2\" >5</td> \n",
       "        <td id=\"T_a01f1a1c_8559_11e8_a8b9_fa163ecfd129row0_col3\" class=\"data row0 col3\" >0</td> \n",
       "        <td id=\"T_a01f1a1c_8559_11e8_a8b9_fa163ecfd129row0_col4\" class=\"data row0 col4\" >0</td> \n",
       "        <td id=\"T_a01f1a1c_8559_11e8_a8b9_fa163ecfd129row0_col5\" class=\"data row0 col5\" >0</td> \n",
       "        <td id=\"T_a01f1a1c_8559_11e8_a8b9_fa163ecfd129row0_col6\" class=\"data row0 col6\" >5</td> \n",
       "        <td id=\"T_a01f1a1c_8559_11e8_a8b9_fa163ecfd129row0_col7\" class=\"data row0 col7\" >5</td> \n",
       "        <td id=\"T_a01f1a1c_8559_11e8_a8b9_fa163ecfd129row0_col8\" class=\"data row0 col8\" >5</td> \n",
       "        <td id=\"T_a01f1a1c_8559_11e8_a8b9_fa163ecfd129row0_col9\" class=\"data row0 col9\" >5</td> \n",
       "        <td id=\"T_a01f1a1c_8559_11e8_a8b9_fa163ecfd129row0_col10\" class=\"data row0 col10\" >0</td> \n",
       "        <td id=\"T_a01f1a1c_8559_11e8_a8b9_fa163ecfd129row0_col11\" class=\"data row0 col11\" >0</td> \n",
       "        <td id=\"T_a01f1a1c_8559_11e8_a8b9_fa163ecfd129row0_col12\" class=\"data row0 col12\" >5</td> \n",
       "        <td id=\"T_a01f1a1c_8559_11e8_a8b9_fa163ecfd129row0_col13\" class=\"data row0 col13\" >2</td> \n",
       "        <td id=\"T_a01f1a1c_8559_11e8_a8b9_fa163ecfd129row0_col14\" class=\"data row0 col14\" >5</td> \n",
       "        <td id=\"T_a01f1a1c_8559_11e8_a8b9_fa163ecfd129row0_col15\" class=\"data row0 col15\" >5</td> \n",
       "        <td id=\"T_a01f1a1c_8559_11e8_a8b9_fa163ecfd129row0_col16\" class=\"data row0 col16\" >5</td> \n",
       "        <td id=\"T_a01f1a1c_8559_11e8_a8b9_fa163ecfd129row0_col17\" class=\"data row0 col17\" >5</td> \n",
       "        <td id=\"T_a01f1a1c_8559_11e8_a8b9_fa163ecfd129row0_col18\" class=\"data row0 col18\" >5</td> \n",
       "        <td id=\"T_a01f1a1c_8559_11e8_a8b9_fa163ecfd129row0_col19\" class=\"data row0 col19\" >4</td> \n",
       "        <td id=\"T_a01f1a1c_8559_11e8_a8b9_fa163ecfd129row0_col20\" class=\"data row0 col20\" >1</td> \n",
       "        <td id=\"T_a01f1a1c_8559_11e8_a8b9_fa163ecfd129row0_col21\" class=\"data row0 col21\" >4</td> \n",
       "        <td id=\"T_a01f1a1c_8559_11e8_a8b9_fa163ecfd129row0_col22\" class=\"data row0 col22\" >4</td> \n",
       "        <td id=\"T_a01f1a1c_8559_11e8_a8b9_fa163ecfd129row0_col23\" class=\"data row0 col23\" >4</td> \n",
       "        <td id=\"T_a01f1a1c_8559_11e8_a8b9_fa163ecfd129row0_col24\" class=\"data row0 col24\" >4</td> \n",
       "        <td id=\"T_a01f1a1c_8559_11e8_a8b9_fa163ecfd129row0_col25\" class=\"data row0 col25\" >5</td> \n",
       "        <td id=\"T_a01f1a1c_8559_11e8_a8b9_fa163ecfd129row0_col26\" class=\"data row0 col26\" >4</td> \n",
       "        <td id=\"T_a01f1a1c_8559_11e8_a8b9_fa163ecfd129row0_col27\" class=\"data row0 col27\" >4</td> \n",
       "        <td id=\"T_a01f1a1c_8559_11e8_a8b9_fa163ecfd129row0_col28\" class=\"data row0 col28\" >4</td> \n",
       "        <td id=\"T_a01f1a1c_8559_11e8_a8b9_fa163ecfd129row0_col29\" class=\"data row0 col29\" >3</td> \n",
       "        <td id=\"T_a01f1a1c_8559_11e8_a8b9_fa163ecfd129row0_col30\" class=\"data row0 col30\" >3</td> \n",
       "        <td id=\"T_a01f1a1c_8559_11e8_a8b9_fa163ecfd129row0_col31\" class=\"data row0 col31\" >4</td> \n",
       "        <td id=\"T_a01f1a1c_8559_11e8_a8b9_fa163ecfd129row0_col32\" class=\"data row0 col32\" >2</td> \n",
       "        <td id=\"T_a01f1a1c_8559_11e8_a8b9_fa163ecfd129row0_col33\" class=\"data row0 col33\" >5</td> \n",
       "    </tr></tbody> \n",
       "</table> "
      ],
      "text/plain": [
       "<pandas.io.formats.style.Styler at 0x7f8e2a21b6a0>"
      ]
     },
     "metadata": {},
     "output_type": "display_data"
    }
   ],
   "source": [
    "df.iloc[0]\n",
    "pd.DataFrame(df.count()).transpose().style\n",
    "df['sample_dt'] =  pd.to_datetime(df['sample_dt'], format='%Y-%m-%d', errors='ignore')\n",
    "display(\"Number of variables in each column\",pd.DataFrame(df.count()).transpose().style)\n",
    "\n",
    "#Create table of parameter definitions\n",
    "url = 'f1'\n",
    "data = pd.read_csv(url, sep='\\t',skiprows=range(0, 6),header = [1],encoding='utf-8')\n",
    "data = data.drop(data.index[0])\n",
    "for i in ['f2','f3','f4','f5','f6','f7']:\n",
    "    temp_data = pd.read_csv(i,sep='\\t',header = None, encoding='utf-8')\n",
    "    temp_data.columns = data.columns.values\n",
    "    data = pd.concat([data,temp_data],ignore_index = True)\n",
    "    \n",
    "data['parm_cd'] = data['parm_cd'].astype('str') \n",
    "data['parm_nm'] = data['parm_nm'].astype('str') "
   ]
  },
  {
   "cell_type": "markdown",
   "metadata": {},
   "source": [
    "# Graph Data:"
   ]
  },
  {
   "cell_type": "code",
   "execution_count": 1,
   "metadata": {},
   "outputs": [
    {
     "ename": "NameError",
     "evalue": "name 'df' is not defined",
     "output_type": "error",
     "traceback": [
      "\u001b[1;31m---------------------------------------------------------------------------\u001b[0m",
      "\u001b[1;31mNameError\u001b[0m                                 Traceback (most recent call last)",
      "\u001b[1;32m<ipython-input-1-de713853ce06>\u001b[0m in \u001b[0;36m<module>\u001b[1;34m()\u001b[0m\n\u001b[1;32m----> 1\u001b[1;33m \u001b[0mcolumn_values\u001b[0m \u001b[1;33m=\u001b[0m \u001b[0mdf\u001b[0m\u001b[1;33m.\u001b[0m\u001b[0mcolumns\u001b[0m\u001b[1;33m.\u001b[0m\u001b[0mvalues\u001b[0m\u001b[1;33m[\u001b[0m\u001b[1;36m12\u001b[0m\u001b[1;33m:\u001b[0m\u001b[1;33m]\u001b[0m\u001b[1;33m\u001b[0m\u001b[0m\n\u001b[0m\u001b[0;32m      2\u001b[0m \u001b[1;32mfor\u001b[0m \u001b[0mindex\u001b[0m\u001b[1;33m,\u001b[0m\u001b[0mvalue\u001b[0m \u001b[1;32min\u001b[0m \u001b[0menumerate\u001b[0m\u001b[1;33m(\u001b[0m\u001b[0mcolumn_values\u001b[0m\u001b[1;33m)\u001b[0m\u001b[1;33m:\u001b[0m\u001b[1;33m\u001b[0m\u001b[0m\n\u001b[0;32m      3\u001b[0m     \u001b[0mcolumn_values\u001b[0m\u001b[1;33m[\u001b[0m\u001b[0mindex\u001b[0m\u001b[1;33m]\u001b[0m \u001b[1;33m=\u001b[0m \u001b[1;34m\"%s %s\"\u001b[0m\u001b[1;33m%\u001b[0m\u001b[1;33m(\u001b[0m\u001b[0mcolumn_values\u001b[0m\u001b[1;33m[\u001b[0m\u001b[0mindex\u001b[0m\u001b[1;33m]\u001b[0m\u001b[1;33m,\u001b[0m \u001b[0mdata\u001b[0m\u001b[1;33m[\u001b[0m\u001b[1;34m'parm_nm'\u001b[0m\u001b[1;33m]\u001b[0m\u001b[1;33m[\u001b[0m\u001b[0mdata\u001b[0m\u001b[1;33m[\u001b[0m\u001b[1;34m'parm_cd'\u001b[0m\u001b[1;33m]\u001b[0m \u001b[1;33m==\u001b[0m \u001b[0mvalue\u001b[0m\u001b[1;33m[\u001b[0m\u001b[1;36m1\u001b[0m\u001b[1;33m:\u001b[0m\u001b[1;33m]\u001b[0m\u001b[1;33m]\u001b[0m\u001b[1;33m)\u001b[0m\u001b[1;33m\u001b[0m\u001b[0m\n\u001b[0;32m      4\u001b[0m \u001b[0mcolumn_values\u001b[0m \u001b[1;33m=\u001b[0m \u001b[0mnp\u001b[0m\u001b[1;33m.\u001b[0m\u001b[0minsert\u001b[0m\u001b[1;33m(\u001b[0m\u001b[0mcolumn_values\u001b[0m\u001b[1;33m,\u001b[0m\u001b[1;36m0\u001b[0m\u001b[1;33m,\u001b[0m\u001b[1;34m'Choose Variable'\u001b[0m\u001b[1;33m)\u001b[0m\u001b[1;33m\u001b[0m\u001b[0m\n\u001b[0;32m      5\u001b[0m \u001b[0mcolumn_values\u001b[0m\u001b[1;33m\u001b[0m\u001b[0m\n",
      "\u001b[1;31mNameError\u001b[0m: name 'df' is not defined"
     ]
    }
   ],
   "source": [
    "column_values = df.columns.values[12:]\n",
    "for index,value in enumerate(column_values):\n",
    "    column_values[index] = \"%s %s\"%(column_values[index], data['parm_nm'][data['parm_cd'] == value[1:]])\n",
    "column_values = np.insert(column_values,0,'Choose Variable')\n",
    "column_values\n",
    "\n",
    "\n",
    "w = widgets.Dropdown(\n",
    "    options=column_values,\n",
    "    description='Number:',\n",
    "    disabled=False,\n",
    "    value = \"Choose Variable\"\n",
    ")\n",
    "\n",
    "#Describe what happens when the button changes its value\n",
    "def on_change(change):\n",
    "    if change['type'] == 'change' and change['name'] == 'value':\n",
    "        try:\n",
    "            df.sort_values('sample_dt', ascending=True)\n",
    "            plt.plot(df['sample_dt'], df[change['new'][0:6]])\n",
    "            xlabel('Time(years)')\n",
    "            title(change['new'])\n",
    "        except ValueError:\n",
    "            print('The column contains a Non-Integer Value! Nothing Can be Displayed!')\n",
    "\n",
    "\n",
    "w.observe(on_change)\n",
    "display(w)"
   ]
  },
  {
   "cell_type": "code",
   "execution_count": null,
   "metadata": {
    "collapsed": true,
    "jupyter": {
     "outputs_hidden": true
    }
   },
   "outputs": [],
   "source": []
  },
  {
   "cell_type": "code",
   "execution_count": null,
   "metadata": {
    "collapsed": true,
    "jupyter": {
     "outputs_hidden": true
    }
   },
   "outputs": [],
   "source": []
  },
  {
   "cell_type": "code",
   "execution_count": null,
   "metadata": {
    "collapsed": true,
    "jupyter": {
     "outputs_hidden": true
    }
   },
   "outputs": [],
   "source": []
  },
  {
   "cell_type": "code",
   "execution_count": null,
   "metadata": {
    "collapsed": true,
    "jupyter": {
     "outputs_hidden": true
    }
   },
   "outputs": [],
   "source": []
  }
 ],
 "metadata": {
  "kernelspec": {
   "display_name": "Python 3",
   "language": "python",
   "name": "python3"
  },
  "language_info": {
   "codemirror_mode": {
    "name": "ipython",
    "version": 3
   },
   "file_extension": ".py",
   "mimetype": "text/x-python",
   "name": "python",
   "nbconvert_exporter": "python",
   "pygments_lexer": "ipython3",
   "version": "3.8.8"
  }
 },
 "nbformat": 4,
 "nbformat_minor": 4
}
