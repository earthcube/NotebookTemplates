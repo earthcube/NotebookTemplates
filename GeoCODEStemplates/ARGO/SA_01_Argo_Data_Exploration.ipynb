{
 "cells": [
  {
   "cell_type": "markdown",
   "metadata": {},
   "source": [
    "# Interactive Jupyter notebook for hydrographic ocean data exploration, retrieval and visualization via the Argovis API\n"
   ]
  },
  {
   "cell_type": "markdown",
   "metadata": {
    "tags": [],
    "toc": true
   },
   "source": [
    "<h1>Table of Contents<span class=\"tocSkip\"></span></h1>\n",
    "<div class=\"toc\"><ul class=\"toc-item\"><li><span><a href=\"#Interactive-Jupyter-notebook-for-hydrographic-ocean-data-exploration,-retrieval-and-visualization-via-the-Argovis-API\" data-toc-modified-id=\"Interactive-Jupyter-notebook-for-hydrographic-ocean-data-exploration,-retrieval-and-visualization-via-the-Argovis-API-1\"><span class=\"toc-item-num\">1&nbsp;&nbsp;</span>Interactive Jupyter notebook for hydrographic ocean data exploration, retrieval and visualization via the Argovis API</a></span><ul class=\"toc-item\"><li><span><a href=\"#Authors-\" data-toc-modified-id=\"Authors--1.1\"><span class=\"toc-item-num\">1.1&nbsp;&nbsp;</span>Authors <a class=\"anchor\" id=\"Authors\"></a></a></span></li><li><span><a href=\"#Purpose\" data-toc-modified-id=\"Purpose-1.2\"><span class=\"toc-item-num\">1.2&nbsp;&nbsp;</span>Purpose</a></span></li><li><span><a href=\"#Technical-contributions\" data-toc-modified-id=\"Technical-contributions-1.3\"><span class=\"toc-item-num\">1.3&nbsp;&nbsp;</span>Technical contributions</a></span></li><li><span><a href=\"#Methodology\" data-toc-modified-id=\"Methodology-1.4\"><span class=\"toc-item-num\">1.4&nbsp;&nbsp;</span>Methodology</a></span></li><li><span><a href=\"#Results\" data-toc-modified-id=\"Results-1.5\"><span class=\"toc-item-num\">1.5&nbsp;&nbsp;</span>Results</a></span></li><li><span><a href=\"#Funding\" data-toc-modified-id=\"Funding-1.6\"><span class=\"toc-item-num\">1.6&nbsp;&nbsp;</span>Funding</a></span></li><li><span><a href=\"#Keywords\" data-toc-modified-id=\"Keywords-1.7\"><span class=\"toc-item-num\">1.7&nbsp;&nbsp;</span>Keywords</a></span></li><li><span><a href=\"#Citation\" data-toc-modified-id=\"Citation-1.8\"><span class=\"toc-item-num\">1.8&nbsp;&nbsp;</span>Citation</a></span></li><li><span><a href=\"#Work-In-Progress---improvements\" data-toc-modified-id=\"Work-In-Progress---improvements-1.9\"><span class=\"toc-item-num\">1.9&nbsp;&nbsp;</span>Work In Progress - improvements</a></span></li><li><span><a href=\"#Acknowledgements\" data-toc-modified-id=\"Acknowledgements-1.10\"><span class=\"toc-item-num\">1.10&nbsp;&nbsp;</span>Acknowledgements</a></span></li></ul></li><li><span><a href=\"#Setup\" data-toc-modified-id=\"Setup-2\"><span class=\"toc-item-num\">2&nbsp;&nbsp;</span>Setup</a></span><ul class=\"toc-item\"><li><span><a href=\"#Library-import\" data-toc-modified-id=\"Library-import-2.1\"><span class=\"toc-item-num\">2.1&nbsp;&nbsp;</span>Library import</a></span></li></ul></li><li><span><a href=\"#Data-processing\" data-toc-modified-id=\"Data-processing-3\"><span class=\"toc-item-num\">3&nbsp;&nbsp;</span>Data processing</a></span><ul class=\"toc-item\"><li><span><a href=\"#Collecting-Data\" data-toc-modified-id=\"Collecting-Data-3.1\"><span class=\"toc-item-num\">3.1&nbsp;&nbsp;</span>Collecting Data</a></span></li><li><span><a href=\"#Formatting-Data\" data-toc-modified-id=\"Formatting-Data-3.2\"><span class=\"toc-item-num\">3.2&nbsp;&nbsp;</span>Formatting Data</a></span></li></ul></li><li><span><a href=\"#Data-visualizations\" data-toc-modified-id=\"Data-visualizations-4\"><span class=\"toc-item-num\">4&nbsp;&nbsp;</span>Data visualizations</a></span><ul class=\"toc-item\"><li><span><a href=\"#Plotting-metadata-on-a-map\" data-toc-modified-id=\"Plotting-metadata-on-a-map-4.1\"><span class=\"toc-item-num\">4.1&nbsp;&nbsp;</span>Plotting metadata on a map</a></span></li><li><span><a href=\"#Generate-property-plots\" data-toc-modified-id=\"Generate-property-plots-4.2\"><span class=\"toc-item-num\">4.2&nbsp;&nbsp;</span>Generate property plots</a></span></li></ul></li><li><span><a href=\"#Learning-Objectives\" data-toc-modified-id=\"Learning-Objectives-5\"><span class=\"toc-item-num\">5&nbsp;&nbsp;</span>Learning Objectives</a></span></li><li><span><a href=\"#References\" data-toc-modified-id=\"References-6\"><span class=\"toc-item-num\">6&nbsp;&nbsp;</span>References</a></span></li></ul></div>"
   ]
  },
  {
   "cell_type": "markdown",
   "metadata": {},
   "source": [
    "## Authors <a class=\"anchor\" id=Authors></a>\n",
    "List authors, their current affiliations,  up-to-date contact information, and ORCID if available. Add as many author lines as you need. \n",
    "\n",
    "- Author1 = {\"name\": \"Susanna Anil\", \"affiliation\": \"University of California San Diego\", \"email\": \"sanil@ucsd.edu\", \"orcid\":}\n",
    "- Author2 = {\"name\": \"Steve Diggs\", \"affiliation\": \"Scripps Institution of Oceanography, University of California San Diego\", \"email\": sdiggs@ucsd.edu,\"orcid\": \"orcid.org/0000-0003-3814-6104\"}\n",
    "- Author3 = {\"name\": \"Sarah Purkey\", \"affiliation\": \"CASPO, Scripps Institution of Oceanography, La Jolla, CA, United States.\", \"email\": \"spurkey@ucsd.edu\", \"orcid\": \"orcid.org/0000-0002-1893-6224\"}\n",
    "- Author4 = {\"name\": \"Donata Giglio\", \"affiliation\": \"Department of Atmospheric and Oceanic Sciences, University of Colorado Boulder, Boulder, CO, United States\", \"email\": \"donata.giglio@colorado.edu\", \"orcid\": \"orcid.org/0000-0002-3738-4293\"}\n",
    "- Author5 = {\"name\": \"Megan Scanderbeg\", \"affiliation\": \"CASPO, Scripps Institution of Oceanography, La Jolla, CA, United States.\", \"email\": \"mscanderbeg@ucsd.edu\", \"orcid\": \"orcid.org/0000-0002-0398-7272\"}\n",
    "- Author6 = {\"name\": \"Tyler Tucker\", \"affiliation\": \"Department of Atmospheric and Oceanic Sciences, University of Colorado Boulder, Boulder, CO, United States\", \"email\": \"tytu6322@colorado.edu\", \"orcid\": \"orcid.org/0000-0002-0560-9777\"}"
   ]
  },
  {
   "cell_type": "markdown",
   "metadata": {
    "jp-MarkdownHeadingCollapsed": true,
    "tags": []
   },
   "source": [
    "## Purpose\n",
    "[Argovis](https://argovis.colorado.edu/) allows access to a curated database of Argo profiles via API (Tucker et al. 2020). The interface allows users to visualize temperature, salinity and biogeochemical data (or BGC) by location on a browser. This notebook demonstrates how to use the Argovis API to visualize salinity and temperature property distributions below the ocean surface. This educational template is designed for an undergraduate or graduate student taking their first class in oceanography. Basic oceanographic concepts are introduced, in line with the most introductory classes, as well as introducing students to Argo data and teaching some basic programming concepts.\n",
    "\n",
    "- The first half of the notebook goes over how to query data with user-defined parameters and use the API to retrieve data\n",
    "- The second part of the notebook will allow users to plot the location of the data on a map and plot property plots to gain insights into observed water masses\n",
    "\n",
    "This notebook uses a template adapted from [notebook submitted for the 2020 EarthCube notebooks show case](https://doi.org/10.5281/zenodo.5496281). The future versions of this notebook will continue to extend the capabilities of the Argovis API to generate learnable material with vast applications. Whether you’re a first-time programmer or a new oceanography student, this notebook will guide you through the basic but formative steps to studying the ocean. \n",
    "\n",
    "\n",
    "\n",
    "## Technical contributions\n",
    "- Leverage the existing [Argovis API](https://github.com/tylertucker202/EC-Argovis-API-Demo) functions  to compile, query and plot global data from the Argovis interface. \n",
    "- Teach fundamental concepts about interior ocean properties \n",
    "- Introduce functions and interactive widgets to plot property-property plots of ocean profiles to grow familiar with ocean metrics\n",
    "\n",
    "\n",
    "## Methodology\n",
    "The notebook utilizes basic python packages for data manipulation and visualization: pandas, numpy, matplotlib, and cartopy. \n",
    "This notebook features a tutorial on how to use the Argovis API and make scientific inferences from subsurface ocean property profile plots. It leads with learning objectives, followed by an execution of the code and ends with some insightful questions to promote learning. We implement a few functions from the notebook by Tucker at al. 2020, specifically `get_selection_profiles` and `parse_into_df` to query and compile data with the API. The function `plot_pmesh` was modified to plot the selection profiles onto a global map for spatial reference. \n",
    "\n",
    "## Results\n",
    "The primary objective of this notebook is to serve as a learning tool for undergraduate and graduate students in introductory oceanography classes. Once we add more activites to this notebook to cover the fundamentals of reading ocean data, it will be featured in oceanography classes starting in Fall 2021 at University of California, San Diego and University of Colorado Boulder. \n",
    "\n",
    "## Funding\n",
    "- Award1 = {\"agency\": \"US National Science Foundation\", \"award_code\": \"2026776\", \"award_URL\":  [http://www.nsf.gov/awardsearch/showAward?AWD_ID=2026776&HistoricalAwards=false](http://www.nsf.gov/awardsearch/showAward?AWD_ID=2026776&HistoricalAwards=false)}\n",
    "- Award2 = {\"agency\": \"US National Science Foundation\", \"award_code\": \"1928305\", \"award_URL\": \n",
    " [https://www.nsf.gov/awardsearch/showAward?AWD_ID=1928305&HistoricalAwards=false](https://www.nsf.gov/awardsearch/showAward?AWD_ID=1928305&HistoricalAwards=false)}\n",
    "- Award3 = {\"agency\": \" NOAA Cooperative Agreement Grant \", \"award_code\": \"NA16SEC4810008\", \"award_URL\":    [https://govtribe.com/award/federal-grant-award/cooperative-agreement-na16sec4810008](https://govtribe.com/award/federal-grant-award/cooperative-agreement-na16sec4810008)}\n",
    "\n",
    "\n",
    "## Keywords\n",
    "keywords=[\"Argovis\", \"hydrographic data\", \"profiling floats\", \"exploring ocean data\", \"in-situ ocean observations\"]\n",
    "\n",
    "## Citation\n",
    "Anil, S., Diggs, S., Purkey, S., Giglio, D., Scanderbeg, M., Tucker, T. (2021). Interactive Jupyter notebook for hydrographic ocean data exploration, retrieval and visualization via the Argovis API. Jupyter Notebook [github url] [a DOI will be assigned after review]\n",
    "\n",
    "## Work In Progress - improvements\n",
    "Notable TODOs:\n",
    "- Including more shapes for possible regions of interest \n",
    "- Including contour plots by time, latitude and longitude\n",
    "- Further development of educational materials in coordination with Professors Purkey and Giglio\n",
    "\n",
    "## Acknowledgements \n",
    "Thank you Earthcube for the opportunity. \n",
    "\n",
    "These data were collected and made freely available by the [International Argo Program](https://argo.ucsd.edu) and the national programs that contribute to it. The Argo Program is part of the [Global Ocean Observing System](https://www.ocean-ops.org). "
   ]
  },
  {
   "cell_type": "markdown",
   "metadata": {
    "tags": []
   },
   "source": [
    "#github.com/nteract/papermill'parameters'tag used to inject them into template then post a gist runable by colab\n",
    "url,ext,urn=None,None,None# Setup\n",
    "\n",
    "## Library import\n",
    "These are some fundamental libraries that are very common in data analysis and visualization functions. Included below is a short description of each library and a link to its documentation for further reading. \n",
    "- `numpy`: a fundamental package for scientific computing\n",
    "https://numpy.org/doc/stable/user/whatisnumpy.html\n",
    "- `pandas`: package with various data anlysis methods and easy-to-use dataframes \n",
    "https://pandas.pydata.org/docs/#module-pandas \n",
    "- `datetime`: module for manipulating dates and times \n",
    "https://docs.python.org/3/library/datetime.html\n",
    "- `matplotlib`: package with various visualization methods\n",
    "https://matplotlib.org/\n",
    "- `cartopy`: package designed for analyzing and visualizing geospatial data\n",
    "https://scitools.org.uk/cartopy/docs/latest/\n",
    "- `ipywidgets`: implement interactive widgets with Jupyter notebooks\n",
    "https://ipywidgets.readthedocs.io/en/latest/"
   ]
  },
  {
   "cell_type": "code",
   "execution_count": null,
   "metadata": {},
   "outputs": [],
   "source": [
    "#github.com/nteract/papermill'parameters'tag used to inject them into template then post a gist runable by colab\n",
    "url,ext,urn=None,None,None\n",
    "\n",
    "# Parameters\n",
    "# these parameters are passed from the GeoCodes Searth interface; \n",
    "# Since this notebook used API for access, none of the parameters are needed\n",
    "# They are included here for compatibility with notebook template pattern used to link to the GeoCODES search UI\n",
    "url = \"\"\n",
    "ext = \"\"\n",
    "urn = \"\""
   ]
  },
  {
   "cell_type": "code",
   "execution_count": null,
   "metadata": {},
   "outputs": [],
   "source": [
    "#data processing\n",
    "import requests\n",
    "import numpy as np\n",
    "import pandas as pd\n",
    "from datetime import datetime, timedelta\n",
    "\n",
    "#data visualization\n",
    "import matplotlib.pylab as plt\n",
    "%matplotlib inline\n",
    "\n",
    "#used for map projections\n",
    "import cartopy.crs as ccrs\n",
    "\n",
    "#widgets for user interaction\n",
    "import ipywidgets as widgets\n",
    "\n",
    "import warnings\n",
    "warnings.filterwarnings('ignore')"
   ]
  },
  {
   "cell_type": "markdown",
   "metadata": {},
   "source": [
    "\n",
    "# Data processing\n",
    "The following functions are from the Argovis API notebook. Reference [this github repository](https://github.com/earthcube2020/ec20_tucker_etal) for further methods on data querying based on space/time selection. "
   ]
  },
  {
   "cell_type": "markdown",
   "metadata": {},
   "source": [
    "## Collecting Data\n",
    "To query results from a specific space and time selection, the following Argo API functions will format your specifications into a URL that requests the data from the Argovis website and return a file with all of the data. \n",
    "\n",
    "The parameters that will be adjusted:\n",
    "- `startDate`: string formatted as 'YYYY-MM-DD'\n",
    "- `endDate`: string formatted as 'YYYY-MM-DD'\n",
    "- `shape`: list of lists containing [lon, lat] coordinates\n",
    "- `presRange`: a string of a list formatted as '[minimum pres,maximum pres]' (no spaces)\n",
    "- `printUrl`: boolean (True/False option) that prints url output if equal to True"
   ]
  },
  {
   "cell_type": "code",
   "execution_count": null,
   "metadata": {},
   "outputs": [],
   "source": [
    "def get_selection_profiles(startDate, endDate, shape, presRange=None, printUrl=True):\n",
    "    url = 'https://argovis.colorado.edu/selection/profiles'\n",
    "    url += '?startDate={}'.format(startDate)\n",
    "    url += '&endDate={}'.format(endDate)\n",
    "    url += '&shape={}'.format(shape)\n",
    "    if presRange:\n",
    "        pressRangeQuery = '&presRange=' + presRange\n",
    "        url += pressRangeQuery                         #compose URL with selection parameters\n",
    "    if printUrl:\n",
    "        print(url)\n",
    "    resp = requests.get(url)\n",
    "    # Consider any status other than 2xx an error\n",
    "    if not resp.status_code // 100 == 2:\n",
    "        return \"Error: Unexpected response {}\".format(resp)\n",
    "    selectionProfiles = resp.json()\n",
    "    return selectionProfiles"
   ]
  },
  {
   "cell_type": "markdown",
   "metadata": {},
   "source": [
    "## Formatting Data\n",
    "In `parse_into_df()` the argument `profiles` will be the URL from the previous function. The given data file will be be cleaned and formatted into a dataframe with the following columns: \n",
    "- Pressure [dbar]\n",
    "- Temperature [Celsius] \n",
    "- Salinity [psu]\n",
    "- Cycle Number\n",
    "- Profile ID\n",
    "- Latitude\n",
    "- Longitude\n",
    "- Date of input"
   ]
  },
  {
   "cell_type": "code",
   "execution_count": null,
   "metadata": {},
   "outputs": [],
   "source": [
    "def parse_into_df(profiles):\n",
    "    meas_keys = profiles[0]['measurements'][0].keys()\n",
    "    df = pd.DataFrame(columns=meas_keys)      #create dataframe for profiles \n",
    "    for profile in profiles:                  #specify columns for profile measurements\n",
    "        profileDf = pd.DataFrame(profile['measurements'])    \n",
    "        profileDf['cycle_number'] = profile['cycle_number']\n",
    "        profileDf['profile_id'] = profile['_id']\n",
    "        profileDf['lat'] = profile['lat']\n",
    "        profileDf['lon'] = profile['lon']\n",
    "        profileDf['date'] = profile['date']\n",
    "        df = pd.concat([df, profileDf], sort=False)\n",
    "    return df"
   ]
  },
  {
   "cell_type": "markdown",
   "metadata": {},
   "source": [
    "**Try it yourself:** Adjust the first four variables (shape, startDate, endDate, presRange) to query results from Argo data. This cell will return the URL to a page containing all of the metadata within your specified parameters.   "
   ]
  },
  {
   "cell_type": "code",
   "execution_count": null,
   "metadata": {},
   "outputs": [],
   "source": [
    "#replace the following variables \n",
    "shape = [[[-144.84375,36.031332],[-136.038755,36.210925],[-127.265625,35.746512],[-128.144531,22.755921],[-136.543795,24.835311],[-145.195313,26.431228],[-144.84375,36.031332]]]\n",
    "startDate='2021-4-10'\n",
    "endDate='2021-6-29'\n",
    "presRange='[0,500]'\n",
    "\n",
    "# do not change code below\n",
    "strShape = str(shape).replace(' ', '')\n",
    "selectionProfiles = get_selection_profiles(startDate, endDate, strShape, presRange)"
   ]
  },
  {
   "cell_type": "markdown",
   "metadata": {},
   "source": [
    "Here we are checking that our data file is not empty then calling `parse_into_df` to create a data frame out of the values found in the file. Then to complete the data cleaning process, we replace all occurences of -999, which is a placeholder value for null or missing values in the data, with the null keyword: NaN. This is crucial to the data cleaning step because we do not want these large negative values to affect our data analysis and/or skew our visualizations. "
   ]
  },
  {
   "cell_type": "code",
   "execution_count": null,
   "metadata": {},
   "outputs": [],
   "source": [
    "if len(selectionProfiles) > 0:                            \n",
    "    selectionDf = parse_into_df(selectionProfiles)\n",
    "selectionDf.replace(-999, np.nan, inplace=True)           #replace -999 with NaN"
   ]
  },
  {
   "cell_type": "markdown",
   "metadata": {},
   "source": [
    "Below is all of the data cleaned and formatted properly. "
   ]
  },
  {
   "cell_type": "code",
   "execution_count": null,
   "metadata": {
    "scrolled": true
   },
   "outputs": [],
   "source": [
    "selectionDf = parse_into_df(selectionProfiles)\n",
    "selectionDf"
   ]
  },
  {
   "cell_type": "markdown",
   "metadata": {},
   "source": [
    "# Data visualizations"
   ]
  },
  {
   "cell_type": "markdown",
   "metadata": {},
   "source": [
    "## Plotting metadata on a map\n",
    "This function will take the coordinates from the profiles in your selection dataframe and plot them onto a map. Use this to reference how many floats are in your selection and predict what kind of temperature and salinity values you might see in the next step.\n",
    "\n",
    "**Try it yourself:** Explore the functionality of the previous methods by experimenting with your selection parameters. "
   ]
  },
  {
   "cell_type": "code",
   "execution_count": null,
   "metadata": {},
   "outputs": [],
   "source": [
    "def plot_pmesh(figsize=(12,12), shrinkcbar=.1, delta_lon=50, delta_lat=50, \\\n",
    "               map_proj=ccrs.PlateCarree(), xlims=None):\n",
    "    df = selectionDf\n",
    "    fig = plt.figure(figsize=figsize)\n",
    "    \n",
    "    #collect lon, lat values to create coordinates\n",
    "    x = df['lon'].values                   \n",
    "    y = df['lat'].values\n",
    "    points = map_proj.transform_points(ccrs.Geodetic(), x, y)\n",
    "    x = points[:, 0]\n",
    "    y = points[:, 1]\n",
    "    \n",
    "    #plot coordinates\n",
    "    map_proj._threshold /= 100\n",
    "    ax = plt.axes(projection=map_proj, xlabel='long', ylabel='lats')\n",
    "    ax.set_global()\n",
    "    plt.title('Spatial selection of Argo profile locations on map')\n",
    "    sct = plt.scatter(x, y, c='r', s=15,zorder=3) \n",
    "    \n",
    "    #specify boundaries for map plot\n",
    "    if not xlims:\n",
    "        xlims = [df['lon'].max() + delta_lon, df['lon'].min()- delta_lon]\n",
    "    ax.set_xlim(min(xlims), max(xlims))\n",
    "    ax.set_ylim(min(df['lat']) - delta_lat, max(df['lat']) + delta_lat)\n",
    "    \n",
    "    ax.coastlines(zorder=1)\n",
    "    ax.stock_img()\n",
    "    ax.gridlines()\n",
    "    return fig\n",
    "\n",
    "# run function \n",
    "map_viz = plot_pmesh()"
   ]
  },
  {
   "cell_type": "markdown",
   "metadata": {},
   "source": [
    "## Generate property plots\n",
    "To visualize relationships between profile measurements, we can plot features in a property plot. Each line is specified by `z_col` which can be any of the following: \n",
    "- `profile_id`\n",
    "- `date`"
   ]
  },
  {
   "cell_type": "code",
   "execution_count": null,
   "metadata": {},
   "outputs": [],
   "source": [
    "#options for drop-drown menus\n",
    "x = [('Temperature', 'temp'),('Pressure', 'pres'),('Salinity', 'psal')]\n",
    "y = [('Pressure', 'pres'),('Temperature', 'temp'),('Salinity', 'psal')]\n",
    "z = [('Profile ID', 'profile_id'),('Date', 'date')]\n",
    "\n",
    "#initialize widgets\n",
    "x_drop = widgets.Dropdown(options=x, val='Temperature', description='X-variable', disabled=False)\n",
    "y_drop = widgets.Dropdown(options=y, val='Pressure', description='Y-variable', disabled=False)\n",
    "z_drop = widgets.Dropdown(options=z, val='Profile ID', description='Z-variable', disabled=False)\n",
    "widgets.VBox([x_drop, y_drop, z_drop])\n",
    "\n",
    "unit_dict = {'pres':'Pressure [dbar]', 'temp': 'Temperature [Celsius]', 'psal':'Salinity [psu]'}\n",
    "def property_plot_selection(x_col, y_col, z_col):\n",
    "    print('Recalculating....')\n",
    "    fig, ax = plt.subplots()\n",
    "    \n",
    "    #group lines by z-variable\n",
    "    for key, group in selectionDf.groupby([z_col]):\n",
    "        ax = group.plot(ax=ax, kind='line', x=x_col, y=y_col, label=key, figsize=(15,10), legend=None)\n",
    "    \n",
    "    #inverse y-axis if pressure is chosen\n",
    "    if y_col == 'pres':\n",
    "        ax.set_ylim(ax.get_ylim()[::-1])\n",
    "    \n",
    "    #generate plot\n",
    "    ax.set_title(unit_dict[x_col].split(' ')[0]+ ' vs. ' +unit_dict[y_col].split(' ')[0] + ' Argo profiles')\n",
    "    ax.set_xlabel(unit_dict[x_col])\n",
    "    ax.set_ylabel(unit_dict[y_col])"
   ]
  },
  {
   "cell_type": "markdown",
   "metadata": {},
   "source": [
    "**Try it yourself:** Use the dropdown menus below to graph your x, y and z columns. Here are a few suggestions to practice visualizing your data: \n",
    "- Temperature vs. pressure\n",
    "- Salinity vs. pressure\n",
    "- Salinity vs. temperature\n",
    "\n",
    "<div class=\"alert alert-block alert-danger\">\n",
    "    <b>Warning</b>: If a KeyError occurs in the following cell, make sure your X and Y variables are not the same then re-run the cell. \n",
    "</div>\n"
   ]
  },
  {
   "cell_type": "code",
   "execution_count": null,
   "metadata": {},
   "outputs": [],
   "source": [
    "plot_shape = widgets.interact(property_plot_selection, x_col=x_drop, y_col=y_drop, z_col=z_drop)\n",
    "plot_shape"
   ]
  },
  {
   "cell_type": "markdown",
   "metadata": {},
   "source": [
    "# References\n",
    "\n",
    "1. Argovis background: Tucker, T., Giglio, D., Scanderbeg, M., & Shen, S. S. P. (2020). Argovis: A Web Application for Fast Delivery, Visualization, and Analysis of Argo Data, Journal of Atmospheric and Oceanic Technology, 37(3), 401-416. Retrieved May 14, 2021, from https://journals.ametsoc.org/view/journals/atot/37/3/JTECH-D-19-0041.1.xml\n",
    "2. Argovis website: https://argovis.colorado.edu/\n",
    "3. Argovis API notebook: https://github.com/earthcube2020/ec20_tucker_etal \n",
    "4. Jupyter widgets documentation: https://ipywidgets.readthedocs.io/en/latest/\n",
    "5. Jupyter notebooks featured at Earthcube 2020 Annual meeting: https://www.earthcube.org/notebooks"
   ]
  }
 ],
 "metadata": {
  "kernelspec": {
   "display_name": "Python 3 (ipykernel)",
   "language": "python",
   "name": "python3"
  },
  "language_info": {
   "codemirror_mode": {
    "name": "ipython",
    "version": 3
   },
   "file_extension": ".py",
   "mimetype": "text/x-python",
   "name": "python",
   "nbconvert_exporter": "python",
   "pygments_lexer": "ipython3",
   "version": "3.8.12"
  },
  "toc": {
   "base_numbering": 1,
   "nav_menu": {},
   "number_sections": true,
   "sideBar": true,
   "skip_h1_title": false,
   "title_cell": "Table of Contents",
   "title_sidebar": "Contents",
   "toc_cell": true,
   "toc_position": {
    "height": "47px",
    "left": "133px",
    "top": "144px",
    "width": "212px"
   },
   "toc_section_display": true,
   "toc_window_display": false
  },
  "varInspector": {
   "cols": {
    "lenName": 16,
    "lenType": 16,
    "lenVar": 40
   },
   "kernels_config": {
    "python": {
     "delete_cmd_postfix": "",
     "delete_cmd_prefix": "del ",
     "library": "var_list.py",
     "varRefreshCmd": "print(var_dic_list())"
    },
    "r": {
     "delete_cmd_postfix": ") ",
     "delete_cmd_prefix": "rm(",
     "library": "var_list.r",
     "varRefreshCmd": "cat(var_dic_list()) "
    }
   },
   "types_to_exclude": [
    "module",
    "function",
    "builtin_function_or_method",
    "instance",
    "_Feature"
   ],
   "window_display": false
  }
 },
 "nbformat": 4,
 "nbformat_minor": 4
}
