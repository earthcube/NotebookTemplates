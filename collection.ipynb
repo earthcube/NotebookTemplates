{
 "cells": [
  {
   "cell_type": "code",
   "execution_count": null,
   "metadata": {},
   "outputs": [],
   "source": [
    "import ipyparams\n",
    "import json"
   ]
  },
  {
   "cell_type": "code",
   "execution_count": null,
   "metadata": {
    "tags": [
     "parameters"
    ]
   },
   "outputs": [],
   "source": [
    "ds = ipyparams.params['collection']\n",
    "print(ds)\n",
    "dso = json.loads(ds)\n",
    "# if this cell fails the first run.\n",
    "# run a second time, and it works.\n",
    "datasets,tools, queries =dso.get('datasets'),dso.get('tools'), dso.get('queries')\n",
    "print(f'datasets={datasets}')\n",
    "print(f'===')\n",
    "for d in datasets:\n",
    "    print (f'g={d.get(\"g\")} \\nname= \"{d.get(\"name\")}\"  \\n ====' )\n",
    "\n",
    "urn = datasets[0].g\n",
    "url = datasets[0].disurl[0]"
   ]
  },
  {
   "cell_type": "code",
   "execution_count": null,
   "metadata": {
    "pycharm": {
     "name": "#%%\n"
    }
   },
   "outputs": [],
   "source": [
    "import httpimport\n",
    "with httpimport.github_repo('earthcube', 'earthcube_utilities'):\n",
    "    import earthcube_utilities as ec\n",
    "#ec.wget_rdf(urn)\n",
    "ec.wget_rdf(urn)\n",
    "#!ls -l, to see it\n",
    "df=ec.read_file(url)\n",
    "df"
   ]
  },
  {
   "cell_type": "code",
   "execution_count": null,
   "metadata": {
    "pycharm": {
     "name": "#%%\n"
    }
   },
   "outputs": [],
   "source": [
    "!ls -l"
   ]
  },
  {
   "cell_type": "code",
   "execution_count": null,
   "metadata": {
    "pycharm": {
     "name": "#%%\n"
    }
   },
   "outputs": [],
   "source": [
    "ec.viz()"
   ]
  },
  {
   "cell_type": "code",
   "execution_count": null,
   "metadata": {
    "pycharm": {
     "name": "#%%\n"
    }
   },
   "outputs": [],
   "source": [
    "\n"
   ]
  }
 ],
 "metadata": {
  "celltoolbar": "Tags",
  "kernelspec": {
   "display_name": "Python 3",
   "language": "python",
   "name": "python3"
  },
  "language_info": {
   "codemirror_mode": {
    "name": "ipython",
    "version": 3
   },
   "file_extension": ".py",
   "mimetype": "text/x-python",
   "name": "python",
   "nbconvert_exporter": "python",
   "pygments_lexer": "ipython3",
   "version": "3.7.10"
  }
 },
 "nbformat": 4,
 "nbformat_minor": 4
}