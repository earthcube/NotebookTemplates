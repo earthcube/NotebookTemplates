{
 "cells": [
  {
   "cell_type": "code",
   "execution_count": 1,
   "metadata": {
    "collapsed": true
   },
   "outputs": [],
   "source": [
    "from minio import Minio\n"
   ]
  },
  {
   "cell_type": "code",
   "execution_count": 2,
   "outputs": [],
   "source": [
    "client = Minio(\"oss.geocodes.earthcube.org\")"
   ],
   "metadata": {
    "collapsed": false,
    "pycharm": {
     "name": "#%%\n"
    }
   }
  },
  {
   "cell_type": "code",
   "execution_count": 11,
   "outputs": [
    {
     "name": "stdout",
     "output_type": "stream",
     "text": [
      "summoned/amgeo/\n",
      "summoned/aquadocs/\n",
      "summoned/bco-dmo/\n",
      "summoned/bcodmo/\n",
      "summoned/cchdo/\n",
      "summoned/designsafe/\n",
      "summoned/earthchem/\n",
      "summoned/ecrr_submitted/\n",
      "summoned/edi/\n",
      "summoned/geocodes_demo_datasets/\n",
      "summoned/geocodes_examples/\n",
      "summoned/hydroshare/\n",
      "summoned/ieda/\n",
      "summoned/iedadata/\n",
      "summoned/iris/\n",
      "summoned/linked.earth/\n",
      "summoned/lipdverse/\n",
      "summoned/lipidverse/\n",
      "summoned/magic/\n",
      "summoned/neon/\n",
      "summoned/ocd/\n",
      "summoned/opentopo/\n",
      "summoned/opentopography/\n",
      "summoned/r2r/\n",
      "summoned/samplesearth/\n",
      "summoned/ssdb.iodp/\n",
      "summoned/ssdb/\n",
      "summoned/ucar/\n",
      "summoned/unavco/\n",
      "summoned/usap-dc/\n"
     ]
    }
   ],
   "source": [
    "objects = client.list_objects(\"gleaner\", prefix=\"summoned/\")\n",
    "for obj in objects:\n",
    "    print(obj.object_name)"
   ],
   "metadata": {
    "collapsed": false,
    "pycharm": {
     "name": "#%%\n"
    }
   }
  },
  {
   "cell_type": "code",
   "execution_count": 13,
   "outputs": [],
   "source": [
    "for obj in objects:\n",
    "    summoned_objects = client.list_objects(\"gleaner\", prefix=obj.object_name)\n",
    "    print (len(summoned_objects ) )"
   ],
   "metadata": {
    "collapsed": false,
    "pycharm": {
     "name": "#%%\n"
    }
   }
  },
  {
   "cell_type": "code",
   "execution_count": null,
   "outputs": [],
   "source": [],
   "metadata": {
    "collapsed": false,
    "pycharm": {
     "name": "#%%\n"
    }
   }
  }
 ],
 "metadata": {
  "kernelspec": {
   "display_name": "Python 3",
   "language": "python",
   "name": "python3"
  },
  "language_info": {
   "codemirror_mode": {
    "name": "ipython",
    "version": 2
   },
   "file_extension": ".py",
   "mimetype": "text/x-python",
   "name": "python",
   "nbconvert_exporter": "python",
   "pygments_lexer": "ipython2",
   "version": "2.7.6"
  }
 },
 "nbformat": 4,
 "nbformat_minor": 0
}