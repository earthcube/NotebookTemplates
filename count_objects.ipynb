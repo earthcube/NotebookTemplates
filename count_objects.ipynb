{
 "cells": [
  {
   "cell_type": "code",
   "execution_count": 48,
   "metadata": {
    "collapsed": true
   },
   "outputs": [],
   "source": [
    "from minio import Minio\n"
   ]
  },
  {
   "cell_type": "code",
   "execution_count": 49,
   "outputs": [],
   "source": [
    "client = Minio(\"oss.geocodes.earthcube.org\")"
   ],
   "metadata": {
    "collapsed": false,
    "pycharm": {
     "name": "#%%\n"
    }
   }
  },
  {
   "cell_type": "code",
   "execution_count": 50,
   "outputs": [
    {
     "name": "stdout",
     "output_type": "stream",
     "text": [
      "summoned/amgeo/\n",
      "summoned/aquadocs/\n",
      "summoned/bco-dmo/\n",
      "summoned/bcodmo/\n",
      "summoned/cchdo/\n",
      "summoned/designsafe/\n",
      "summoned/earthchem/\n",
      "summoned/ecrr_submitted/\n",
      "summoned/edi/\n",
      "summoned/geocodes_demo_datasets/\n",
      "summoned/geocodes_examples/\n",
      "summoned/hydroshare/\n",
      "summoned/ieda/\n",
      "summoned/iedadata/\n",
      "summoned/iris/\n",
      "summoned/linked.earth/\n",
      "summoned/lipdverse/\n",
      "summoned/lipidverse/\n",
      "summoned/magic/\n",
      "summoned/neon/\n",
      "summoned/ocd/\n",
      "summoned/opentopo/\n",
      "summoned/opentopography/\n",
      "summoned/r2r/\n",
      "summoned/samplesearth/\n",
      "summoned/ssdb.iodp/\n",
      "summoned/ssdb/\n",
      "summoned/ucar/\n",
      "summoned/unavco/\n",
      "summoned/usap-dc/\n"
     ]
    }
   ],
   "source": [
    "objects = client.list_objects(\"gleaner\", prefix=\"summoned/\")\n",
    "for obj in objects:\n",
    "    print(obj.object_name)"
   ],
   "metadata": {
    "collapsed": false,
    "pycharm": {
     "name": "#%%\n"
    }
   }
  },
  {
   "cell_type": "code",
   "execution_count": 44,
   "outputs": [],
   "source": [],
   "metadata": {
    "collapsed": false,
    "pycharm": {
     "name": "#%%\n"
    }
   }
  },
  {
   "cell_type": "code",
   "execution_count": 52,
   "outputs": [
    {
     "name": "stdout",
     "output_type": "stream",
     "text": [
      "1\n",
      "2\n",
      "3\n",
      "4\n",
      "5\n",
      "5\n"
     ]
    },
    {
     "data": {
      "text/plain": "5"
     },
     "execution_count": 52,
     "metadata": {},
     "output_type": "execute_result"
    }
   ],
   "source": [
    "summoned_objects = client.list_objects(\"gleaner\", prefix='summoned/amgeo/')\n",
    "count = 0\n",
    "for obj in summoned_objects:\n",
    "    count = count +1\n",
    "    print (count)\n",
    "print (count)\n",
    "count"
   ],
   "metadata": {
    "collapsed": false,
    "pycharm": {
     "name": "#%%\n"
    }
   }
  },
  {
   "cell_type": "code",
   "execution_count": 57,
   "outputs": [],
   "source": [
    "for obj in summoned_objects:\n",
    "    print (obj.object_name)\n",
    "    summoned_objects = client.list_objects(\"gleaner\", prefix=obj.object_name)\n",
    "    count_obj = 0\n",
    "    for sobj in summoned_objects:\n",
    "        count_obj = count_obj +1\n",
    "\n",
    "    print (count_obj)"
   ],
   "metadata": {
    "collapsed": false,
    "pycharm": {
     "name": "#%%\n"
    }
   }
  },
  {
   "cell_type": "code",
   "execution_count": 46,
   "outputs": [],
   "source": [],
   "metadata": {
    "collapsed": false,
    "pycharm": {
     "name": "#%%\n"
    }
   }
  },
  {
   "cell_type": "code",
   "execution_count": null,
   "outputs": [],
   "source": [],
   "metadata": {
    "collapsed": false,
    "pycharm": {
     "name": "#%%\n"
    }
   }
  }
 ],
 "metadata": {
  "kernelspec": {
   "display_name": "Python 3",
   "language": "python",
   "name": "python3"
  },
  "language_info": {
   "codemirror_mode": {
    "name": "ipython",
    "version": 2
   },
   "file_extension": ".py",
   "mimetype": "text/x-python",
   "name": "python",
   "nbconvert_exporter": "python",
   "pygments_lexer": "ipython2",
   "version": "2.7.6"
  }
 },
 "nbformat": 4,
 "nbformat_minor": 0
}